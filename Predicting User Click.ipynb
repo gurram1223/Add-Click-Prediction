{
  "nbformat": 4,
  "nbformat_minor": 0,
  "metadata": {
    "kernelspec": {
      "name": "python3",
      "display_name": "Python 3"
    },
    "language_info": {
      "codemirror_mode": {
        "name": "ipython",
        "version": 3
      },
      "file_extension": ".py",
      "mimetype": "text/x-python",
      "name": "python",
      "nbconvert_exporter": "python",
      "pygments_lexer": "ipython3",
      "version": "3.7.3"
    },
    "colab": {
      "name": "KDD_Casestudy_classification_modified-Copy1.ipynb",
      "provenance": [],
      "collapsed_sections": [],
      "toc_visible": true
    },
    "accelerator": "GPU"
  },
  "cells": [
    {
      "cell_type": "markdown",
      "metadata": {
        "id": "e80bYBTasXuK",
        "colab_type": "text"
      },
      "source": [
        "# Predicting User Click"
      ]
    },
    {
      "cell_type": "code",
      "metadata": {
        "id": "pE8G92mU5IvB",
        "colab_type": "code",
        "outputId": "d3eb0400-44fe-4c75-9f11-cf84af80295f",
        "colab": {
          "base_uri": "https://localhost:8080/",
          "height": 122
        }
      },
      "source": [
        "from google.colab import drive\n",
        "drive.mount('/content/drive')"
      ],
      "execution_count": 0,
      "outputs": [
        {
          "output_type": "stream",
          "text": [
            "Go to this URL in a browser: https://accounts.google.com/o/oauth2/auth?client_id=947318989803-6bn6qk8qdgf4n4g3pfee6491hc0brc4i.apps.googleusercontent.com&redirect_uri=urn%3Aietf%3Awg%3Aoauth%3A2.0%3Aoob&scope=email%20https%3A%2F%2Fwww.googleapis.com%2Fauth%2Fdocs.test%20https%3A%2F%2Fwww.googleapis.com%2Fauth%2Fdrive%20https%3A%2F%2Fwww.googleapis.com%2Fauth%2Fdrive.photos.readonly%20https%3A%2F%2Fwww.googleapis.com%2Fauth%2Fpeopleapi.readonly&response_type=code\n",
            "\n",
            "Enter your authorization code:\n",
            "··········\n",
            "Mounted at /content/drive\n"
          ],
          "name": "stdout"
        }
      ]
    },
    {
      "cell_type": "markdown",
      "metadata": {
        "id": "835p1llKsXuN",
        "colab_type": "text"
      },
      "source": [
        "## Problem Description"
      ]
    },
    {
      "cell_type": "markdown",
      "metadata": {
        "id": "arVdSJw-sXuO",
        "colab_type": "text"
      },
      "source": [
        "__ Introduction: <br> Clickthrough rate (CTR) __\n",
        "is a ratio showing how often people who see your ad end up clicking it. Clickthrough rate (CTR) can be used to gauge how well your keywords and ads are performing.\n",
        "\n",
        "- CTR is the number of clicks that your ad receives divided by the number of times your ad is shown: clicks ÷ impressions = CTR. For example, if you had 5 clicks and 100 impressions, then your CTR would be 5%.\n",
        "\n",
        "- Each of your ads and keywords have their own CTRs that you can see listed in your account.\n",
        "- A high CTR is a good indication that users find your ads helpful and relevant. CTR also contributes to your keyword's expected CTR, which is a component of Ad Rank. Note that a good CTR is relative to what you're advertising and on which networks.\n",
        "> Credits: Google (https://support.google.com/adwords/answer/2615875?hl=en) \n",
        "\n",
        "<p> Search advertising has been one of the major revenue sources of the Internet industry for years. A key technology behind search advertising is to predict the click-through rate (pCTR) of ads, as the economic model behind search advertising requires pCTR values to rank ads and to price clicks.<b> In this task, given the training instances derived from session logs of the Tencent proprietary search engine, soso.com, participants are expected to accurately predict the pCTR of ads in the testing instances. </b></p>"
      ]
    },
    {
      "cell_type": "markdown",
      "metadata": {
        "id": "8x_i3mVosXub",
        "colab_type": "text"
      },
      "source": [
        "## Source/Useful Links \n"
      ]
    },
    {
      "cell_type": "markdown",
      "metadata": {
        "id": "YYT8LPpjsXuc",
        "colab_type": "text"
      },
      "source": [
        "\n",
        "Source : https://www.kaggle.com/c/kddcup2012-track2 \n",
        "\n",
        "Dropbox Links : https://www.dropbox.com/sh/k84z8y9n387ptjb/AAA8O8IDFsSRhOhaLfXVZcJwa?dl=0 \n",
        "\n",
        "Blog :https://hivemall.incubator.apache.org/userguide/regression/kddcup12tr2_dataset.html"
      ]
    },
    {
      "cell_type": "markdown",
      "metadata": {
        "id": "FrtufoSLsXud",
        "colab_type": "text"
      },
      "source": [
        "## Real-world/Business Objectives and Constraints"
      ]
    },
    {
      "cell_type": "markdown",
      "metadata": {
        "id": "ZYML5C-jsXue",
        "colab_type": "text"
      },
      "source": [
        "Objective: Given query and user information, we need to predict if the user would click the add.\n",
        "    \n",
        "Constraints: Low latency, Interpretability."
      ]
    },
    {
      "cell_type": "markdown",
      "metadata": {
        "id": "HaLYApKysXug",
        "colab_type": "text"
      },
      "source": [
        "## Machine Learning problem"
      ]
    },
    {
      "cell_type": "markdown",
      "metadata": {
        "id": "MxBmp8dusXui",
        "colab_type": "text"
      },
      "source": [
        "### Data Overview "
      ]
    },
    {
      "cell_type": "markdown",
      "metadata": {
        "id": "oCd2-3tWsXuj",
        "colab_type": "text"
      },
      "source": [
        "<table style=\"width:50%;text-align:center;\">\n",
        "<caption style=\"text-align:center;\">Data Files</caption>\n",
        "<tr>\n",
        "<td><b>Filename</b></td><td><b>Available Format</b></td>\n",
        "</tr>\n",
        "<tr>\n",
        "<td>training</td><td>.txt (9.9Gb)</td>\n",
        "</tr>\n",
        "<tr>\n",
        "<td>queryid_tokensid</td><td>.txt (704Mb)</td>\n",
        "</tr>\n",
        "<tr>\n",
        "<td>purchasedkeywordid_tokensid</td><td>.txt (26Mb)</td>\n",
        "</tr>\n",
        "<tr>\n",
        "<td>titleid_tokensid</td><td>.txt (172Mb)</td>\n",
        "</tr>\n",
        "<tr>\n",
        "<td>descriptionid_tokensid</td><td>.txt (268Mb)</td>\n",
        "</tr>\n",
        "<tr>\n",
        "<td>userid_profile</td><td>.txt (284Mb)</td>\n",
        "</tr>\n",
        "</table>\n",
        "\n",
        "<table style=\"width:100%\">\n",
        "  <caption style=\"text-align:center;\">training.txt</caption>\n",
        "  <tr>\n",
        "    <th>Feature</th>\n",
        "    <th>Description</th>\n",
        "  </tr>\n",
        "  <tr>\n",
        "    <td>UserID</td>\n",
        "    <td>The unique id for each user</td>\n",
        "    </tr>\n",
        "  <tr>\n",
        "    <td>AdID</td>\n",
        "    <td>The unique id for each ad</td>\n",
        "  </tr>\n",
        "  <tr>\n",
        "    <td>QueryID</td>\n",
        "    <td>The unique id for each Query (it is a primary key in Query table(queryid_tokensid.txt))</td>\n",
        "  </tr>\n",
        "  <tr>\n",
        "    <td>Depth</td>\n",
        "    <td>The number of ads impressed in a session is known as the 'depth'. </td>\n",
        "  </tr>\n",
        "  <tr>\n",
        "    <td>Position</td>\n",
        "    <td>The order of an ad in the impression list is known as the ‘position’ of that ad.</td>\n",
        "  </tr>\n",
        "  <tr>\n",
        "    <td>Impression</td>\n",
        "    <td>The number of search sessions in which the ad (AdID) was impressed by the user (UserID) who issued the query (Query).</td>\n",
        "  </tr>\n",
        "  <tr>\n",
        "    <td>Click</td>\n",
        "    <td>The number of times, among the above impressions, the user (UserID) clicked the ad (AdID).</td>\n",
        "  </tr>\n",
        "  <tr>\n",
        "    <td>TitleId</td>\n",
        "    <td>A property of ads. This is the key of 'titleid_tokensid.txt'. [An Ad, when impressed, would be displayed as a short text known as ’title’, followed by a slightly longer text known as the ’description’, and a URL (usually shortened to save screen space) known as ’display URL’.]</td>\n",
        "  </tr>\n",
        "  <tr>\n",
        "    <td>DescId</td>\n",
        "    <td>A property of ads.  This is the key of 'descriptionid_tokensid.txt'. [An Ad, when impressed, would be displayed as a short text known as ’title’, followed by a slightly longer text known as the ’description’, and a URL (usually shortened to save screen space) known as ’display URL’.]</td>\n",
        "  </tr>\n",
        "  <tr>\n",
        "    <td>AdURL</td>\n",
        "    <td>The URL is shown together with the title and description of an ad. It is usually the shortened landing page URL of the ad, but not always. In the data file,  this URL is hashed for anonymity.</td>\n",
        "  </tr>\n",
        "  <tr>\n",
        "    <td>KeyId</td>\n",
        "    <td>A property of ads. This is the key of  'purchasedkeyword_tokensid.txt'.</td>\n",
        "  </tr>\n",
        "  <tr>\n",
        "    <td>AdvId</td>\n",
        "    <td>a property of the ad. Some advertisers consistently optimize their ads, so the title and description of their ads are more attractive than those of others’ ads.</td>\n",
        "  </tr>\n",
        "</table>\n",
        "\n",
        "___\n",
        "There are five additional data files, as mentioned in the above section: \n",
        "\n",
        "1. queryid_tokensid.txt \n",
        "\n",
        "2. purchasedkeywordid_tokensid.txt \n",
        "\n",
        "3. titleid_tokensid.txt \n",
        "\n",
        "4. descriptionid_tokensid.txt \n",
        "\n",
        "5. userid_profile.txt \n",
        "\n",
        "Each line of the first four files maps an id to a list of tokens, corresponding to the query, keyword, ad title, and ad description, respectively. In each line, a TAB character separates the id and the token set.  A token can basically be a word in a natural language. For anonymity, each token is represented by its hash value.  Tokens are delimited by the character ‘|’. \n",
        "\n",
        "Each line of ‘userid_profile.txt’ is composed of UserID, Gender, and Age, delimited by the TAB character. Note that not every UserID in the training and the testing set will be present in ‘userid_profile.txt’. Each field is described below: \n",
        "\n",
        "1. Gender:  '1'  for male, '2' for female,  and '0'  for unknown. \n",
        "\n",
        "2. Age: '1'  for (0, 12],  '2' for (12, 18], '3' for (18, 24], '4'  for  (24, 30], '5' for (30,  40], and '6' for greater than 40. "
      ]
    },
    {
      "cell_type": "markdown",
      "metadata": {
        "id": "xH7vl4NnsXuk",
        "colab_type": "text"
      },
      "source": [
        "### Example Data point "
      ]
    },
    {
      "cell_type": "markdown",
      "metadata": {
        "id": "37Cl4x72sXul",
        "colab_type": "text"
      },
      "source": [
        "__ training.txt __\n",
        "<pre>\n",
        "Click Impression\tAdURL\t     AdId\t   AdvId  Depth\tPos\t QId\t   KeyId\tTitleId\t DescId\t UId\n",
        "0\t 1\t 4298118681424644510\t7686695\t385\t    3\t  3\t 1601\t    5521\t 7709\t  576\t 490234\n",
        "0\t 1\t 4860571499428580850\t21560664\t37484\t  2\t  2\t 2255103\t317\t     48989\t  44771\t 490234\n",
        "0\t 1\t 9704320783495875564\t21748480\t36759\t  3\t  3\t 4532751\t60721\t 685038\t  29681\t 490234\n",
        "</pre>\n",
        "\n",
        "__ queryid_tokensid.txt__\n",
        "<pre>\n",
        "QId\tQuery\n",
        "0\t12731\n",
        "1\t1545|75|31\n",
        "2\t383\n",
        "3\t518|1996\n",
        "4\t4189|75|31\n",
        "</pre>\n",
        "\n",
        "__purchasedkeywordid_tokensid.txt__\n",
        "<pre>\n",
        "</pre>\n",
        "\n",
        "__titleid_tokensid.txt__\n",
        "<pre>\n",
        "TitleId\tTitle\n",
        "0\t615|1545|75|31|1|138|1270|615|131\n",
        "1\t466|582|685|1|42|45|477|314\n",
        "2\t12731|190|513|12731|677|183\n",
        "3\t2371|3970|1|2805|4340|3|2914|10640|3688|11|834|3\n",
        "4\t165|134|460|2887|50|2|17527|1|1540|592|2181|3|...\n",
        "</pre>\n",
        "\n",
        "__descriptionid_tokensid.txt__\n",
        "<pre>\n",
        "DescId\tDescription\n",
        "0\t1545|31|40|615|1|272|18889|1|220|511|20|5270|1...\n",
        "1\t172|46|467|170|5634|5112|40|155|1965|834|21|41...\n",
        "2\t2672|6|1159|109662|123|49933|160|848|248|207|1...\n",
        "3\t13280|35|1299|26|282|477|606|1|4016|1671|771|1...\n",
        "4\t13327|99|128|494|2928|21|26500|10|11733|10|318\n",
        "</pre>\n",
        "\n",
        "__userid_profile.txt__\n",
        "<pre>\n",
        "UId\tGender\tAge\n",
        "1\t1\t5\n",
        "2\t2\t3\n",
        "3\t1\t5\n",
        "4\t1\t3\n",
        "5\t2\t1\n",
        "</pre>"
      ]
    },
    {
      "cell_type": "markdown",
      "metadata": {
        "id": "8Rc7rYccsXum",
        "colab_type": "text"
      },
      "source": [
        ""
      ]
    },
    {
      "cell_type": "markdown",
      "metadata": {
        "id": "PgvThP91sXun",
        "colab_type": "text"
      },
      "source": [
        "## Mapping the Real-world to a Machine Learning problem"
      ]
    },
    {
      "cell_type": "markdown",
      "metadata": {
        "id": "UHA4sCoxsXup",
        "colab_type": "text"
      },
      "source": [
        "#### Performance metric \n"
      ]
    },
    {
      "cell_type": "markdown",
      "metadata": {
        "id": "7sgaFtPesXuq",
        "colab_type": "text"
      },
      "source": [
        "\n",
        "Source : https://www.kaggle.com/c/kddcup2012-track2#Evaluation \n",
        "\n",
        "ROC: https://www.appliedaicourse.com/course/applied-ai-course-online/lessons/receiver-operating-characteristic-curve-roc-curve-and-auc-1/"
      ]
    },
    {
      "cell_type": "markdown",
      "metadata": {
        "id": "KGovXjCJsXur",
        "colab_type": "text"
      },
      "source": [
        "#### Type of Machine Learning Problem "
      ]
    },
    {
      "cell_type": "markdown",
      "metadata": {
        "id": "MSlFvRWssXus",
        "colab_type": "text"
      },
      "source": [
        "Classification Problem -> Given query and user information, we need to predict if the user would click the add."
      ]
    },
    {
      "cell_type": "markdown",
      "metadata": {
        "id": "AUfz4pbpsXut",
        "colab_type": "text"
      },
      "source": [
        "#### Usefull links"
      ]
    },
    {
      "cell_type": "markdown",
      "metadata": {
        "id": "3G7HXxZKsXuu",
        "colab_type": "text"
      },
      "source": [
        "Source : https://www.kaggle.com/c/kddcup2012-track2 \n",
        "\n",
        "pdf : https://jyunyu.csie.org/docs/pubs/kddcup2012paper.pdf "
      ]
    },
    {
      "cell_type": "code",
      "metadata": {
        "id": "1mXUbhnOsXuw",
        "colab_type": "code",
        "colab": {}
      },
      "source": [
        "# Importing Libraries\n",
        "\n",
        "import pandas as pd\n",
        "import numpy as np\n",
        "from datetime import datetime\n",
        "import tqdm\n",
        "import re\n",
        "import seaborn as sns\n",
        "%matplotlib inline\n",
        "import matplotlib.pyplot as plt\n",
        "\n",
        "from scipy import spatial\n",
        "from sklearn.svm import SVC\n",
        "from xgboost import XGBClassifier\n",
        "from sklearn.tree import DecisionTreeClassifier\n",
        "from sklearn.ensemble import RandomForestClassifier\n",
        "from sklearn.feature_extraction.text import CountVectorizer\n",
        "from sklearn.feature_extraction.text import TfidfVectorizer\n",
        "from sklearn.preprocessing import normalize\n",
        "from sklearn.model_selection import train_test_split\n",
        "from scipy.sparse import hstack\n",
        "from scipy.sparse import csr_matrix\n",
        "from sklearn.preprocessing import normalize\n",
        "from sklearn import metrics\n",
        "from sklearn.metrics import roc_curve, auc\n",
        "from sklearn.metrics import confusion_matrix\n",
        "from sklearn.model_selection import GridSearchCV\n",
        "from sklearn.model_selection import RandomizedSearchCV\n",
        "from sklearn.linear_model import LogisticRegression\n",
        "from sklearn.model_selection import StratifiedKFold\n",
        "from sklearn.metrics.pairwise import cosine_similarity\n",
        "from gensim.models import Word2Vec\n",
        "from prettytable import PrettyTable\n",
        "from tqdm import tqdm\n",
        "\n",
        "import warnings\n",
        "warnings.filterwarnings(\"ignore\")\n",
        "\n"
      ],
      "execution_count": 0,
      "outputs": []
    },
    {
      "cell_type": "code",
      "metadata": {
        "id": "LAqRKCOosXu1",
        "colab_type": "code",
        "outputId": "55aaf460-c4c2-4a7f-c543-68828a3ac6cd",
        "colab": {}
      },
      "source": [
        "# Loading training data...\n",
        "\n",
        "# Here we took  1 million datapoints due to lack of computational resources \n",
        "\n",
        "column  = ['clicks', 'impressions', 'AdURL', 'AdId', 'AdvId', 'Depth', 'Pos', 'QId', 'KeyId', 'TitleId', 'DescId', 'UId']\n",
        "train   = pd.read_csv('C:/Users/Administrator/Documents/Datasets/KDD_Cup_2012_Track 2/training.txt', sep='\\t', header=None, names=column,nrows = 1000000)\n",
        "train.head()\n",
        "\n",
        "# print(type(train['AdURL'][0])) -> <class 'numpy.uint64'>\n",
        "# print(type(train['UId'][0])) -> <class 'numpy.int64'>\n",
        "# train.shape -> (100000, 12)"
      ],
      "execution_count": 0,
      "outputs": [
        {
          "output_type": "execute_result",
          "data": {
            "text/html": [
              "<div>\n",
              "<style scoped>\n",
              "    .dataframe tbody tr th:only-of-type {\n",
              "        vertical-align: middle;\n",
              "    }\n",
              "\n",
              "    .dataframe tbody tr th {\n",
              "        vertical-align: top;\n",
              "    }\n",
              "\n",
              "    .dataframe thead th {\n",
              "        text-align: right;\n",
              "    }\n",
              "</style>\n",
              "<table border=\"1\" class=\"dataframe\">\n",
              "  <thead>\n",
              "    <tr style=\"text-align: right;\">\n",
              "      <th></th>\n",
              "      <th>clicks</th>\n",
              "      <th>impressions</th>\n",
              "      <th>AdURL</th>\n",
              "      <th>AdId</th>\n",
              "      <th>AdvId</th>\n",
              "      <th>Depth</th>\n",
              "      <th>Pos</th>\n",
              "      <th>QId</th>\n",
              "      <th>KeyId</th>\n",
              "      <th>TitleId</th>\n",
              "      <th>DescId</th>\n",
              "      <th>UId</th>\n",
              "    </tr>\n",
              "  </thead>\n",
              "  <tbody>\n",
              "    <tr>\n",
              "      <th>0</th>\n",
              "      <td>0</td>\n",
              "      <td>1</td>\n",
              "      <td>4298118681424644510</td>\n",
              "      <td>7686695</td>\n",
              "      <td>385</td>\n",
              "      <td>3</td>\n",
              "      <td>3</td>\n",
              "      <td>1601</td>\n",
              "      <td>5521</td>\n",
              "      <td>7709</td>\n",
              "      <td>576</td>\n",
              "      <td>490234</td>\n",
              "    </tr>\n",
              "    <tr>\n",
              "      <th>1</th>\n",
              "      <td>0</td>\n",
              "      <td>1</td>\n",
              "      <td>4860571499428580850</td>\n",
              "      <td>21560664</td>\n",
              "      <td>37484</td>\n",
              "      <td>2</td>\n",
              "      <td>2</td>\n",
              "      <td>2255103</td>\n",
              "      <td>317</td>\n",
              "      <td>48989</td>\n",
              "      <td>44771</td>\n",
              "      <td>490234</td>\n",
              "    </tr>\n",
              "    <tr>\n",
              "      <th>2</th>\n",
              "      <td>0</td>\n",
              "      <td>1</td>\n",
              "      <td>9704320783495875564</td>\n",
              "      <td>21748480</td>\n",
              "      <td>36759</td>\n",
              "      <td>3</td>\n",
              "      <td>3</td>\n",
              "      <td>4532751</td>\n",
              "      <td>60721</td>\n",
              "      <td>685038</td>\n",
              "      <td>29681</td>\n",
              "      <td>490234</td>\n",
              "    </tr>\n",
              "    <tr>\n",
              "      <th>3</th>\n",
              "      <td>0</td>\n",
              "      <td>1</td>\n",
              "      <td>13677630321509009335</td>\n",
              "      <td>3517124</td>\n",
              "      <td>23778</td>\n",
              "      <td>3</td>\n",
              "      <td>1</td>\n",
              "      <td>1601</td>\n",
              "      <td>2155</td>\n",
              "      <td>1207</td>\n",
              "      <td>1422</td>\n",
              "      <td>490234</td>\n",
              "    </tr>\n",
              "    <tr>\n",
              "      <th>4</th>\n",
              "      <td>0</td>\n",
              "      <td>1</td>\n",
              "      <td>3284760244799604489</td>\n",
              "      <td>20758093</td>\n",
              "      <td>34535</td>\n",
              "      <td>1</td>\n",
              "      <td>1</td>\n",
              "      <td>4532751</td>\n",
              "      <td>77819</td>\n",
              "      <td>266618</td>\n",
              "      <td>222223</td>\n",
              "      <td>490234</td>\n",
              "    </tr>\n",
              "  </tbody>\n",
              "</table>\n",
              "</div>"
            ],
            "text/plain": [
              "   clicks  impressions                 AdURL      AdId  AdvId  Depth  Pos  \\\n",
              "0       0            1   4298118681424644510   7686695    385      3    3   \n",
              "1       0            1   4860571499428580850  21560664  37484      2    2   \n",
              "2       0            1   9704320783495875564  21748480  36759      3    3   \n",
              "3       0            1  13677630321509009335   3517124  23778      3    1   \n",
              "4       0            1   3284760244799604489  20758093  34535      1    1   \n",
              "\n",
              "       QId  KeyId  TitleId  DescId     UId  \n",
              "0     1601   5521     7709     576  490234  \n",
              "1  2255103    317    48989   44771  490234  \n",
              "2  4532751  60721   685038   29681  490234  \n",
              "3     1601   2155     1207    1422  490234  \n",
              "4  4532751  77819   266618  222223  490234  "
            ]
          },
          "metadata": {
            "tags": []
          },
          "execution_count": 2
        }
      ]
    },
    {
      "cell_type": "code",
      "metadata": {
        "id": "bRcEzlbBsXu8",
        "colab_type": "code",
        "colab": {}
      },
      "source": [
        "train  = train.reset_index()"
      ],
      "execution_count": 0,
      "outputs": []
    },
    {
      "cell_type": "code",
      "metadata": {
        "id": "ztohvuq4sXvA",
        "colab_type": "code",
        "colab": {}
      },
      "source": [
        "# For each training instance, we first split it into (#click) positive samples and \n",
        "\n",
        "# (#impression-#click) negative samples. Then we train a classifier to discriminate \n",
        "\n",
        "# positive samples from negative ones."
      ],
      "execution_count": 0,
      "outputs": []
    },
    {
      "cell_type": "code",
      "metadata": {
        "scrolled": true,
        "id": "5XA8AGf5sXvF",
        "colab_type": "code",
        "outputId": "c9baad40-b9d1-44d5-8d6d-abe85a7e282f",
        "colab": {}
      },
      "source": [
        "# Replicating each instance by (#impressions)\n",
        "\n",
        "start = datetime.now()\n",
        "\n",
        "\n",
        "for index, row in train.iterrows():\n",
        "    if row['impressions'] > 1:\n",
        "        train = train.append([row]*(int(row['impressions']-1)),ignore_index=True)\n",
        "        \n",
        "    if index%10000 == 0:\n",
        "        print(\"Rows completed : \", index)\n",
        "        \n",
        "end =datetime.now()\n",
        "print(\"Time taken to run this cell: \",end-start)\n",
        "\n",
        "# train.shape -> (121760, 15)"
      ],
      "execution_count": 0,
      "outputs": [
        {
          "output_type": "stream",
          "text": [
            "Rows completed :  0\n",
            "Rows completed :  10000\n",
            "Rows completed :  20000\n",
            "Rows completed :  30000\n",
            "Rows completed :  40000\n",
            "Rows completed :  50000\n",
            "Rows completed :  60000\n",
            "Rows completed :  70000\n",
            "Rows completed :  80000\n",
            "Rows completed :  90000\n",
            "Rows completed :  100000\n",
            "Rows completed :  110000\n",
            "Rows completed :  120000\n",
            "Rows completed :  130000\n",
            "Rows completed :  140000\n",
            "Rows completed :  150000\n",
            "Rows completed :  160000\n",
            "Rows completed :  170000\n",
            "Rows completed :  180000\n",
            "Rows completed :  190000\n",
            "Rows completed :  200000\n",
            "Rows completed :  210000\n",
            "Rows completed :  220000\n",
            "Rows completed :  230000\n",
            "Rows completed :  240000\n",
            "Rows completed :  250000\n",
            "Rows completed :  260000\n",
            "Rows completed :  270000\n",
            "Rows completed :  280000\n",
            "Rows completed :  290000\n",
            "Rows completed :  300000\n",
            "Rows completed :  310000\n",
            "Rows completed :  320000\n",
            "Rows completed :  330000\n",
            "Rows completed :  340000\n",
            "Rows completed :  350000\n",
            "Rows completed :  360000\n",
            "Rows completed :  370000\n",
            "Rows completed :  380000\n",
            "Rows completed :  390000\n",
            "Rows completed :  400000\n",
            "Rows completed :  410000\n",
            "Rows completed :  420000\n",
            "Rows completed :  430000\n",
            "Rows completed :  440000\n",
            "Rows completed :  450000\n",
            "Rows completed :  460000\n",
            "Rows completed :  470000\n",
            "Rows completed :  480000\n",
            "Rows completed :  490000\n",
            "Rows completed :  500000\n",
            "Rows completed :  510000\n",
            "Rows completed :  520000\n",
            "Rows completed :  530000\n",
            "Rows completed :  540000\n",
            "Rows completed :  550000\n",
            "Rows completed :  560000\n",
            "Rows completed :  570000\n",
            "Rows completed :  580000\n",
            "Rows completed :  590000\n",
            "Rows completed :  600000\n",
            "Rows completed :  610000\n",
            "Rows completed :  620000\n",
            "Rows completed :  630000\n",
            "Rows completed :  640000\n",
            "Rows completed :  650000\n",
            "Rows completed :  660000\n",
            "Rows completed :  670000\n",
            "Rows completed :  680000\n",
            "Rows completed :  690000\n",
            "Rows completed :  700000\n",
            "Rows completed :  710000\n",
            "Rows completed :  720000\n",
            "Rows completed :  730000\n",
            "Rows completed :  740000\n",
            "Rows completed :  750000\n",
            "Rows completed :  760000\n",
            "Rows completed :  770000\n",
            "Rows completed :  780000\n",
            "Rows completed :  790000\n",
            "Rows completed :  800000\n",
            "Rows completed :  810000\n",
            "Rows completed :  820000\n",
            "Rows completed :  830000\n",
            "Rows completed :  840000\n",
            "Rows completed :  850000\n",
            "Rows completed :  860000\n",
            "Rows completed :  870000\n",
            "Rows completed :  880000\n",
            "Rows completed :  890000\n",
            "Rows completed :  900000\n",
            "Rows completed :  910000\n",
            "Rows completed :  920000\n",
            "Rows completed :  930000\n",
            "Rows completed :  940000\n",
            "Rows completed :  950000\n",
            "Rows completed :  960000\n",
            "Rows completed :  970000\n",
            "Rows completed :  980000\n",
            "Rows completed :  990000\n",
            "Rows completed :  1000000\n",
            "Time taken to run this cell:  4:21:54.495156\n"
          ],
          "name": "stdout"
        }
      ]
    },
    {
      "cell_type": "code",
      "metadata": {
        "id": "dJTvC0rwsXvK",
        "colab_type": "code",
        "colab": {}
      },
      "source": [
        "# total no of rows: 1235092"
      ],
      "execution_count": 0,
      "outputs": []
    },
    {
      "cell_type": "code",
      "metadata": {
        "id": "DfIos3RIsXvN",
        "colab_type": "code",
        "outputId": "79ce2ee4-8b87-4fe4-c01e-4c20a375fdba",
        "colab": {}
      },
      "source": [
        "print(type(train['AdURL'][0]))"
      ],
      "execution_count": 0,
      "outputs": [
        {
          "output_type": "stream",
          "text": [
            "<class 'numpy.float64'>\n"
          ],
          "name": "stdout"
        }
      ]
    },
    {
      "cell_type": "code",
      "metadata": {
        "id": "gdpGXh4psXvR",
        "colab_type": "code",
        "colab": {}
      },
      "source": [
        "# Saving to csv file\n",
        "\n",
        "train.to_csv('C:/Users/Administrator/Documents/Datasets/KDD_Cup_2012_Track 2/train_10L.csv',index=False)"
      ],
      "execution_count": 0,
      "outputs": []
    },
    {
      "cell_type": "code",
      "metadata": {
        "id": "haUs3ExMsXvV",
        "colab_type": "code",
        "colab": {}
      },
      "source": [
        "# Loading the data in original format\n",
        "\n",
        "data = pd.read_csv(\"C:/Users/Administrator/Documents/Datasets/KDD_Cup_2012_Track 2/train_10L.csv\",   \n",
        "                 dtype={'index':np.int64,'AdURL': np.uint64,'AdId':np.int64,'AdvId':np.int64,'Depth':np.int64,'Pos':np.int64,'QId':np.int64,'KeyId':np.int64,'TitleId':np.int64,'DescId':np.int64,'UId':np.int64})"
      ],
      "execution_count": 0,
      "outputs": []
    },
    {
      "cell_type": "code",
      "metadata": {
        "id": "l1afXai6sXva",
        "colab_type": "code",
        "colab": {}
      },
      "source": [
        "data['class_label'] = 0\n",
        "data_n = data   # storing dataframe in a temporary variable which is used in the below snippet\n",
        "data.head()"
      ],
      "execution_count": 0,
      "outputs": []
    },
    {
      "cell_type": "code",
      "metadata": {
        "scrolled": true,
        "id": "HNzbu570sXvd",
        "colab_type": "code",
        "outputId": "75ace075-0153-4c44-fc3c-04e749ac9f85",
        "colab": {}
      },
      "source": [
        "# labelling the datapoints\n",
        "\n",
        "start = datetime.now()\n",
        "\n",
        "indeces = list()\n",
        "\n",
        "for i, row in data.iterrows():\n",
        "    if i<1000000:   # no.of original rows(before replication)\n",
        "        data_n = data\n",
        "        if row['clicks'] == 0 and row['impressions'] == 1:\n",
        "            data['class_label'] = 0\n",
        "        elif row['clicks'] == 1 and row['impressions'] == 1:\n",
        "            data['class_label'] = 1\n",
        "        else:\n",
        "            data_n = data_n.loc[data_n['index']==row['index']]\n",
        "            if row['clicks']>=1:\n",
        "                clicks_num = row['clicks']\n",
        "                data_n = data_n.sample(int(clicks_num))\n",
        "                ind = data_n.index  # Example: data_n.index -> Int64Index([100000, 30], dtype='int64')\n",
        "                indeces.extend(ind)\n",
        "        if i%10000 == 0:\n",
        "            print(\"Rows completed : \", i)\n",
        "\n",
        "end = datetime.now()\n",
        "print(\"Time taken to run this cell: \",end-start)"
      ],
      "execution_count": 0,
      "outputs": [
        {
          "output_type": "stream",
          "text": [
            "Rows completed :  0\n",
            "Rows completed :  10000\n",
            "Rows completed :  20000\n",
            "Rows completed :  30000\n",
            "Rows completed :  40000\n",
            "Rows completed :  50000\n",
            "Rows completed :  60000\n",
            "Rows completed :  70000\n",
            "Rows completed :  80000\n",
            "Rows completed :  90000\n",
            "Rows completed :  100000\n",
            "Rows completed :  110000\n",
            "Rows completed :  120000\n",
            "Rows completed :  130000\n",
            "Rows completed :  140000\n",
            "Rows completed :  150000\n",
            "Rows completed :  160000\n",
            "Rows completed :  170000\n",
            "Rows completed :  180000\n",
            "Rows completed :  190000\n",
            "Rows completed :  200000\n",
            "Rows completed :  210000\n",
            "Rows completed :  220000\n",
            "Rows completed :  230000\n",
            "Rows completed :  240000\n",
            "Rows completed :  250000\n",
            "Rows completed :  260000\n",
            "Rows completed :  270000\n",
            "Rows completed :  280000\n",
            "Rows completed :  290000\n",
            "Rows completed :  300000\n",
            "Rows completed :  310000\n",
            "Rows completed :  320000\n",
            "Rows completed :  330000\n",
            "Rows completed :  340000\n",
            "Rows completed :  350000\n",
            "Rows completed :  360000\n",
            "Rows completed :  370000\n",
            "Rows completed :  380000\n",
            "Rows completed :  390000\n",
            "Rows completed :  400000\n",
            "Rows completed :  410000\n",
            "Rows completed :  420000\n",
            "Rows completed :  430000\n",
            "Rows completed :  440000\n",
            "Rows completed :  450000\n",
            "Rows completed :  460000\n",
            "Rows completed :  470000\n",
            "Rows completed :  480000\n",
            "Rows completed :  490000\n",
            "Rows completed :  500000\n",
            "Rows completed :  510000\n",
            "Rows completed :  520000\n",
            "Rows completed :  530000\n",
            "Rows completed :  540000\n",
            "Rows completed :  550000\n",
            "Rows completed :  560000\n",
            "Rows completed :  570000\n",
            "Rows completed :  580000\n",
            "Rows completed :  590000\n",
            "Rows completed :  600000\n",
            "Rows completed :  610000\n",
            "Rows completed :  620000\n",
            "Rows completed :  630000\n",
            "Rows completed :  640000\n",
            "Rows completed :  650000\n",
            "Rows completed :  660000\n",
            "Rows completed :  670000\n",
            "Rows completed :  680000\n",
            "Rows completed :  690000\n",
            "Rows completed :  700000\n",
            "Rows completed :  710000\n",
            "Rows completed :  720000\n",
            "Rows completed :  730000\n",
            "Rows completed :  740000\n",
            "Rows completed :  750000\n",
            "Rows completed :  760000\n",
            "Rows completed :  770000\n",
            "Rows completed :  780000\n",
            "Rows completed :  790000\n",
            "Rows completed :  800000\n",
            "Rows completed :  810000\n",
            "Rows completed :  820000\n",
            "Rows completed :  830000\n",
            "Rows completed :  840000\n",
            "Rows completed :  850000\n",
            "Rows completed :  860000\n",
            "Rows completed :  870000\n",
            "Rows completed :  880000\n",
            "Rows completed :  890000\n",
            "Rows completed :  900000\n",
            "Rows completed :  910000\n",
            "Rows completed :  920000\n",
            "Rows completed :  930000\n",
            "Rows completed :  940000\n",
            "Rows completed :  950000\n",
            "Rows completed :  960000\n",
            "Rows completed :  970000\n",
            "Rows completed :  980000\n",
            "Rows completed :  990000\n",
            "Time taken to run this cell:  3:03:43.298530\n"
          ],
          "name": "stdout"
        }
      ]
    },
    {
      "cell_type": "code",
      "metadata": {
        "id": "XWDUGdABsXvm",
        "colab_type": "code",
        "outputId": "15bacb1d-9631-4498-bfbc-b630a4edbc2b",
        "colab": {}
      },
      "source": [
        "indeces = list(dict.fromkeys(indeces)) # to remove duplicate indeces if any\n",
        "indeces"
      ],
      "execution_count": 0,
      "outputs": [
        {
          "output_type": "execute_result",
          "data": {
            "text/plain": [
              "[1228023,\n",
              " 33,\n",
              " 1001305,\n",
              " 1228148,\n",
              " 1000093,\n",
              " 1228209,\n",
              " 494,\n",
              " 1228242,\n",
              " 1228243,\n",
              " 1001447,\n",
              " 1228345,\n",
              " 1228388,\n",
              " 1228394,\n",
              " 1000196,\n",
              " 1228468,\n",
              " 1228479,\n",
              " 1228509,\n",
              " 1228446,\n",
              " 1228493,\n",
              " 1228511,\n",
              " 1228475,\n",
              " 1081,\n",
              " 1105,\n",
              " 1000258,\n",
              " 1485,\n",
              " 1229061,\n",
              " 1229356,\n",
              " 1000425,\n",
              " 2440,\n",
              " 1229514,\n",
              " 1229699,\n",
              " 1000596,\n",
              " 1230210,\n",
              " 1001942,\n",
              " 1232384,\n",
              " 1232385,\n",
              " 1000714,\n",
              " 1232396,\n",
              " 1232395,\n",
              " 1000721,\n",
              " 1002016,\n",
              " 1232520,\n",
              " 1000792,\n",
              " 1232536,\n",
              " 1232557,\n",
              " 1002154,\n",
              " 1002169,\n",
              " 1232685,\n",
              " 1002172,\n",
              " 1232707,\n",
              " 1233335,\n",
              " 1000988,\n",
              " 1233333,\n",
              " 1233575,\n",
              " 1234314,\n",
              " 1233853,\n",
              " 1234209,\n",
              " 1233942,\n",
              " 1234224,\n",
              " 1233842,\n",
              " 1233813,\n",
              " 1233763,\n",
              " 1234001,\n",
              " 1233386,\n",
              " 4718,\n",
              " 1234434,\n",
              " 1001045,\n",
              " 1234580,\n",
              " 1001110,\n",
              " 1002431,\n",
              " 1001169,\n",
              " 1002471,\n",
              " 1001176,\n",
              " 1234854,\n",
              " 1001263,\n",
              " 1235079,\n",
              " 1002580,\n",
              " 1002597,\n",
              " 1002605,\n",
              " 1002650,\n",
              " 1002671,\n",
              " 6965,\n",
              " 7012,\n",
              " 1002682,\n",
              " 7057,\n",
              " 7431,\n",
              " 7479,\n",
              " 1002795,\n",
              " 7918,\n",
              " 1002819,\n",
              " 1002854,\n",
              " 1002859,\n",
              " 8047,\n",
              " 8129,\n",
              " 1002887,\n",
              " 1002944,\n",
              " 1002957,\n",
              " 1002986,\n",
              " 1003001,\n",
              " 9079,\n",
              " 1003029,\n",
              " 1003041,\n",
              " 1003043,\n",
              " 1003044,\n",
              " 9199,\n",
              " 1003059,\n",
              " 9249,\n",
              " 1003071,\n",
              " 9254,\n",
              " 1003082,\n",
              " 1003095,\n",
              " 1003112,\n",
              " 1003160,\n",
              " 1003161,\n",
              " 1003163,\n",
              " 10072,\n",
              " 10161,\n",
              " 10471,\n",
              " 1003314,\n",
              " 10844,\n",
              " 11184,\n",
              " 1003407,\n",
              " 11300,\n",
              " 1003440,\n",
              " 1003560,\n",
              " 11939,\n",
              " 1003642,\n",
              " 1003678,\n",
              " 12255,\n",
              " 12313,\n",
              " 12350,\n",
              " 12496,\n",
              " 1003721,\n",
              " 12506,\n",
              " 12507,\n",
              " 1003746,\n",
              " 12602,\n",
              " 12628,\n",
              " 1003763,\n",
              " 1003771,\n",
              " 1003801,\n",
              " 12856,\n",
              " 13001,\n",
              " 1003813,\n",
              " 13017,\n",
              " 1003825,\n",
              " 1003850,\n",
              " 13216,\n",
              " 1003867,\n",
              " 1003866,\n",
              " 1003868,\n",
              " 13424,\n",
              " 1003890,\n",
              " 13535,\n",
              " 1003904,\n",
              " 1003919,\n",
              " 1003943,\n",
              " 13970,\n",
              " 1004038,\n",
              " 1004055,\n",
              " 1004060,\n",
              " 14174,\n",
              " 14848,\n",
              " 1004183,\n",
              " 1004184,\n",
              " 1004185,\n",
              " 1004187,\n",
              " 1004234,\n",
              " 1004236,\n",
              " 1004235,\n",
              " 1004285,\n",
              " 1004288,\n",
              " 15163,\n",
              " 1004298,\n",
              " 15279,\n",
              " 15299,\n",
              " 1004317,\n",
              " 1004328,\n",
              " 15369,\n",
              " 15406,\n",
              " 15492,\n",
              " 15701,\n",
              " 15830,\n",
              " 15843,\n",
              " 1004413,\n",
              " 15989,\n",
              " 16001,\n",
              " 1004497,\n",
              " 16511,\n",
              " 16638,\n",
              " 16831,\n",
              " 16870,\n",
              " 1004580,\n",
              " 1004583,\n",
              " 1004635,\n",
              " 17166,\n",
              " 1004643,\n",
              " 1004678,\n",
              " 1004689,\n",
              " 17346,\n",
              " 1004690,\n",
              " 1004745,\n",
              " 17527,\n",
              " 17792,\n",
              " 17860,\n",
              " 1004833,\n",
              " 1004894,\n",
              " 18566,\n",
              " 1004905,\n",
              " 1004923,\n",
              " 18777,\n",
              " 1004959,\n",
              " 18891,\n",
              " 1004984,\n",
              " 18917,\n",
              " 1004997,\n",
              " 1005030,\n",
              " 1005033,\n",
              " 19229,\n",
              " 1005039,\n",
              " 19275,\n",
              " 1005084,\n",
              " 1005085,\n",
              " 1005101,\n",
              " 1005103,\n",
              " 1005138,\n",
              " 19631,\n",
              " 1005141,\n",
              " 1005159,\n",
              " 1005175,\n",
              " 1005185,\n",
              " 19992,\n",
              " 20034,\n",
              " 1005211,\n",
              " 20066,\n",
              " 1005263,\n",
              " 20458,\n",
              " 1005278,\n",
              " 1005324,\n",
              " 20847,\n",
              " 21111,\n",
              " 1005449,\n",
              " 1005489,\n",
              " 1005495,\n",
              " 1005494,\n",
              " 21484,\n",
              " 1005511,\n",
              " 1005524,\n",
              " 1005563,\n",
              " 1005621,\n",
              " 1005701,\n",
              " 1005700,\n",
              " 22339,\n",
              " 1005704,\n",
              " 1005747,\n",
              " 23137,\n",
              " 1005816,\n",
              " 1005856,\n",
              " 23330,\n",
              " 1005870,\n",
              " 1005887,\n",
              " 1005939,\n",
              " 1005944,\n",
              " 24063,\n",
              " 1005964,\n",
              " 24251,\n",
              " 24354,\n",
              " 1006048,\n",
              " 1006051,\n",
              " 1006054,\n",
              " 24631,\n",
              " 1006055,\n",
              " 1006057,\n",
              " 24667,\n",
              " 1006067,\n",
              " 1006115,\n",
              " 1006113,\n",
              " 1006112,\n",
              " 25003,\n",
              " 1006114,\n",
              " 1006116,\n",
              " 1006117,\n",
              " 25051,\n",
              " 1006130,\n",
              " 25058,\n",
              " 25127,\n",
              " 1006175,\n",
              " 1006237,\n",
              " 1006333,\n",
              " 1006354,\n",
              " 1006383,\n",
              " 1006388,\n",
              " 1006409,\n",
              " 1006410,\n",
              " 26331,\n",
              " 1006445,\n",
              " 1006455,\n",
              " 1006473,\n",
              " 1006475,\n",
              " 26816,\n",
              " 1006502,\n",
              " 1006504,\n",
              " 1006521,\n",
              " 1006546,\n",
              " 1006542,\n",
              " 1006547,\n",
              " 1006551,\n",
              " 27462,\n",
              " 27533,\n",
              " 1006628,\n",
              " 1006754,\n",
              " 1006758,\n",
              " 1006759,\n",
              " 28260,\n",
              " 1006765,\n",
              " 28277,\n",
              " 28977,\n",
              " 1006907,\n",
              " 1006908,\n",
              " 1006910,\n",
              " 29404,\n",
              " 1007032,\n",
              " 29525,\n",
              " 1007055,\n",
              " 29532,\n",
              " 1007062,\n",
              " 1007064,\n",
              " 1007067,\n",
              " 1007087,\n",
              " 1007086,\n",
              " 29726,\n",
              " 1007100,\n",
              " 1007098,\n",
              " 1007099,\n",
              " 29763,\n",
              " 1007128,\n",
              " 1007157,\n",
              " 1007184,\n",
              " 30485,\n",
              " 1007185,\n",
              " 30537,\n",
              " 1007196,\n",
              " 1007260,\n",
              " 1007303,\n",
              " 1007328,\n",
              " 31302,\n",
              " 1007349,\n",
              " 1007426,\n",
              " 1007428,\n",
              " 1007433,\n",
              " 1007442,\n",
              " 1007444,\n",
              " 1007447,\n",
              " 1007449,\n",
              " 1007501,\n",
              " 32213,\n",
              " 1007520,\n",
              " 1007518,\n",
              " 1007526,\n",
              " 1007536,\n",
              " 1007537,\n",
              " 32358,\n",
              " 1007540,\n",
              " 1007557,\n",
              " 1007565,\n",
              " 1007563,\n",
              " 32563,\n",
              " 32894,\n",
              " 32961,\n",
              " 33044,\n",
              " 1007952,\n",
              " 1007964,\n",
              " 1007998,\n",
              " 33526,\n",
              " 1008015,\n",
              " 33755,\n",
              " 34138,\n",
              " 34585,\n",
              " 34816,\n",
              " 35423,\n",
              " 1008356,\n",
              " 1008392,\n",
              " 1008426,\n",
              " 1008427,\n",
              " 1008494,\n",
              " 1008507,\n",
              " 1008523,\n",
              " 36389,\n",
              " 1008539,\n",
              " 36773,\n",
              " 1008590,\n",
              " 36819,\n",
              " 1008595,\n",
              " 1008602,\n",
              " 1008657,\n",
              " 37498,\n",
              " 37605,\n",
              " 1008690,\n",
              " 37964,\n",
              " 1008746,\n",
              " 37984,\n",
              " 1008754,\n",
              " 1008755,\n",
              " 1008762,\n",
              " 1008812,\n",
              " 1008851,\n",
              " 38500,\n",
              " 1008879,\n",
              " 39056,\n",
              " 1008996,\n",
              " 1008998,\n",
              " 39266,\n",
              " 1009000,\n",
              " 39742,\n",
              " 1009070,\n",
              " 40033,\n",
              " 1009104,\n",
              " 40037,\n",
              " 40324,\n",
              " 40400,\n",
              " 40753,\n",
              " 1009243,\n",
              " 1009270,\n",
              " 1009274,\n",
              " 41087,\n",
              " 41141,\n",
              " 1009300,\n",
              " 41507,\n",
              " 1009431,\n",
              " 1009432,\n",
              " 41544,\n",
              " 41546,\n",
              " 1009435,\n",
              " 41549,\n",
              " 41562,\n",
              " 41631,\n",
              " 41709,\n",
              " 41710,\n",
              " 41802,\n",
              " 42038,\n",
              " 1009600,\n",
              " 1009601,\n",
              " 1009603,\n",
              " 1009624,\n",
              " 1009630,\n",
              " 1009629,\n",
              " 42375,\n",
              " 42426,\n",
              " 1009646,\n",
              " 42465,\n",
              " 42552,\n",
              " 42599,\n",
              " 42695,\n",
              " 1009684,\n",
              " 1009704,\n",
              " 42806,\n",
              " 1009809,\n",
              " 43456,\n",
              " 43479,\n",
              " 1009871,\n",
              " 1009870,\n",
              " 43709,\n",
              " 43778,\n",
              " 1009891,\n",
              " 1009892,\n",
              " 1009905,\n",
              " 43929,\n",
              " 1009913,\n",
              " 1009943,\n",
              " 1009944,\n",
              " 1009947,\n",
              " 43952,\n",
              " 43956,\n",
              " 43993,\n",
              " 44021,\n",
              " 1009962,\n",
              " 1010008,\n",
              " 1010020,\n",
              " 44432,\n",
              " 1010046,\n",
              " 44571,\n",
              " 1010060,\n",
              " 44711,\n",
              " 45052,\n",
              " 45078,\n",
              " 1010121,\n",
              " 45081,\n",
              " 1010186,\n",
              " 45502,\n",
              " 45637,\n",
              " 1010253,\n",
              " 45998,\n",
              " 1010302,\n",
              " 1010305,\n",
              " 1010319,\n",
              " 46473,\n",
              " 46505,\n",
              " 1010353,\n",
              " 1010354,\n",
              " 46506,\n",
              " 1010379,\n",
              " 1010473,\n",
              " 1010504,\n",
              " 47216,\n",
              " 47218,\n",
              " 1010505,\n",
              " 1010534,\n",
              " 47539,\n",
              " 1010553,\n",
              " 1010581,\n",
              " 1010584,\n",
              " 1010576,\n",
              " 1010588,\n",
              " 1010589,\n",
              " 1010630,\n",
              " 1010634,\n",
              " 1010690,\n",
              " 48330,\n",
              " 1010786,\n",
              " 48335,\n",
              " 48336,\n",
              " 1010788,\n",
              " 48341,\n",
              " 1010792,\n",
              " 1010823,\n",
              " 48765,\n",
              " 49200,\n",
              " 1010915,\n",
              " 1010914,\n",
              " 49207,\n",
              " 1010918,\n",
              " 1010913,\n",
              " 1010924,\n",
              " 1010935,\n",
              " 49373,\n",
              " 49377,\n",
              " 1010951,\n",
              " 1010949,\n",
              " 1010948,\n",
              " 1010952,\n",
              " 1010950,\n",
              " 1010953,\n",
              " 49433,\n",
              " 49596,\n",
              " 1011013,\n",
              " 1011052,\n",
              " 1011053,\n",
              " 1011054,\n",
              " 50051,\n",
              " 1011184,\n",
              " 50524,\n",
              " 1011205,\n",
              " 1011213,\n",
              " 1011214,\n",
              " 1011249,\n",
              " 1011254,\n",
              " 51006,\n",
              " 1011287,\n",
              " 51279,\n",
              " 51318,\n",
              " 1011339,\n",
              " 1011345,\n",
              " 51977,\n",
              " 51985,\n",
              " 52401,\n",
              " 52572,\n",
              " 1011446,\n",
              " 52606,\n",
              " 52825,\n",
              " 1011490,\n",
              " 52985,\n",
              " 1011521,\n",
              " 1011545,\n",
              " 1011547,\n",
              " 53239,\n",
              " 1011599,\n",
              " 1011682,\n",
              " 1011728,\n",
              " 54418,\n",
              " 54526,\n",
              " 55009,\n",
              " 1012155,\n",
              " 1012154,\n",
              " 55157,\n",
              " 1012172,\n",
              " 1012195,\n",
              " 55421,\n",
              " 1012235,\n",
              " 1012267,\n",
              " 55643,\n",
              " 1012506,\n",
              " 1012521,\n",
              " 55840,\n",
              " 55902,\n",
              " 56016,\n",
              " 1012595,\n",
              " 56335,\n",
              " 1012666,\n",
              " 1012691,\n",
              " 1012713,\n",
              " 56798,\n",
              " 1012819,\n",
              " 1012841,\n",
              " 57324,\n",
              " 1012862,\n",
              " 57326,\n",
              " 57329,\n",
              " 1013004,\n",
              " 1013039,\n",
              " 1013117,\n",
              " 58179,\n",
              " 1013390,\n",
              " 1013659,\n",
              " 59115,\n",
              " 59421,\n",
              " 1013741,\n",
              " 59849,\n",
              " 59943,\n",
              " 1013779,\n",
              " 59968,\n",
              " 1013844,\n",
              " 1013854,\n",
              " 1014208,\n",
              " 1014214,\n",
              " 60480,\n",
              " 1014235,\n",
              " 60582,\n",
              " 60658,\n",
              " 60675,\n",
              " 60849,\n",
              " 1014277,\n",
              " 1014286,\n",
              " 1014300,\n",
              " 60853,\n",
              " 61071,\n",
              " 1014370,\n",
              " 1014578,\n",
              " 62314,\n",
              " 62317,\n",
              " 1014600,\n",
              " 1014595,\n",
              " 1014596,\n",
              " 1014604,\n",
              " 1014601,\n",
              " 1014602,\n",
              " 1014607,\n",
              " 1014605,\n",
              " 62324,\n",
              " 1014609,\n",
              " 1014610,\n",
              " 62341,\n",
              " 1014659,\n",
              " 1014671,\n",
              " 62809,\n",
              " 1014673,\n",
              " 62903,\n",
              " 63470,\n",
              " 1014769,\n",
              " 1014770,\n",
              " 63517,\n",
              " 1014771,\n",
              " 63532,\n",
              " 1014781,\n",
              " 64077,\n",
              " 64081,\n",
              " 64367,\n",
              " 64755,\n",
              " 1015061,\n",
              " 1015067,\n",
              " 1015072,\n",
              " 1015085,\n",
              " 65042,\n",
              " 1015102,\n",
              " 1015103,\n",
              " 65043,\n",
              " 65044,\n",
              " 65090,\n",
              " 1015142,\n",
              " 1015214,\n",
              " 1015225,\n",
              " 1015252,\n",
              " 1015279,\n",
              " 66096,\n",
              " 1015318,\n",
              " 66482,\n",
              " 1015356,\n",
              " 66643,\n",
              " 66645,\n",
              " 1015380,\n",
              " 66701,\n",
              " 1015399,\n",
              " 1015400,\n",
              " 67099,\n",
              " 1015436,\n",
              " 67129,\n",
              " 1015462,\n",
              " 1015468,\n",
              " 1015482,\n",
              " 67209,\n",
              " 68034,\n",
              " 1015754,\n",
              " 1015770,\n",
              " 68381,\n",
              " 1015792,\n",
              " 68824,\n",
              " 68858,\n",
              " 1015955,\n",
              " 68881,\n",
              " 1015967,\n",
              " 1015968,\n",
              " 1015971,\n",
              " 68972,\n",
              " 69009,\n",
              " 69116,\n",
              " 1016095,\n",
              " 69564,\n",
              " 1016117,\n",
              " 1016118,\n",
              " 1016119,\n",
              " 69977,\n",
              " 70038,\n",
              " 1016227,\n",
              " 70584,\n",
              " 1016271,\n",
              " 1016273,\n",
              " 1016339,\n",
              " 70886,\n",
              " 71083,\n",
              " 71147,\n",
              " 71187,\n",
              " 1016435,\n",
              " 1016464,\n",
              " 71404,\n",
              " 1016465,\n",
              " 1016467,\n",
              " 1016468,\n",
              " 71424,\n",
              " 1016516,\n",
              " 1016549,\n",
              " 1016548,\n",
              " 1016550,\n",
              " 71955,\n",
              " 1016607,\n",
              " 1016613,\n",
              " 72291,\n",
              " 1016626,\n",
              " 1016627,\n",
              " 1016628,\n",
              " 1016641,\n",
              " 72489,\n",
              " 1016671,\n",
              " 1016706,\n",
              " 72938,\n",
              " 1016736,\n",
              " 73153,\n",
              " 73265,\n",
              " 1016760,\n",
              " 73707,\n",
              " 1016928,\n",
              " 1016930,\n",
              " 73864,\n",
              " 73866,\n",
              " 1016933,\n",
              " 1016936,\n",
              " 73928,\n",
              " 74147,\n",
              " 1017014,\n",
              " 1017019,\n",
              " 1017023,\n",
              " 74515,\n",
              " 1017047,\n",
              " 1017050,\n",
              " 1017079,\n",
              " 1017085,\n",
              " 74762,\n",
              " 1017091,\n",
              " 1017102,\n",
              " 1017116,\n",
              " 1017134,\n",
              " 75087,\n",
              " 1017133,\n",
              " 1017163,\n",
              " 1017176,\n",
              " 1017216,\n",
              " 1017313,\n",
              " 1017344,\n",
              " 1017348,\n",
              " 76323,\n",
              " 76976,\n",
              " 1017468,\n",
              " 1017471,\n",
              " 1017551,\n",
              " 77930,\n",
              " 78006,\n",
              " 1017617,\n",
              " 1017637,\n",
              " 78272,\n",
              " 1017678,\n",
              " 1017755,\n",
              " 1017770,\n",
              " 1018305,\n",
              " 1018314,\n",
              " 1018321,\n",
              " 79438,\n",
              " 1018360,\n",
              " 1018362,\n",
              " 79601,\n",
              " 1018399,\n",
              " 80128,\n",
              " 80184,\n",
              " 80253,\n",
              " 1018529,\n",
              " 80403,\n",
              " 1018577,\n",
              " 1018583,\n",
              " 1018612,\n",
              " 1018651,\n",
              " 81107,\n",
              " 81131,\n",
              " 1018670,\n",
              " 1018669,\n",
              " 1018671,\n",
              " 1018697,\n",
              " 1018723,\n",
              " 1018733,\n",
              " 81450,\n",
              " 1018752,\n",
              " 81921,\n",
              " 1018818,\n",
              " 81937,\n",
              " 81989,\n",
              " 1018837,\n",
              " 1018840,\n",
              " 82310,\n",
              " 1018962,\n",
              " 82620,\n",
              " 1019017,\n",
              " 1019018,\n",
              " 1019045,\n",
              " 1019061,\n",
              " 82970,\n",
              " 83058,\n",
              " 1019074,\n",
              " 83369,\n",
              " 1019199,\n",
              " 83769,\n",
              " 83783,\n",
              " 83791,\n",
              " 1019252,\n",
              " 1019254,\n",
              " 1019324,\n",
              " 1019333,\n",
              " 84078,\n",
              " 84209,\n",
              " 1019377,\n",
              " 1019466,\n",
              " 1019467,\n",
              " 1019476,\n",
              " 84497,\n",
              " 1019504,\n",
              " 84629,\n",
              " 84646,\n",
              " 1019522,\n",
              " 84759,\n",
              " 1019533,\n",
              " 84761,\n",
              " 1019552,\n",
              " 84968,\n",
              " 1019637,\n",
              " 1019648,\n",
              " 85354,\n",
              " 85671,\n",
              " 1019762,\n",
              " 85881,\n",
              " 1019777,\n",
              " 86061,\n",
              " 1019809,\n",
              " 86204,\n",
              " 1019901,\n",
              " 1019903,\n",
              " 1019904,\n",
              " 1019902,\n",
              " 1019900,\n",
              " 1019920,\n",
              " 86316,\n",
              " 1019961,\n",
              " 1020048,\n",
              " 1020063,\n",
              " 1020076,\n",
              " 1020087,\n",
              " 1020086,\n",
              " 1020093,\n",
              " 1020079,\n",
              " 1020080,\n",
              " 1020089,\n",
              " 1020073,\n",
              " 1020075,\n",
              " 1020077,\n",
              " 1020083,\n",
              " 1020095,\n",
              " 1020091,\n",
              " 1020074,\n",
              " 1020081,\n",
              " 1020084,\n",
              " 1020072,\n",
              " 1020078,\n",
              " 1020094,\n",
              " 1020085,\n",
              " 1020090,\n",
              " 1020082,\n",
              " 1020092,\n",
              " 1020088,\n",
              " 86740,\n",
              " 86807,\n",
              " 1020130,\n",
              " 1020140,\n",
              " 87134,\n",
              " 1020185,\n",
              " 1020323,\n",
              " 1020328,\n",
              " 1020348,\n",
              " 1020351,\n",
              " 87503,\n",
              " 87994,\n",
              " 88002,\n",
              " 1020423,\n",
              " 1020452,\n",
              " 88395,\n",
              " 88415,\n",
              " 1020474,\n",
              " 1020480,\n",
              " 1020490,\n",
              " 88721,\n",
              " 1020503,\n",
              " 88752,\n",
              " 1020505,\n",
              " 88758,\n",
              " 88798,\n",
              " 88880,\n",
              " 88893,\n",
              " 1020538,\n",
              " 88903,\n",
              " 1020587,\n",
              " 89115,\n",
              " 1020712,\n",
              " 1020711,\n",
              " 89608,\n",
              " 1020726,\n",
              " 89869,\n",
              " 89870,\n",
              " 1020771,\n",
              " 89903,\n",
              " 1020802,\n",
              " 89962,\n",
              " 1020826,\n",
              " 1020892,\n",
              " 1020944,\n",
              " 1020954,\n",
              " 90253,\n",
              " 1020950,\n",
              " 1020952,\n",
              " 1020956,\n",
              " 1020953,\n",
              " 1020955,\n",
              " 1020951,\n",
              " 1020949,\n",
              " 90383,\n",
              " 90476,\n",
              " 90493,\n",
              " 1021031,\n",
              " 90801,\n",
              " 90901,\n",
              " 90973,\n",
              " 1021152,\n",
              " 1021149,\n",
              " 1021154,\n",
              " 91064,\n",
              " 1021173,\n",
              " 1021201,\n",
              " 1021217,\n",
              " 91246,\n",
              " 91338,\n",
              " 1021321,\n",
              " 91642,\n",
              " 1021356,\n",
              " 91831,\n",
              " 1021384,\n",
              " 1021390,\n",
              " 1021411,\n",
              " 1021417,\n",
              " 1021455,\n",
              " 92199,\n",
              " 1021477,\n",
              " 92206,\n",
              " 92224,\n",
              " 92868,\n",
              " 1021656,\n",
              " 1021661,\n",
              " 1021679,\n",
              " 93473,\n",
              " ...]"
            ]
          },
          "metadata": {
            "tags": []
          },
          "execution_count": 16
        }
      ]
    },
    {
      "cell_type": "code",
      "metadata": {
        "id": "xSfQeVUCsXvq",
        "colab_type": "code",
        "colab": {}
      },
      "source": [
        "data.iloc[indeces,16] = 1\n",
        "# 16 -> \"class_label\" column number"
      ],
      "execution_count": 0,
      "outputs": []
    },
    {
      "cell_type": "code",
      "metadata": {
        "id": "gXaalInOsXvu",
        "colab_type": "code",
        "colab": {}
      },
      "source": [
        "#duplicateRowsDF = data[data.duplicated(['AdURL','AdId', 'AdvId','UId','QId','KeyId','TitleId','DescId','Depth','Pos','impressions'])]\n",
        "#duplicateRowsDF = data[data.duplicated(['index'])]\n",
        "\n",
        "# data_n= data_n.loc[data_n['index']==30]\n",
        "# data_n = data_n.sample(2)\n",
        "# data_n['label']=1"
      ],
      "execution_count": 0,
      "outputs": []
    },
    {
      "cell_type": "code",
      "metadata": {
        "id": "1T57xjgnsXvz",
        "colab_type": "code",
        "colab": {}
      },
      "source": [
        "# Saving to csv file\n",
        "\n",
        "data.to_csv('C:/Users/Administrator/Documents/Datasets/KDD_Cup_2012_Track 2/train_10L_labeled.csv',index=False)"
      ],
      "execution_count": 0,
      "outputs": []
    },
    {
      "cell_type": "code",
      "metadata": {
        "id": "ERxa3U0ssXv4",
        "colab_type": "code",
        "outputId": "6cacbcbf-1387-41ac-ac7b-780d5a4a2342",
        "colab": {}
      },
      "source": [
        "# Reading from csv file\n",
        "\n",
        "data = pd.read_csv(\"C:/Users/Administrator/Documents/Datasets/KDD_Cup_2012_Track 2/train_10L_labeled.csv\")\n",
        "\n",
        "data.head()"
      ],
      "execution_count": 0,
      "outputs": [
        {
          "output_type": "execute_result",
          "data": {
            "text/html": [
              "<div>\n",
              "<style scoped>\n",
              "    .dataframe tbody tr th:only-of-type {\n",
              "        vertical-align: middle;\n",
              "    }\n",
              "\n",
              "    .dataframe tbody tr th {\n",
              "        vertical-align: top;\n",
              "    }\n",
              "\n",
              "    .dataframe thead th {\n",
              "        text-align: right;\n",
              "    }\n",
              "</style>\n",
              "<table border=\"1\" class=\"dataframe\">\n",
              "  <thead>\n",
              "    <tr style=\"text-align: right;\">\n",
              "      <th></th>\n",
              "      <th>index</th>\n",
              "      <th>clicks</th>\n",
              "      <th>impressions</th>\n",
              "      <th>AdURL</th>\n",
              "      <th>AdId</th>\n",
              "      <th>AdvId</th>\n",
              "      <th>Depth</th>\n",
              "      <th>Pos</th>\n",
              "      <th>QId</th>\n",
              "      <th>KeyId</th>\n",
              "      <th>TitleId</th>\n",
              "      <th>DescId</th>\n",
              "      <th>UId</th>\n",
              "      <th>class_label</th>\n",
              "    </tr>\n",
              "  </thead>\n",
              "  <tbody>\n",
              "    <tr>\n",
              "      <th>0</th>\n",
              "      <td>0</td>\n",
              "      <td>0.0</td>\n",
              "      <td>1.0</td>\n",
              "      <td>4298118681424644608</td>\n",
              "      <td>7686695</td>\n",
              "      <td>385</td>\n",
              "      <td>3</td>\n",
              "      <td>3</td>\n",
              "      <td>1601</td>\n",
              "      <td>5521</td>\n",
              "      <td>7709</td>\n",
              "      <td>576</td>\n",
              "      <td>490234</td>\n",
              "      <td>0</td>\n",
              "    </tr>\n",
              "    <tr>\n",
              "      <th>1</th>\n",
              "      <td>1</td>\n",
              "      <td>0.0</td>\n",
              "      <td>1.0</td>\n",
              "      <td>4860571499428580352</td>\n",
              "      <td>21560664</td>\n",
              "      <td>37484</td>\n",
              "      <td>2</td>\n",
              "      <td>2</td>\n",
              "      <td>2255103</td>\n",
              "      <td>317</td>\n",
              "      <td>48989</td>\n",
              "      <td>44771</td>\n",
              "      <td>490234</td>\n",
              "      <td>0</td>\n",
              "    </tr>\n",
              "    <tr>\n",
              "      <th>2</th>\n",
              "      <td>2</td>\n",
              "      <td>0.0</td>\n",
              "      <td>1.0</td>\n",
              "      <td>9704320783495874560</td>\n",
              "      <td>21748480</td>\n",
              "      <td>36759</td>\n",
              "      <td>3</td>\n",
              "      <td>3</td>\n",
              "      <td>4532751</td>\n",
              "      <td>60721</td>\n",
              "      <td>685038</td>\n",
              "      <td>29681</td>\n",
              "      <td>490234</td>\n",
              "      <td>0</td>\n",
              "    </tr>\n",
              "    <tr>\n",
              "      <th>3</th>\n",
              "      <td>3</td>\n",
              "      <td>0.0</td>\n",
              "      <td>1.0</td>\n",
              "      <td>13677630321509009408</td>\n",
              "      <td>3517124</td>\n",
              "      <td>23778</td>\n",
              "      <td>3</td>\n",
              "      <td>1</td>\n",
              "      <td>1601</td>\n",
              "      <td>2155</td>\n",
              "      <td>1207</td>\n",
              "      <td>1422</td>\n",
              "      <td>490234</td>\n",
              "      <td>0</td>\n",
              "    </tr>\n",
              "    <tr>\n",
              "      <th>4</th>\n",
              "      <td>4</td>\n",
              "      <td>0.0</td>\n",
              "      <td>1.0</td>\n",
              "      <td>3284760244799604736</td>\n",
              "      <td>20758093</td>\n",
              "      <td>34535</td>\n",
              "      <td>1</td>\n",
              "      <td>1</td>\n",
              "      <td>4532751</td>\n",
              "      <td>77819</td>\n",
              "      <td>266618</td>\n",
              "      <td>222223</td>\n",
              "      <td>490234</td>\n",
              "      <td>0</td>\n",
              "    </tr>\n",
              "  </tbody>\n",
              "</table>\n",
              "</div>"
            ],
            "text/plain": [
              "   index  clicks  impressions                 AdURL      AdId  AdvId  Depth  \\\n",
              "0      0     0.0          1.0   4298118681424644608   7686695    385      3   \n",
              "1      1     0.0          1.0   4860571499428580352  21560664  37484      2   \n",
              "2      2     0.0          1.0   9704320783495874560  21748480  36759      3   \n",
              "3      3     0.0          1.0  13677630321509009408   3517124  23778      3   \n",
              "4      4     0.0          1.0   3284760244799604736  20758093  34535      1   \n",
              "\n",
              "   Pos      QId  KeyId  TitleId  DescId     UId  class_label  \n",
              "0    3     1601   5521     7709     576  490234            0  \n",
              "1    2  2255103    317    48989   44771  490234            0  \n",
              "2    3  4532751  60721   685038   29681  490234            0  \n",
              "3    1     1601   2155     1207    1422  490234            0  \n",
              "4    1  4532751  77819   266618  222223  490234            0  "
            ]
          },
          "metadata": {
            "tags": []
          },
          "execution_count": 39
        }
      ]
    },
    {
      "cell_type": "code",
      "metadata": {
        "id": "fSpJjaSSsXv8",
        "colab_type": "code",
        "outputId": "b51fd9ed-b375-4361-a6f5-c46092fbccb8",
        "colab": {}
      },
      "source": [
        "disb = data['class_label'].value_counts().sortlevel()\n",
        "\n",
        "my_colors = 'rgbkymc'\n",
        "disb.plot(kind='bar')\n",
        "plt.xlabel('Class')\n",
        "plt.ylabel('Data points per Class')\n",
        "plt.title('Distribution')\n",
        "plt.grid()\n",
        "plt.show()"
      ],
      "execution_count": 0,
      "outputs": [
        {
          "output_type": "display_data",
          "data": {
            "image/png": "[encoded data removed]",
            "text/plain": [
              "<Figure size 432x288 with 1 Axes>"
            ]
          },
          "metadata": {
            "tags": []
          }
        }
      ]
    },
    {
      "cell_type": "code",
      "metadata": {
        "id": "bf0J7ZAKsXwA",
        "colab_type": "code",
        "outputId": "0052d23a-dc71-4353-aa7d-975ff1df3939",
        "colab": {}
      },
      "source": [
        "data['class_label'].value_counts()"
      ],
      "execution_count": 0,
      "outputs": [
        {
          "output_type": "execute_result",
          "data": {
            "text/plain": [
              "0    1223664\n",
              "1      11429\n",
              "Name: class_label, dtype: int64"
            ]
          },
          "metadata": {
            "tags": []
          },
          "execution_count": 41
        }
      ]
    },
    {
      "cell_type": "code",
      "metadata": {
        "id": "J-XEeHLpsXwL",
        "colab_type": "code",
        "outputId": "cdeccab0-4105-4dd2-a054-26b1992578a3",
        "colab": {}
      },
      "source": [
        "# CTR(ad) = #Clicks(ad)/#Impressions(ad)\n",
        "\n",
        "# Calculating net CTR for our dataset...\n",
        "\n",
        "total_impressions = data['impressions'].sum()\n",
        "total_clicks      = data['clicks'].sum()\n",
        "net_CTR           = total_clicks * 1.0 / total_impressions\n",
        "\n",
        "print( ('Net CTR: {0}'.format(round(net_CTR*100,2))), '%')"
      ],
      "execution_count": 0,
      "outputs": [
        {
          "output_type": "stream",
          "text": [
            "Net CTR: 3.24 %\n"
          ],
          "name": "stdout"
        }
      ]
    },
    {
      "cell_type": "code",
      "metadata": {
        "id": "JW1LEI9fsXwP",
        "colab_type": "code",
        "outputId": "8a8b361c-cdde-4d70-d715-31edf6b4bf1b",
        "colab": {}
      },
      "source": [
        "# total no. of unique users in the dataset...\n",
        "print( 'Total no. of unique users:', len(data.groupby('UId')))\n",
        "\n",
        "# total no. of unique queries in the dataset...\n",
        "print( 'Total no. of unique queries:', len(data.groupby('QId')))\n",
        "\n",
        "# total no. of unique advertisements in the dataset...\n",
        "print( 'Total no. of unique ads:', len(data.groupby('AdId')))\n",
        "\n",
        "# total no. of unique advertisers in the dataset...\n",
        "print( 'Total no. of unique advertisers:', len(data.groupby('AdvId')))"
      ],
      "execution_count": 0,
      "outputs": [
        {
          "output_type": "stream",
          "text": [
            "Total no. of unique users: 202547\n",
            "Total no. of unique queries: 279352\n",
            "Total no. of unique ads: 99242\n",
            "Total no. of unique advertisers: 12193\n"
          ],
          "name": "stdout"
        }
      ]
    },
    {
      "cell_type": "code",
      "metadata": {
        "id": "9THXIDuesXwU",
        "colab_type": "code",
        "outputId": "b15e9c20-b3b6-4aa2-90de-4166fa24aa39",
        "colab": {}
      },
      "source": [
        "sns.kdeplot(data['CTR'])\n",
        "plt.show()"
      ],
      "execution_count": 0,
      "outputs": [
        {
          "output_type": "display_data",
          "data": {
            "image/png": "[encoded data removed]",
            "text/plain": [
              "<Figure size 432x288 with 1 Axes>"
            ]
          },
          "metadata": {
            "tags": []
          }
        }
      ]
    },
    {
      "cell_type": "code",
      "metadata": {
        "id": "f63gup1psXwX",
        "colab_type": "code",
        "outputId": "7c424b87-41bf-45fc-8c06-a715e702cd6b",
        "colab": {}
      },
      "source": [
        "f, (ax1, ax2) = plt.subplots(2)\n",
        "sns.boxplot(x='class_label', y='CTR', data=data,ax=ax1)\n",
        "sns.boxplot(x='class_label', y='pCTR', data=data,ax=ax2)\n",
        "\n",
        "plt.show()"
      ],
      "execution_count": 0,
      "outputs": [
        {
          "output_type": "display_data",
          "data": {
            "image/png": "[encoded data removed]",
            "text/plain": [
              "<Figure size 432x288 with 2 Axes>"
            ]
          },
          "metadata": {
            "tags": []
          }
        }
      ]
    },
    {
      "cell_type": "markdown",
      "metadata": {
        "id": "5LsE7wLlsXwc",
        "colab_type": "text"
      },
      "source": [
        "The adds which have high CTR got clicked"
      ]
    },
    {
      "cell_type": "markdown",
      "metadata": {
        "id": "zqEKCELlsXwd",
        "colab_type": "text"
      },
      "source": [
        "### Train Test Split"
      ]
    },
    {
      "cell_type": "code",
      "metadata": {
        "id": "6WDE7SrasXwe",
        "colab_type": "code",
        "colab": {}
      },
      "source": [
        "y_true = data['class_label'].values\n",
        "\n",
        "# split the data into test and train by maintaining same distribution of output varaible 'y_true' [stratify=y_true]\n",
        "x_train, x_test, y_train, y_test = train_test_split(data, y_true, stratify=y_true, test_size=0.20)"
      ],
      "execution_count": 0,
      "outputs": []
    },
    {
      "cell_type": "code",
      "metadata": {
        "id": "2rIqCC8QsXwi",
        "colab_type": "code",
        "outputId": "3ee86226-51d1-4262-e884-3df1d8a9cb17",
        "colab": {}
      },
      "source": [
        "print(x_train.shape)\n",
        "print(x_test.shape)\n",
        "print(y_train.shape)\n",
        "print(y_test.shape)"
      ],
      "execution_count": 0,
      "outputs": [
        {
          "output_type": "stream",
          "text": [
            "(988074, 14)\n",
            "(247019, 14)\n",
            "(988074,)\n",
            "(247019,)\n"
          ],
          "name": "stdout"
        }
      ]
    },
    {
      "cell_type": "code",
      "metadata": {
        "id": "Kzn2V-kesXwo",
        "colab_type": "code",
        "outputId": "028bda1a-deef-486a-c3e4-54265b95df5b",
        "colab": {}
      },
      "source": [
        "train_class_distribution = x_train['class_label'].value_counts().sortlevel()\n",
        "test_class_distribution = x_test['class_label'].value_counts().sortlevel()\n",
        "\n",
        "my_colors = 'rgbkymc'\n",
        "train_class_distribution.plot(kind='bar')\n",
        "plt.xlabel('Class')\n",
        "plt.ylabel('Data points per Class')\n",
        "plt.title('Distribution of yi in train data')\n",
        "plt.grid()\n",
        "plt.show()\n",
        "\n",
        "# ref: argsort https://docs.scipy.org/doc/numpy/reference/generated/numpy.argsort.html\n",
        "# -(train_class_distribution.values): the minus sign will give us in decreasing order\n",
        "sorted_yi = np.argsort(-train_class_distribution.values) #Return a Numpy representation of the DataFrame\n",
        "for i in sorted_yi:\n",
        "    print('Number of data points in class', i, ':',train_class_distribution.values[i], '(', np.round((train_class_distribution.values[i]/x_train.shape[0]*100), 3), '%)')\n",
        "\n",
        "\n",
        "print('-'*80)\n",
        "\n",
        "\n",
        "my_colors = 'rgbkymc'\n",
        "test_class_distribution.plot(kind='bar')\n",
        "plt.xlabel('Class')\n",
        "plt.ylabel('Data points per Class')\n",
        "plt.title('Distribution of yi in test data')\n",
        "plt.grid()\n",
        "plt.show()\n",
        "\n",
        "# ref: argsort https://docs.scipy.org/doc/numpy/reference/generated/numpy.argsort.html\n",
        "# -(train_class_distribution.values): the minus sign will give us in decreasing order\n",
        "sorted_yi = np.argsort(-test_class_distribution.values)\n",
        "for i in sorted_yi:\n",
        "    print('Number of data points in class', i, ':',test_class_distribution.values[i], '(', np.round((test_class_distribution.values[i]/x_test.shape[0]*100), 3), '%)')\n"
      ],
      "execution_count": 0,
      "outputs": [
        {
          "output_type": "display_data",
          "data": {
            "image/png": "[encoded data removed]",
            "text/plain": [
              "<Figure size 432x288 with 1 Axes>"
            ]
          },
          "metadata": {
            "tags": []
          }
        },
        {
          "output_type": "stream",
          "text": [
            "Number of data points in class 0 : 978931 ( 99.075 %)\n",
            "Number of data points in class 1 : 9143 ( 0.925 %)\n",
            "--------------------------------------------------------------------------------\n"
          ],
          "name": "stdout"
        },
        {
          "output_type": "display_data",
          "data": {
            "image/png": "[encoded data removed]",
            "text/plain": [
              "<Figure size 432x288 with 1 Axes>"
            ]
          },
          "metadata": {
            "tags": []
          }
        },
        {
          "output_type": "stream",
          "text": [
            "Number of data points in class 0 : 244733 ( 99.075 %)\n",
            "Number of data points in class 1 : 2286 ( 0.925 %)\n"
          ],
          "name": "stdout"
        }
      ]
    },
    {
      "cell_type": "code",
      "metadata": {
        "id": "ib63oKbesXw8",
        "colab_type": "code",
        "colab": {}
      },
      "source": [
        "#how to deal with highly imbalanced data?\n",
        "#https://www.kdnuggets.com/2017/06/7-techniques-handle-imbalanced-data.html"
      ],
      "execution_count": 0,
      "outputs": []
    },
    {
      "cell_type": "code",
      "metadata": {
        "id": "Mn5Y5zb4sXxB",
        "colab_type": "code",
        "colab": {}
      },
      "source": [
        "# we observe that some categories come with only a few or even no instances.\n",
        "\n",
        "# Computing the click-through rate directly for those categories would result in inaccurate estimations \n",
        "\n",
        "# because of the insuﬃcient statistics. Thus, we apply smoothing methods during click-through rate estima-tion. \n",
        "\n",
        "# We mainly use a simple additive smoothing  pseudo-CTR = click + α × β #impression + β\n",
        "\n",
        "# and we name it pseudo click-through rate (pseudo-CTR). In our experiments, we set α as 0.05 and β as 75."
      ],
      "execution_count": 0,
      "outputs": []
    },
    {
      "cell_type": "code",
      "metadata": {
        "id": "FhwW9ztmsXxF",
        "colab_type": "code",
        "outputId": "3b581f77-e925-4a5c-d805-06ebd29faa57",
        "colab": {}
      },
      "source": [
        "\n",
        "# Add target variable CTR as #clicks / #impression\n",
        "\n",
        "x_train['CTR'] = x_train['clicks'] * 1.0 / x_train['impressions']\n",
        "\n",
        "#adding relative position as a new feature\n",
        "x_train['RPosition'] = x_train['Depth'] - x_train['Pos'] * 1.0 / x_train['Depth']\n",
        "\n",
        "# Add predicted CTR as #clicks + ab / #impressions + b\n",
        "x_train['pCTR'] = (1.0 * x_train['clicks'] + 0.05 * 75) / (x_train['impressions'] + 75)\n",
        "\n",
        "x_train.head()"
      ],
      "execution_count": 0,
      "outputs": [
        {
          "output_type": "execute_result",
          "data": {
            "text/html": [
              "<div>\n",
              "<style scoped>\n",
              "    .dataframe tbody tr th:only-of-type {\n",
              "        vertical-align: middle;\n",
              "    }\n",
              "\n",
              "    .dataframe tbody tr th {\n",
              "        vertical-align: top;\n",
              "    }\n",
              "\n",
              "    .dataframe thead th {\n",
              "        text-align: right;\n",
              "    }\n",
              "</style>\n",
              "<table border=\"1\" class=\"dataframe\">\n",
              "  <thead>\n",
              "    <tr style=\"text-align: right;\">\n",
              "      <th></th>\n",
              "      <th>index</th>\n",
              "      <th>clicks</th>\n",
              "      <th>impressions</th>\n",
              "      <th>AdURL</th>\n",
              "      <th>AdId</th>\n",
              "      <th>AdvId</th>\n",
              "      <th>Depth</th>\n",
              "      <th>Pos</th>\n",
              "      <th>QId</th>\n",
              "      <th>KeyId</th>\n",
              "      <th>TitleId</th>\n",
              "      <th>DescId</th>\n",
              "      <th>UId</th>\n",
              "      <th>class_label</th>\n",
              "      <th>CTR</th>\n",
              "      <th>RPosition</th>\n",
              "      <th>pCTR</th>\n",
              "    </tr>\n",
              "  </thead>\n",
              "  <tbody>\n",
              "    <tr>\n",
              "      <th>35803</th>\n",
              "      <td>35803</td>\n",
              "      <td>0.0</td>\n",
              "      <td>1.0</td>\n",
              "      <td>14340390157469405184</td>\n",
              "      <td>4803006</td>\n",
              "      <td>23777</td>\n",
              "      <td>1</td>\n",
              "      <td>1</td>\n",
              "      <td>22997071</td>\n",
              "      <td>1929</td>\n",
              "      <td>2153</td>\n",
              "      <td>2403</td>\n",
              "      <td>2333164</td>\n",
              "      <td>0</td>\n",
              "      <td>0.0</td>\n",
              "      <td>0.0</td>\n",
              "      <td>0.049342</td>\n",
              "    </tr>\n",
              "    <tr>\n",
              "      <th>760987</th>\n",
              "      <td>760987</td>\n",
              "      <td>0.0</td>\n",
              "      <td>1.0</td>\n",
              "      <td>4298118681424644608</td>\n",
              "      <td>7831406</td>\n",
              "      <td>385</td>\n",
              "      <td>2</td>\n",
              "      <td>2</td>\n",
              "      <td>10784</td>\n",
              "      <td>1887</td>\n",
              "      <td>1220</td>\n",
              "      <td>574</td>\n",
              "      <td>129518</td>\n",
              "      <td>0</td>\n",
              "      <td>0.0</td>\n",
              "      <td>1.0</td>\n",
              "      <td>0.049342</td>\n",
              "    </tr>\n",
              "    <tr>\n",
              "      <th>360323</th>\n",
              "      <td>360323</td>\n",
              "      <td>0.0</td>\n",
              "      <td>2.0</td>\n",
              "      <td>14340390157469405184</td>\n",
              "      <td>21163923</td>\n",
              "      <td>23808</td>\n",
              "      <td>1</td>\n",
              "      <td>1</td>\n",
              "      <td>24552</td>\n",
              "      <td>436</td>\n",
              "      <td>688</td>\n",
              "      <td>34</td>\n",
              "      <td>517404</td>\n",
              "      <td>0</td>\n",
              "      <td>0.0</td>\n",
              "      <td>0.0</td>\n",
              "      <td>0.048701</td>\n",
              "    </tr>\n",
              "    <tr>\n",
              "      <th>158858</th>\n",
              "      <td>158858</td>\n",
              "      <td>0.0</td>\n",
              "      <td>2.0</td>\n",
              "      <td>13021740539055374336</td>\n",
              "      <td>21163748</td>\n",
              "      <td>8222</td>\n",
              "      <td>1</td>\n",
              "      <td>1</td>\n",
              "      <td>1155161</td>\n",
              "      <td>5275</td>\n",
              "      <td>3569</td>\n",
              "      <td>4303</td>\n",
              "      <td>4158196</td>\n",
              "      <td>0</td>\n",
              "      <td>0.0</td>\n",
              "      <td>0.0</td>\n",
              "      <td>0.048701</td>\n",
              "    </tr>\n",
              "    <tr>\n",
              "      <th>7867</th>\n",
              "      <td>7867</td>\n",
              "      <td>1.0</td>\n",
              "      <td>1.0</td>\n",
              "      <td>2692859619851282432</td>\n",
              "      <td>8692018</td>\n",
              "      <td>2051</td>\n",
              "      <td>2</td>\n",
              "      <td>2</td>\n",
              "      <td>4079</td>\n",
              "      <td>156908</td>\n",
              "      <td>180101</td>\n",
              "      <td>153253</td>\n",
              "      <td>6234447</td>\n",
              "      <td>0</td>\n",
              "      <td>1.0</td>\n",
              "      <td>1.0</td>\n",
              "      <td>0.062500</td>\n",
              "    </tr>\n",
              "  </tbody>\n",
              "</table>\n",
              "</div>"
            ],
            "text/plain": [
              "         index  clicks  impressions                 AdURL      AdId  AdvId  \\\n",
              "35803    35803     0.0          1.0  14340390157469405184   4803006  23777   \n",
              "760987  760987     0.0          1.0   4298118681424644608   7831406    385   \n",
              "360323  360323     0.0          2.0  14340390157469405184  21163923  23808   \n",
              "158858  158858     0.0          2.0  13021740539055374336  21163748   8222   \n",
              "7867      7867     1.0          1.0   2692859619851282432   8692018   2051   \n",
              "\n",
              "        Depth  Pos       QId   KeyId  TitleId  DescId      UId  class_label  \\\n",
              "35803       1    1  22997071    1929     2153    2403  2333164            0   \n",
              "760987      2    2     10784    1887     1220     574   129518            0   \n",
              "360323      1    1     24552     436      688      34   517404            0   \n",
              "158858      1    1   1155161    5275     3569    4303  4158196            0   \n",
              "7867        2    2      4079  156908   180101  153253  6234447            0   \n",
              "\n",
              "        CTR  RPosition      pCTR  \n",
              "35803   0.0        0.0  0.049342  \n",
              "760987  0.0        1.0  0.049342  \n",
              "360323  0.0        0.0  0.048701  \n",
              "158858  0.0        0.0  0.048701  \n",
              "7867    1.0        1.0  0.062500  "
            ]
          },
          "metadata": {
            "tags": []
          },
          "execution_count": 47
        }
      ]
    },
    {
      "cell_type": "code",
      "metadata": {
        "id": "9V4O60dRsXxJ",
        "colab_type": "code",
        "outputId": "ad986ce3-f1bd-4116-98c0-e733ced83e17",
        "colab": {}
      },
      "source": [
        "\n",
        "# Add target variable CTR as #clicks / #impression\n",
        "\n",
        "x_test['CTR'] = x_test['clicks'] * 1.0 / x_test['impressions']\n",
        "\n",
        "#adding relative position as a new feature\n",
        "x_test['RPosition'] = x_test['Depth'] - x_test['Pos'] * 1.0 / x_test['Depth']\n",
        "\n",
        "# Add predicted CTR as #clicks + ab / #impressions + b\n",
        "x_test['pCTR'] = (1.0 * x_test['clicks'] + 0.05 * 75) / (x_test['impressions'] + 75)\n",
        "\n",
        "x_test.head()"
      ],
      "execution_count": 0,
      "outputs": [
        {
          "output_type": "execute_result",
          "data": {
            "text/html": [
              "<div>\n",
              "<style scoped>\n",
              "    .dataframe tbody tr th:only-of-type {\n",
              "        vertical-align: middle;\n",
              "    }\n",
              "\n",
              "    .dataframe tbody tr th {\n",
              "        vertical-align: top;\n",
              "    }\n",
              "\n",
              "    .dataframe thead th {\n",
              "        text-align: right;\n",
              "    }\n",
              "</style>\n",
              "<table border=\"1\" class=\"dataframe\">\n",
              "  <thead>\n",
              "    <tr style=\"text-align: right;\">\n",
              "      <th></th>\n",
              "      <th>index</th>\n",
              "      <th>clicks</th>\n",
              "      <th>impressions</th>\n",
              "      <th>AdURL</th>\n",
              "      <th>AdId</th>\n",
              "      <th>AdvId</th>\n",
              "      <th>Depth</th>\n",
              "      <th>Pos</th>\n",
              "      <th>QId</th>\n",
              "      <th>KeyId</th>\n",
              "      <th>TitleId</th>\n",
              "      <th>DescId</th>\n",
              "      <th>UId</th>\n",
              "      <th>class_label</th>\n",
              "      <th>CTR</th>\n",
              "      <th>RPosition</th>\n",
              "      <th>pCTR</th>\n",
              "    </tr>\n",
              "  </thead>\n",
              "  <tbody>\n",
              "    <tr>\n",
              "      <th>683475</th>\n",
              "      <td>683475</td>\n",
              "      <td>0.0</td>\n",
              "      <td>1.0</td>\n",
              "      <td>15349556856043354112</td>\n",
              "      <td>22098439</td>\n",
              "      <td>36855</td>\n",
              "      <td>3</td>\n",
              "      <td>3</td>\n",
              "      <td>12875</td>\n",
              "      <td>89237</td>\n",
              "      <td>190</td>\n",
              "      <td>1125</td>\n",
              "      <td>5217721</td>\n",
              "      <td>0</td>\n",
              "      <td>0.0</td>\n",
              "      <td>2.000000</td>\n",
              "      <td>0.049342</td>\n",
              "    </tr>\n",
              "    <tr>\n",
              "      <th>769904</th>\n",
              "      <td>769904</td>\n",
              "      <td>0.0</td>\n",
              "      <td>2.0</td>\n",
              "      <td>9740463035797751808</td>\n",
              "      <td>21423590</td>\n",
              "      <td>11536</td>\n",
              "      <td>3</td>\n",
              "      <td>2</td>\n",
              "      <td>65</td>\n",
              "      <td>524</td>\n",
              "      <td>834</td>\n",
              "      <td>1031</td>\n",
              "      <td>519331</td>\n",
              "      <td>0</td>\n",
              "      <td>0.0</td>\n",
              "      <td>2.333333</td>\n",
              "      <td>0.048701</td>\n",
              "    </tr>\n",
              "    <tr>\n",
              "      <th>1024586</th>\n",
              "      <td>106870</td>\n",
              "      <td>1.0</td>\n",
              "      <td>2.0</td>\n",
              "      <td>14340390157469405184</td>\n",
              "      <td>20643978</td>\n",
              "      <td>23808</td>\n",
              "      <td>3</td>\n",
              "      <td>1</td>\n",
              "      <td>118247</td>\n",
              "      <td>690</td>\n",
              "      <td>250</td>\n",
              "      <td>358</td>\n",
              "      <td>315016</td>\n",
              "      <td>1</td>\n",
              "      <td>0.5</td>\n",
              "      <td>2.666667</td>\n",
              "      <td>0.061688</td>\n",
              "    </tr>\n",
              "    <tr>\n",
              "      <th>635839</th>\n",
              "      <td>635839</td>\n",
              "      <td>0.0</td>\n",
              "      <td>1.0</td>\n",
              "      <td>15234713295054012416</td>\n",
              "      <td>4255733</td>\n",
              "      <td>23964</td>\n",
              "      <td>2</td>\n",
              "      <td>1</td>\n",
              "      <td>410225</td>\n",
              "      <td>56503</td>\n",
              "      <td>165051</td>\n",
              "      <td>168562</td>\n",
              "      <td>1540438</td>\n",
              "      <td>0</td>\n",
              "      <td>0.0</td>\n",
              "      <td>1.500000</td>\n",
              "      <td>0.049342</td>\n",
              "    </tr>\n",
              "    <tr>\n",
              "      <th>1165021</th>\n",
              "      <td>725076</td>\n",
              "      <td>0.0</td>\n",
              "      <td>6.0</td>\n",
              "      <td>12402410148710070272</td>\n",
              "      <td>7817411</td>\n",
              "      <td>27726</td>\n",
              "      <td>2</td>\n",
              "      <td>1</td>\n",
              "      <td>3604511</td>\n",
              "      <td>514</td>\n",
              "      <td>110288</td>\n",
              "      <td>90021</td>\n",
              "      <td>8454</td>\n",
              "      <td>0</td>\n",
              "      <td>0.0</td>\n",
              "      <td>1.500000</td>\n",
              "      <td>0.046296</td>\n",
              "    </tr>\n",
              "  </tbody>\n",
              "</table>\n",
              "</div>"
            ],
            "text/plain": [
              "          index  clicks  impressions                 AdURL      AdId  AdvId  \\\n",
              "683475   683475     0.0          1.0  15349556856043354112  22098439  36855   \n",
              "769904   769904     0.0          2.0   9740463035797751808  21423590  11536   \n",
              "1024586  106870     1.0          2.0  14340390157469405184  20643978  23808   \n",
              "635839   635839     0.0          1.0  15234713295054012416   4255733  23964   \n",
              "1165021  725076     0.0          6.0  12402410148710070272   7817411  27726   \n",
              "\n",
              "         Depth  Pos      QId  KeyId  TitleId  DescId      UId  class_label  \\\n",
              "683475       3    3    12875  89237      190    1125  5217721            0   \n",
              "769904       3    2       65    524      834    1031   519331            0   \n",
              "1024586      3    1   118247    690      250     358   315016            1   \n",
              "635839       2    1   410225  56503   165051  168562  1540438            0   \n",
              "1165021      2    1  3604511    514   110288   90021     8454            0   \n",
              "\n",
              "         CTR  RPosition      pCTR  \n",
              "683475   0.0   2.000000  0.049342  \n",
              "769904   0.0   2.333333  0.048701  \n",
              "1024586  0.5   2.666667  0.061688  \n",
              "635839   0.0   1.500000  0.049342  \n",
              "1165021  0.0   1.500000  0.046296  "
            ]
          },
          "metadata": {
            "tags": []
          },
          "execution_count": 48
        }
      ]
    },
    {
      "cell_type": "code",
      "metadata": {
        "id": "5aUv9pTLsXxN",
        "colab_type": "code",
        "outputId": "ccca2eb0-9908-48db-d66a-782a42abf015",
        "colab": {}
      },
      "source": [
        "print(x_train.shape)\n",
        "print(x_test.shape)"
      ],
      "execution_count": 0,
      "outputs": [
        {
          "output_type": "stream",
          "text": [
            "(988074, 17)\n",
            "(247019, 17)\n"
          ],
          "name": "stdout"
        }
      ]
    },
    {
      "cell_type": "code",
      "metadata": {
        "id": "13Ygx0eRsXxY",
        "colab_type": "code",
        "colab": {}
      },
      "source": [
        "#  Now, we will load additional files provided in the problem, extract useful info. from them & merge"
      ],
      "execution_count": 0,
      "outputs": []
    },
    {
      "cell_type": "code",
      "metadata": {
        "id": "m2Xz8Dy8sXxe",
        "colab_type": "code",
        "colab": {}
      },
      "source": [
        "def count(sentence):\n",
        "    '''\n",
        "        (str) -> (int)\n",
        "        Returns no. of words in a sentence.\n",
        "    '''\n",
        "    return len(str(sentence).split('|'))\n",
        "\n",
        "\n",
        "\n",
        "\n",
        "# Load User Data..\n",
        "\n",
        "user_col  = ['UId', 'Gender', 'Age']\n",
        "user      = pd.read_csv('C:/Users/Administrator/Documents/Datasets/KDD_Cup_2012_Track 2/userid_profile.txt', sep='\\t', header=None, names=user_col)\n",
        "\n",
        "# Load Query Data..\n",
        "\n",
        "query_col = ['QId', 'Query']\n",
        "query     = pd.read_csv('C:/Users/Administrator/Documents/Datasets/KDD_Cup_2012_Track 2/queryid_tokensid.txt', sep='\\t', header=None, names=query_col)\n",
        "\n",
        "# Load Ad Description Data..\n",
        "\n",
        "desc_col  = ['DescId', 'Description']\n",
        "desc      = pd.read_csv('C:/Users/Administrator/Documents/Datasets/KDD_Cup_2012_Track 2/descriptionid_tokensid.txt', sep='\\t', header=None, names=desc_col)\n",
        "\n",
        "# Load Ad Title Data..\n",
        "\n",
        "title_col = ['TitleId', 'Title']\n",
        "title     = pd.read_csv('C:/Users/Administrator/Documents/Datasets/KDD_Cup_2012_Track 2/titleid_tokensid.txt', sep='\\t', header=None, names=title_col)\n",
        "\n",
        "# Load Keyword Data..\n",
        "\n",
        "key_col  = ['KeyId', 'Keyword']\n",
        "keyword  = pd.read_csv('C:/Users/Administrator/Documents/Datasets/KDD_Cup_2012_Track 2/purchasedkeywordid_tokensid.txt', sep='\\t', header=None, names=key_col)\n",
        "\n",
        "# Count no. of tokens in a query issued by a user.\n",
        "\n",
        "query['QCount'] = query['Query'].apply(count)\n",
        "del query['Query']\n",
        "\n",
        "# Count no. of tokens in title of an advertisement.\n",
        "\n",
        "title['TCount'] = title['Title'].apply(count)\n",
        "del title['Title']\n",
        "\n",
        "# Count no. of tokens in description of an advertisement.\n",
        "\n",
        "desc['DCount'] = desc['Description'].apply(count)\n",
        "del desc['Description']\n",
        "\n",
        "# Count no. of tokens in purchased keyword.\n",
        "\n",
        "keyword['KCount'] = keyword['Keyword'].apply(count)\n",
        "del keyword['Keyword']\n"
      ],
      "execution_count": 0,
      "outputs": []
    },
    {
      "cell_type": "code",
      "metadata": {
        "id": "ngbpaPnusXxi",
        "colab_type": "code",
        "outputId": "8e11aa27-54dd-4d7d-e8f5-9b595c4ad991",
        "colab": {}
      },
      "source": [
        "# Merging data with user, query, title, keyword & desc on appropriate keys to get data..\n",
        "\n",
        "x_train  = pd.merge(x_train, user,  on='UId')\n",
        "x_train  = pd.merge(x_train, query, on='QId')\n",
        "x_train  = pd.merge(x_train, title, on='TitleId')\n",
        "x_train  = pd.merge(x_train, desc,  on='DescId')\n",
        "x_train  = pd.merge(x_train, keyword, on='KeyId')\n",
        "\n",
        "x_train.head()"
      ],
      "execution_count": 0,
      "outputs": [
        {
          "output_type": "execute_result",
          "data": {
            "text/html": [
              "<div>\n",
              "<style scoped>\n",
              "    .dataframe tbody tr th:only-of-type {\n",
              "        vertical-align: middle;\n",
              "    }\n",
              "\n",
              "    .dataframe tbody tr th {\n",
              "        vertical-align: top;\n",
              "    }\n",
              "\n",
              "    .dataframe thead th {\n",
              "        text-align: right;\n",
              "    }\n",
              "</style>\n",
              "<table border=\"1\" class=\"dataframe\">\n",
              "  <thead>\n",
              "    <tr style=\"text-align: right;\">\n",
              "      <th></th>\n",
              "      <th>index</th>\n",
              "      <th>clicks</th>\n",
              "      <th>impressions</th>\n",
              "      <th>AdURL</th>\n",
              "      <th>AdId</th>\n",
              "      <th>AdvId</th>\n",
              "      <th>Depth</th>\n",
              "      <th>Pos</th>\n",
              "      <th>QId</th>\n",
              "      <th>KeyId</th>\n",
              "      <th>...</th>\n",
              "      <th>class_label</th>\n",
              "      <th>CTR</th>\n",
              "      <th>RPosition</th>\n",
              "      <th>pCTR</th>\n",
              "      <th>Gender</th>\n",
              "      <th>Age</th>\n",
              "      <th>QCount</th>\n",
              "      <th>TCount</th>\n",
              "      <th>DCount</th>\n",
              "      <th>KCount</th>\n",
              "    </tr>\n",
              "  </thead>\n",
              "  <tbody>\n",
              "    <tr>\n",
              "      <th>0</th>\n",
              "      <td>35803</td>\n",
              "      <td>0.0</td>\n",
              "      <td>1.0</td>\n",
              "      <td>14340390157469405184</td>\n",
              "      <td>4803006</td>\n",
              "      <td>23777</td>\n",
              "      <td>1</td>\n",
              "      <td>1</td>\n",
              "      <td>22997071</td>\n",
              "      <td>1929</td>\n",
              "      <td>...</td>\n",
              "      <td>0</td>\n",
              "      <td>0.0</td>\n",
              "      <td>0.000000</td>\n",
              "      <td>0.049342</td>\n",
              "      <td>2</td>\n",
              "      <td>1</td>\n",
              "      <td>5</td>\n",
              "      <td>4</td>\n",
              "      <td>24</td>\n",
              "      <td>1</td>\n",
              "    </tr>\n",
              "    <tr>\n",
              "      <th>1</th>\n",
              "      <td>35805</td>\n",
              "      <td>0.0</td>\n",
              "      <td>2.0</td>\n",
              "      <td>14340390157469405184</td>\n",
              "      <td>4803006</td>\n",
              "      <td>23777</td>\n",
              "      <td>2</td>\n",
              "      <td>1</td>\n",
              "      <td>2293</td>\n",
              "      <td>1929</td>\n",
              "      <td>...</td>\n",
              "      <td>0</td>\n",
              "      <td>0.0</td>\n",
              "      <td>1.500000</td>\n",
              "      <td>0.048701</td>\n",
              "      <td>2</td>\n",
              "      <td>1</td>\n",
              "      <td>1</td>\n",
              "      <td>4</td>\n",
              "      <td>24</td>\n",
              "      <td>1</td>\n",
              "    </tr>\n",
              "    <tr>\n",
              "      <th>2</th>\n",
              "      <td>920342</td>\n",
              "      <td>0.0</td>\n",
              "      <td>1.0</td>\n",
              "      <td>14340390157469405184</td>\n",
              "      <td>4803006</td>\n",
              "      <td>23777</td>\n",
              "      <td>3</td>\n",
              "      <td>1</td>\n",
              "      <td>2293</td>\n",
              "      <td>1929</td>\n",
              "      <td>...</td>\n",
              "      <td>0</td>\n",
              "      <td>0.0</td>\n",
              "      <td>2.666667</td>\n",
              "      <td>0.049342</td>\n",
              "      <td>1</td>\n",
              "      <td>3</td>\n",
              "      <td>1</td>\n",
              "      <td>4</td>\n",
              "      <td>24</td>\n",
              "      <td>1</td>\n",
              "    </tr>\n",
              "    <tr>\n",
              "      <th>3</th>\n",
              "      <td>78016</td>\n",
              "      <td>0.0</td>\n",
              "      <td>1.0</td>\n",
              "      <td>14340390157469405184</td>\n",
              "      <td>4803006</td>\n",
              "      <td>23777</td>\n",
              "      <td>2</td>\n",
              "      <td>1</td>\n",
              "      <td>2293</td>\n",
              "      <td>1929</td>\n",
              "      <td>...</td>\n",
              "      <td>0</td>\n",
              "      <td>0.0</td>\n",
              "      <td>1.500000</td>\n",
              "      <td>0.049342</td>\n",
              "      <td>1</td>\n",
              "      <td>1</td>\n",
              "      <td>1</td>\n",
              "      <td>4</td>\n",
              "      <td>24</td>\n",
              "      <td>1</td>\n",
              "    </tr>\n",
              "    <tr>\n",
              "      <th>4</th>\n",
              "      <td>831444</td>\n",
              "      <td>0.0</td>\n",
              "      <td>1.0</td>\n",
              "      <td>14340390157469405184</td>\n",
              "      <td>4803006</td>\n",
              "      <td>23777</td>\n",
              "      <td>2</td>\n",
              "      <td>1</td>\n",
              "      <td>2293</td>\n",
              "      <td>1929</td>\n",
              "      <td>...</td>\n",
              "      <td>0</td>\n",
              "      <td>0.0</td>\n",
              "      <td>1.500000</td>\n",
              "      <td>0.049342</td>\n",
              "      <td>2</td>\n",
              "      <td>4</td>\n",
              "      <td>1</td>\n",
              "      <td>4</td>\n",
              "      <td>24</td>\n",
              "      <td>1</td>\n",
              "    </tr>\n",
              "  </tbody>\n",
              "</table>\n",
              "<p>5 rows × 23 columns</p>\n",
              "</div>"
            ],
            "text/plain": [
              "    index  clicks  impressions                 AdURL     AdId  AdvId  Depth  \\\n",
              "0   35803     0.0          1.0  14340390157469405184  4803006  23777      1   \n",
              "1   35805     0.0          2.0  14340390157469405184  4803006  23777      2   \n",
              "2  920342     0.0          1.0  14340390157469405184  4803006  23777      3   \n",
              "3   78016     0.0          1.0  14340390157469405184  4803006  23777      2   \n",
              "4  831444     0.0          1.0  14340390157469405184  4803006  23777      2   \n",
              "\n",
              "   Pos       QId  KeyId   ...    class_label  CTR  RPosition      pCTR  \\\n",
              "0    1  22997071   1929   ...              0  0.0   0.000000  0.049342   \n",
              "1    1      2293   1929   ...              0  0.0   1.500000  0.048701   \n",
              "2    1      2293   1929   ...              0  0.0   2.666667  0.049342   \n",
              "3    1      2293   1929   ...              0  0.0   1.500000  0.049342   \n",
              "4    1      2293   1929   ...              0  0.0   1.500000  0.049342   \n",
              "\n",
              "   Gender  Age  QCount  TCount  DCount  KCount  \n",
              "0       2    1       5       4      24       1  \n",
              "1       2    1       1       4      24       1  \n",
              "2       1    3       1       4      24       1  \n",
              "3       1    1       1       4      24       1  \n",
              "4       2    4       1       4      24       1  \n",
              "\n",
              "[5 rows x 23 columns]"
            ]
          },
          "metadata": {
            "tags": []
          },
          "execution_count": 52
        }
      ]
    },
    {
      "cell_type": "code",
      "metadata": {
        "id": "NkNrPUAksXxm",
        "colab_type": "code",
        "outputId": "d5dc439b-48c8-46c7-e1ac-fc6d26e72324",
        "colab": {}
      },
      "source": [
        "# Merging data with user, query, title, keyword & desc on appropriate keys to get data..\n",
        "\n",
        "x_test  = pd.merge(x_test, user,  on='UId')\n",
        "x_test  = pd.merge(x_test, query, on='QId')\n",
        "x_test  = pd.merge(x_test, title, on='TitleId')\n",
        "x_test  = pd.merge(x_test, desc,  on='DescId')\n",
        "x_test  = pd.merge(x_test, keyword, on='KeyId')\n",
        "\n",
        "x_test.head()"
      ],
      "execution_count": 0,
      "outputs": [
        {
          "output_type": "execute_result",
          "data": {
            "text/html": [
              "<div>\n",
              "<style scoped>\n",
              "    .dataframe tbody tr th:only-of-type {\n",
              "        vertical-align: middle;\n",
              "    }\n",
              "\n",
              "    .dataframe tbody tr th {\n",
              "        vertical-align: top;\n",
              "    }\n",
              "\n",
              "    .dataframe thead th {\n",
              "        text-align: right;\n",
              "    }\n",
              "</style>\n",
              "<table border=\"1\" class=\"dataframe\">\n",
              "  <thead>\n",
              "    <tr style=\"text-align: right;\">\n",
              "      <th></th>\n",
              "      <th>index</th>\n",
              "      <th>clicks</th>\n",
              "      <th>impressions</th>\n",
              "      <th>AdURL</th>\n",
              "      <th>AdId</th>\n",
              "      <th>AdvId</th>\n",
              "      <th>Depth</th>\n",
              "      <th>Pos</th>\n",
              "      <th>QId</th>\n",
              "      <th>KeyId</th>\n",
              "      <th>...</th>\n",
              "      <th>class_label</th>\n",
              "      <th>CTR</th>\n",
              "      <th>RPosition</th>\n",
              "      <th>pCTR</th>\n",
              "      <th>Gender</th>\n",
              "      <th>Age</th>\n",
              "      <th>QCount</th>\n",
              "      <th>TCount</th>\n",
              "      <th>DCount</th>\n",
              "      <th>KCount</th>\n",
              "    </tr>\n",
              "  </thead>\n",
              "  <tbody>\n",
              "    <tr>\n",
              "      <th>0</th>\n",
              "      <td>683475</td>\n",
              "      <td>0.0</td>\n",
              "      <td>1.0</td>\n",
              "      <td>15349556856043354112</td>\n",
              "      <td>22098439</td>\n",
              "      <td>36855</td>\n",
              "      <td>3</td>\n",
              "      <td>3</td>\n",
              "      <td>12875</td>\n",
              "      <td>89237</td>\n",
              "      <td>...</td>\n",
              "      <td>0</td>\n",
              "      <td>0.0</td>\n",
              "      <td>2.000000</td>\n",
              "      <td>0.049342</td>\n",
              "      <td>2</td>\n",
              "      <td>3</td>\n",
              "      <td>3</td>\n",
              "      <td>14</td>\n",
              "      <td>26</td>\n",
              "      <td>3</td>\n",
              "    </tr>\n",
              "    <tr>\n",
              "      <th>1</th>\n",
              "      <td>969618</td>\n",
              "      <td>0.0</td>\n",
              "      <td>1.0</td>\n",
              "      <td>15349556856043354112</td>\n",
              "      <td>22098439</td>\n",
              "      <td>36855</td>\n",
              "      <td>3</td>\n",
              "      <td>2</td>\n",
              "      <td>12875</td>\n",
              "      <td>89237</td>\n",
              "      <td>...</td>\n",
              "      <td>0</td>\n",
              "      <td>0.0</td>\n",
              "      <td>2.333333</td>\n",
              "      <td>0.049342</td>\n",
              "      <td>1</td>\n",
              "      <td>3</td>\n",
              "      <td>3</td>\n",
              "      <td>14</td>\n",
              "      <td>26</td>\n",
              "      <td>3</td>\n",
              "    </tr>\n",
              "    <tr>\n",
              "      <th>2</th>\n",
              "      <td>683473</td>\n",
              "      <td>0.0</td>\n",
              "      <td>1.0</td>\n",
              "      <td>15349556856043354112</td>\n",
              "      <td>22098439</td>\n",
              "      <td>36855</td>\n",
              "      <td>2</td>\n",
              "      <td>2</td>\n",
              "      <td>52877</td>\n",
              "      <td>89237</td>\n",
              "      <td>...</td>\n",
              "      <td>0</td>\n",
              "      <td>0.0</td>\n",
              "      <td>1.000000</td>\n",
              "      <td>0.049342</td>\n",
              "      <td>2</td>\n",
              "      <td>3</td>\n",
              "      <td>3</td>\n",
              "      <td>14</td>\n",
              "      <td>26</td>\n",
              "      <td>3</td>\n",
              "    </tr>\n",
              "    <tr>\n",
              "      <th>3</th>\n",
              "      <td>616976</td>\n",
              "      <td>0.0</td>\n",
              "      <td>1.0</td>\n",
              "      <td>15349556856043354112</td>\n",
              "      <td>22098457</td>\n",
              "      <td>36855</td>\n",
              "      <td>2</td>\n",
              "      <td>1</td>\n",
              "      <td>33318</td>\n",
              "      <td>9782</td>\n",
              "      <td>...</td>\n",
              "      <td>0</td>\n",
              "      <td>0.0</td>\n",
              "      <td>1.500000</td>\n",
              "      <td>0.049342</td>\n",
              "      <td>2</td>\n",
              "      <td>1</td>\n",
              "      <td>5</td>\n",
              "      <td>14</td>\n",
              "      <td>26</td>\n",
              "      <td>4</td>\n",
              "    </tr>\n",
              "    <tr>\n",
              "      <th>4</th>\n",
              "      <td>714143</td>\n",
              "      <td>0.0</td>\n",
              "      <td>1.0</td>\n",
              "      <td>15349556856043354112</td>\n",
              "      <td>22098457</td>\n",
              "      <td>36855</td>\n",
              "      <td>1</td>\n",
              "      <td>1</td>\n",
              "      <td>33318</td>\n",
              "      <td>9782</td>\n",
              "      <td>...</td>\n",
              "      <td>0</td>\n",
              "      <td>0.0</td>\n",
              "      <td>0.000000</td>\n",
              "      <td>0.049342</td>\n",
              "      <td>2</td>\n",
              "      <td>5</td>\n",
              "      <td>5</td>\n",
              "      <td>14</td>\n",
              "      <td>26</td>\n",
              "      <td>4</td>\n",
              "    </tr>\n",
              "  </tbody>\n",
              "</table>\n",
              "<p>5 rows × 23 columns</p>\n",
              "</div>"
            ],
            "text/plain": [
              "    index  clicks  impressions                 AdURL      AdId  AdvId  Depth  \\\n",
              "0  683475     0.0          1.0  15349556856043354112  22098439  36855      3   \n",
              "1  969618     0.0          1.0  15349556856043354112  22098439  36855      3   \n",
              "2  683473     0.0          1.0  15349556856043354112  22098439  36855      2   \n",
              "3  616976     0.0          1.0  15349556856043354112  22098457  36855      2   \n",
              "4  714143     0.0          1.0  15349556856043354112  22098457  36855      1   \n",
              "\n",
              "   Pos    QId  KeyId   ...    class_label  CTR  RPosition      pCTR  Gender  \\\n",
              "0    3  12875  89237   ...              0  0.0   2.000000  0.049342       2   \n",
              "1    2  12875  89237   ...              0  0.0   2.333333  0.049342       1   \n",
              "2    2  52877  89237   ...              0  0.0   1.000000  0.049342       2   \n",
              "3    1  33318   9782   ...              0  0.0   1.500000  0.049342       2   \n",
              "4    1  33318   9782   ...              0  0.0   0.000000  0.049342       2   \n",
              "\n",
              "   Age  QCount  TCount  DCount  KCount  \n",
              "0    3       3      14      26       3  \n",
              "1    3       3      14      26       3  \n",
              "2    3       3      14      26       3  \n",
              "3    1       5      14      26       4  \n",
              "4    5       5      14      26       4  \n",
              "\n",
              "[5 rows x 23 columns]"
            ]
          },
          "metadata": {
            "tags": []
          },
          "execution_count": 53
        }
      ]
    },
    {
      "cell_type": "code",
      "metadata": {
        "scrolled": true,
        "id": "e9OHmy2xsXxr",
        "colab_type": "code",
        "outputId": "532b57d4-d953-4769-a185-32f3feae53ee",
        "colab": {}
      },
      "source": [
        "x_train.isnull().sum()"
      ],
      "execution_count": 0,
      "outputs": [
        {
          "output_type": "execute_result",
          "data": {
            "text/plain": [
              "index          0\n",
              "clicks         0\n",
              "impressions    0\n",
              "AdURL          0\n",
              "AdId           0\n",
              "AdvId          0\n",
              "Depth          0\n",
              "Pos            0\n",
              "QId            0\n",
              "KeyId          0\n",
              "TitleId        0\n",
              "DescId         0\n",
              "UId            0\n",
              "class_label    0\n",
              "CTR            0\n",
              "RPosition      0\n",
              "pCTR           0\n",
              "Gender         0\n",
              "Age            0\n",
              "QCount         0\n",
              "TCount         0\n",
              "DCount         0\n",
              "KCount         0\n",
              "dtype: int64"
            ]
          },
          "metadata": {
            "tags": []
          },
          "execution_count": 54
        }
      ]
    },
    {
      "cell_type": "code",
      "metadata": {
        "scrolled": true,
        "id": "62ChDbq1sXxx",
        "colab_type": "code",
        "outputId": "d6db43f2-31c1-4ed0-e75f-01104bb827e0",
        "colab": {}
      },
      "source": [
        "# checking the null values in every column of x_test\n",
        "x_test.isnull().sum()"
      ],
      "execution_count": 0,
      "outputs": [
        {
          "output_type": "execute_result",
          "data": {
            "text/plain": [
              "index          0\n",
              "clicks         0\n",
              "impressions    0\n",
              "AdURL          0\n",
              "AdId           0\n",
              "AdvId          0\n",
              "Depth          0\n",
              "Pos            0\n",
              "QId            0\n",
              "KeyId          0\n",
              "TitleId        0\n",
              "DescId         0\n",
              "UId            0\n",
              "class_label    0\n",
              "CTR            0\n",
              "RPosition      0\n",
              "pCTR           0\n",
              "Gender         0\n",
              "Age            0\n",
              "QCount         0\n",
              "TCount         0\n",
              "DCount         0\n",
              "KCount         0\n",
              "dtype: int64"
            ]
          },
          "metadata": {
            "tags": []
          },
          "execution_count": 55
        }
      ]
    },
    {
      "cell_type": "markdown",
      "metadata": {
        "id": "5De11EN2sXx1",
        "colab_type": "text"
      },
      "source": [
        "### Feature Engineering"
      ]
    },
    {
      "cell_type": "code",
      "metadata": {
        "id": "DFEikG5SsXx3",
        "colab_type": "code",
        "colab": {}
      },
      "source": [
        "def features(data_1,temp,key,op):\n",
        "    temp_data = temp.groupby(key).agg([op])\n",
        "    temp_df = pd.DataFrame()\n",
        "    temp_df[key] = temp_data.index\n",
        "    temp_df['values'] = temp_data.get_values()    \n",
        "    temp = pd.merge(temp,temp_df, on=key, how='left')\n",
        "    return temp['values']"
      ],
      "execution_count": 0,
      "outputs": []
    },
    {
      "cell_type": "code",
      "metadata": {
        "id": "sf94Xd7OsXx8",
        "colab_type": "code",
        "outputId": "c8bf8fc7-61c0-45e3-f7d9-b0ea92031954",
        "colab": {}
      },
      "source": [
        "# For each AdID, we compute the average click-through rate for all instances with the\n",
        "# same AdID, and use this value as a single feature. This feature represents the estimated click-through rate given its\n",
        "# category. We compute this kind of feature for AdID, AdvertiserID, depth, position,QID,KeyID,TitleID,\n",
        "# DescID,UID,RPosition->(depth−position)/depth.\n",
        "\n",
        "start = datetime.now()\n",
        "\n",
        "x_train['mAdURL']     = features(x_train,x_train[['AdURL', 'CTR']],'AdURL','mean')\n",
        "x_train['mAdId']      = features(x_train,x_train[['AdId', 'CTR']],'AdId','mean')\n",
        "x_train['mAdvId']     = features(x_train,x_train[['AdvId', 'CTR']],'AdvId','mean')\n",
        "x_train['mDepth']     = features(x_train,x_train[['Depth', 'CTR']],'Depth','mean')\n",
        "x_train['mPos']       = features(x_train,x_train[['Pos', 'CTR']],'Pos','mean')\n",
        "x_train['mQId']       = features(x_train,x_train[['QId', 'CTR']],'QId','mean')\n",
        "x_train['mKeyId']     = features(x_train,x_train[['KeyId', 'CTR']],'KeyId','mean')\n",
        "x_train['mTitleId']   = features(x_train,x_train[['TitleId', 'CTR']],'TitleId','mean')\n",
        "x_train['mDescId']    = features(x_train,x_train[['DescId', 'CTR']],'DescId','mean')\n",
        "x_train['mUId']       = features(x_train,x_train[['UId', 'CTR']],'UId','mean')\n",
        "x_train['mRPosition'] = features(x_train,x_train[['RPosition', 'CTR']],'RPosition','mean')\n",
        "x_train['mGender']    = features(x_train,x_train[['Gender', 'CTR']],'Gender','mean')\n",
        "x_train['mAge']       = features(x_train,x_train[['Age', 'CTR']],'Age','mean')\n",
        "\n",
        "x_train['pAdURL']     = features(x_train,x_train[['AdURL', 'pCTR']],'AdURL','mean')\n",
        "x_train['pAdId']      = features(x_train,x_train[['AdId', 'pCTR']],'AdId','mean')\n",
        "x_train['pAdvId']     = features(x_train,x_train[['AdvId', 'pCTR']],'AdvId','mean')\n",
        "x_train['pDepth']     = features(x_train,x_train[['Depth', 'pCTR']],'Depth','mean')\n",
        "x_train['pPos']       = features(x_train,x_train[['Pos', 'pCTR']],'Pos','mean')\n",
        "x_train['pQId']       = features(x_train,x_train[['QId', 'pCTR']],'QId','mean')\n",
        "x_train['pKeyId']     = features(x_train,x_train[['KeyId', 'pCTR']],'KeyId','mean')\n",
        "x_train['pTitleId']   = features(x_train,x_train[['TitleId', 'pCTR']],'TitleId','mean')\n",
        "x_train['pDescId']    = features(x_train,x_train[['DescId', 'pCTR']],'DescId','mean')\n",
        "x_train['pUId']       = features(x_train,x_train[['UId', 'pCTR']],'UId','mean')\n",
        "x_train['pRPosition'] = features(x_train,x_train[['RPosition', 'pCTR']],'RPosition','mean')\n",
        "x_train['pGender']    = features(x_train,x_train[['Gender', 'pCTR']],'Gender','mean')\n",
        "x_train['pAge']       = features(x_train,x_train[['Age', 'pCTR']],'Age','mean')\n",
        "\n",
        "# Test Features\n",
        "\n",
        "x_test['mAdURL']     = features(x_test,x_train[['AdURL', 'CTR']],'AdURL','mean')\n",
        "x_test['mAdId']      = features(x_test,x_train[['AdId', 'CTR']],'AdId','mean')\n",
        "x_test['mAdvId']     = features(x_test,x_train[['AdvId', 'CTR']],'AdvId','mean')\n",
        "x_test['mDepth']     = features(x_test,x_train[['Depth', 'CTR']],'Depth','mean')\n",
        "x_test['mPos']       = features(x_test,x_train[['Pos', 'CTR']],'Pos','mean')\n",
        "x_test['mQId']       = features(x_test,x_train[['QId', 'CTR']],'QId','mean')\n",
        "x_test['mKeyId']     = features(x_test,x_train[['KeyId', 'CTR']],'KeyId','mean')\n",
        "x_test['mTitleId']   = features(x_test,x_train[['TitleId', 'CTR']],'TitleId','mean')\n",
        "x_test['mDescId']    = features(x_test,x_train[['DescId', 'CTR']],'DescId','mean')\n",
        "x_test['mUId']       = features(x_test,x_train[['UId', 'CTR']],'UId','mean')\n",
        "x_test['mRPosition'] = features(x_test,x_train[['RPosition', 'CTR']],'RPosition','mean')\n",
        "x_test['mGender']    = features(x_test,x_train[['Gender', 'CTR']],'Gender','mean')\n",
        "x_test['mAge']       = features(x_test,x_train[['Age', 'CTR']],'Age','mean')\n",
        "\n",
        "x_test['pAdURL']     = features(x_test,x_train[['AdURL', 'pCTR']],'AdURL','mean')\n",
        "x_test['pAdId']      = features(x_test,x_train[['AdId', 'pCTR']],'AdId','mean')\n",
        "x_test['pAdvId']     = features(x_test,x_train[['AdvId', 'pCTR']],'AdvId','mean')\n",
        "x_test['pDepth']     = features(x_test,x_train[['Depth', 'pCTR']],'Depth','mean')\n",
        "x_test['pPos']       = features(x_test,x_train[['Pos', 'pCTR']],'Pos','mean')\n",
        "x_test['pQId']       = features(x_test,x_train[['QId', 'pCTR']],'QId','mean')\n",
        "x_test['pKeyId']     = features(x_test,x_train[['KeyId', 'pCTR']],'KeyId','mean')\n",
        "x_test['pTitleId']   = features(x_test,x_train[['TitleId', 'pCTR']],'TitleId','mean')\n",
        "x_test['pDescId']    = features(x_test,x_train[['DescId', 'pCTR']],'DescId','mean')\n",
        "x_test['pUId']       = features(x_test,x_train[['UId', 'pCTR']],'UId','mean')\n",
        "x_test['pRPosition'] = features(x_test,x_train[['RPosition', 'pCTR']],'RPosition','mean')\n",
        "x_test['pGender']    = features(x_test,x_train[['Gender', 'pCTR']],'Gender','mean')\n",
        "x_test['pAge']       = features(x_test,x_train[['Age', 'pCTR']],'Age','mean')\n",
        "\n",
        "end = datetime.now()\n",
        "print(\"Time taken to run this cell: \",end-start)"
      ],
      "execution_count": 0,
      "outputs": [
        {
          "output_type": "stream",
          "text": [
            "Time taken to run this cell:  0:00:33.596918\n"
          ],
          "name": "stdout"
        }
      ]
    },
    {
      "cell_type": "code",
      "metadata": {
        "id": "Lm9HceKRsXyA",
        "colab_type": "code",
        "colab": {}
      },
      "source": [
        "# only the above features gave the better results when I modelled. So saving these features for future purpose\n",
        "\n",
        "x_train.to_csv('C:/Users/Administrator/Documents/Datasets/KDD_Cup_2012_Track 2/train_10L_basic_feat.csv',index=False)\n",
        "x_test.to_csv('C:/Users/Administrator/Documents/Datasets/KDD_Cup_2012_Track 2/test_10L_basic_feat.csv',index=False)"
      ],
      "execution_count": 0,
      "outputs": []
    },
    {
      "cell_type": "code",
      "metadata": {
        "id": "RWYFSpA4sXyE",
        "colab_type": "code",
        "colab": {}
      },
      "source": [
        "# Reading from CSV file\n",
        "\n",
        "x_train = pd.read_csv(\"C:/Users/Administrator/Documents/Datasets/KDD_Cup_2012_Track 2/train_10L_basic_feat.csv\")\n",
        "x_test = pd.read_csv(\"C:/Users/Administrator/Documents/Datasets/KDD_Cup_2012_Track 2/test_10L_basic_feat.csv\")\n",
        "\n",
        "#total 49 features"
      ],
      "execution_count": 0,
      "outputs": []
    },
    {
      "cell_type": "code",
      "metadata": {
        "id": "q4XUDebtsXyI",
        "colab_type": "code",
        "outputId": "237ce6e3-c4a4-4856-aeab-275d7bf9d41b",
        "colab": {}
      },
      "source": [
        "x_train.head()"
      ],
      "execution_count": 0,
      "outputs": [
        {
          "output_type": "execute_result",
          "data": {
            "text/html": [
              "<div>\n",
              "<style scoped>\n",
              "    .dataframe tbody tr th:only-of-type {\n",
              "        vertical-align: middle;\n",
              "    }\n",
              "\n",
              "    .dataframe tbody tr th {\n",
              "        vertical-align: top;\n",
              "    }\n",
              "\n",
              "    .dataframe thead th {\n",
              "        text-align: right;\n",
              "    }\n",
              "</style>\n",
              "<table border=\"1\" class=\"dataframe\">\n",
              "  <thead>\n",
              "    <tr style=\"text-align: right;\">\n",
              "      <th></th>\n",
              "      <th>index</th>\n",
              "      <th>clicks</th>\n",
              "      <th>impressions</th>\n",
              "      <th>AdURL</th>\n",
              "      <th>AdId</th>\n",
              "      <th>AdvId</th>\n",
              "      <th>Depth</th>\n",
              "      <th>Pos</th>\n",
              "      <th>QId</th>\n",
              "      <th>KeyId</th>\n",
              "      <th>...</th>\n",
              "      <th>pDepth</th>\n",
              "      <th>pPos</th>\n",
              "      <th>pQId</th>\n",
              "      <th>pKeyId</th>\n",
              "      <th>pTitleId</th>\n",
              "      <th>pDescId</th>\n",
              "      <th>pUId</th>\n",
              "      <th>pRPosition</th>\n",
              "      <th>pGender</th>\n",
              "      <th>pAge</th>\n",
              "    </tr>\n",
              "  </thead>\n",
              "  <tbody>\n",
              "    <tr>\n",
              "      <th>0</th>\n",
              "      <td>35803</td>\n",
              "      <td>0.0</td>\n",
              "      <td>1.0</td>\n",
              "      <td>14340390157469405184</td>\n",
              "      <td>4803006</td>\n",
              "      <td>23777</td>\n",
              "      <td>1</td>\n",
              "      <td>1</td>\n",
              "      <td>22997071</td>\n",
              "      <td>1929</td>\n",
              "      <td>...</td>\n",
              "      <td>0.049664</td>\n",
              "      <td>0.049843</td>\n",
              "      <td>0.049342</td>\n",
              "      <td>0.049461</td>\n",
              "      <td>0.049586</td>\n",
              "      <td>0.049586</td>\n",
              "      <td>0.049278</td>\n",
              "      <td>0.049664</td>\n",
              "      <td>0.049866</td>\n",
              "      <td>0.049710</td>\n",
              "    </tr>\n",
              "    <tr>\n",
              "      <th>1</th>\n",
              "      <td>35805</td>\n",
              "      <td>0.0</td>\n",
              "      <td>2.0</td>\n",
              "      <td>14340390157469405184</td>\n",
              "      <td>4803006</td>\n",
              "      <td>23777</td>\n",
              "      <td>2</td>\n",
              "      <td>1</td>\n",
              "      <td>2293</td>\n",
              "      <td>1929</td>\n",
              "      <td>...</td>\n",
              "      <td>0.049693</td>\n",
              "      <td>0.049843</td>\n",
              "      <td>0.049319</td>\n",
              "      <td>0.049461</td>\n",
              "      <td>0.049586</td>\n",
              "      <td>0.049586</td>\n",
              "      <td>0.049278</td>\n",
              "      <td>0.050043</td>\n",
              "      <td>0.049866</td>\n",
              "      <td>0.049710</td>\n",
              "    </tr>\n",
              "    <tr>\n",
              "      <th>2</th>\n",
              "      <td>920342</td>\n",
              "      <td>0.0</td>\n",
              "      <td>1.0</td>\n",
              "      <td>14340390157469405184</td>\n",
              "      <td>4803006</td>\n",
              "      <td>23777</td>\n",
              "      <td>3</td>\n",
              "      <td>1</td>\n",
              "      <td>2293</td>\n",
              "      <td>1929</td>\n",
              "      <td>...</td>\n",
              "      <td>0.049558</td>\n",
              "      <td>0.049843</td>\n",
              "      <td>0.049319</td>\n",
              "      <td>0.049461</td>\n",
              "      <td>0.049586</td>\n",
              "      <td>0.049586</td>\n",
              "      <td>0.050083</td>\n",
              "      <td>0.049986</td>\n",
              "      <td>0.049426</td>\n",
              "      <td>0.050099</td>\n",
              "    </tr>\n",
              "    <tr>\n",
              "      <th>3</th>\n",
              "      <td>78016</td>\n",
              "      <td>0.0</td>\n",
              "      <td>1.0</td>\n",
              "      <td>14340390157469405184</td>\n",
              "      <td>4803006</td>\n",
              "      <td>23777</td>\n",
              "      <td>2</td>\n",
              "      <td>1</td>\n",
              "      <td>2293</td>\n",
              "      <td>1929</td>\n",
              "      <td>...</td>\n",
              "      <td>0.049693</td>\n",
              "      <td>0.049843</td>\n",
              "      <td>0.049319</td>\n",
              "      <td>0.049461</td>\n",
              "      <td>0.049586</td>\n",
              "      <td>0.049586</td>\n",
              "      <td>0.049342</td>\n",
              "      <td>0.050043</td>\n",
              "      <td>0.049426</td>\n",
              "      <td>0.049710</td>\n",
              "    </tr>\n",
              "    <tr>\n",
              "      <th>4</th>\n",
              "      <td>831444</td>\n",
              "      <td>0.0</td>\n",
              "      <td>1.0</td>\n",
              "      <td>14340390157469405184</td>\n",
              "      <td>4803006</td>\n",
              "      <td>23777</td>\n",
              "      <td>2</td>\n",
              "      <td>1</td>\n",
              "      <td>2293</td>\n",
              "      <td>1929</td>\n",
              "      <td>...</td>\n",
              "      <td>0.049693</td>\n",
              "      <td>0.049843</td>\n",
              "      <td>0.049319</td>\n",
              "      <td>0.049461</td>\n",
              "      <td>0.049586</td>\n",
              "      <td>0.049586</td>\n",
              "      <td>0.049041</td>\n",
              "      <td>0.050043</td>\n",
              "      <td>0.049866</td>\n",
              "      <td>0.049629</td>\n",
              "    </tr>\n",
              "  </tbody>\n",
              "</table>\n",
              "<p>5 rows × 49 columns</p>\n",
              "</div>"
            ],
            "text/plain": [
              "    index  clicks  impressions                 AdURL     AdId  AdvId  Depth  \\\n",
              "0   35803     0.0          1.0  14340390157469405184  4803006  23777      1   \n",
              "1   35805     0.0          2.0  14340390157469405184  4803006  23777      2   \n",
              "2  920342     0.0          1.0  14340390157469405184  4803006  23777      3   \n",
              "3   78016     0.0          1.0  14340390157469405184  4803006  23777      2   \n",
              "4  831444     0.0          1.0  14340390157469405184  4803006  23777      2   \n",
              "\n",
              "   Pos       QId  KeyId    ...       pDepth      pPos      pQId    pKeyId  \\\n",
              "0    1  22997071   1929    ...     0.049664  0.049843  0.049342  0.049461   \n",
              "1    1      2293   1929    ...     0.049693  0.049843  0.049319  0.049461   \n",
              "2    1      2293   1929    ...     0.049558  0.049843  0.049319  0.049461   \n",
              "3    1      2293   1929    ...     0.049693  0.049843  0.049319  0.049461   \n",
              "4    1      2293   1929    ...     0.049693  0.049843  0.049319  0.049461   \n",
              "\n",
              "   pTitleId   pDescId      pUId  pRPosition   pGender      pAge  \n",
              "0  0.049586  0.049586  0.049278    0.049664  0.049866  0.049710  \n",
              "1  0.049586  0.049586  0.049278    0.050043  0.049866  0.049710  \n",
              "2  0.049586  0.049586  0.050083    0.049986  0.049426  0.050099  \n",
              "3  0.049586  0.049586  0.049342    0.050043  0.049426  0.049710  \n",
              "4  0.049586  0.049586  0.049041    0.050043  0.049866  0.049629  \n",
              "\n",
              "[5 rows x 49 columns]"
            ]
          },
          "metadata": {
            "tags": []
          },
          "execution_count": 75
        }
      ]
    },
    {
      "cell_type": "code",
      "metadata": {
        "id": "qbIWLTKksXyM",
        "colab_type": "code",
        "outputId": "35464887-9ee3-4caa-fa6b-986723ef23ab",
        "colab": {}
      },
      "source": [
        "x_test.head()"
      ],
      "execution_count": 0,
      "outputs": [
        {
          "output_type": "execute_result",
          "data": {
            "text/html": [
              "<div>\n",
              "<style scoped>\n",
              "    .dataframe tbody tr th:only-of-type {\n",
              "        vertical-align: middle;\n",
              "    }\n",
              "\n",
              "    .dataframe tbody tr th {\n",
              "        vertical-align: top;\n",
              "    }\n",
              "\n",
              "    .dataframe thead th {\n",
              "        text-align: right;\n",
              "    }\n",
              "</style>\n",
              "<table border=\"1\" class=\"dataframe\">\n",
              "  <thead>\n",
              "    <tr style=\"text-align: right;\">\n",
              "      <th></th>\n",
              "      <th>index</th>\n",
              "      <th>clicks</th>\n",
              "      <th>impressions</th>\n",
              "      <th>AdURL</th>\n",
              "      <th>AdId</th>\n",
              "      <th>AdvId</th>\n",
              "      <th>Depth</th>\n",
              "      <th>Pos</th>\n",
              "      <th>QId</th>\n",
              "      <th>KeyId</th>\n",
              "      <th>...</th>\n",
              "      <th>pDepth</th>\n",
              "      <th>pPos</th>\n",
              "      <th>pQId</th>\n",
              "      <th>pKeyId</th>\n",
              "      <th>pTitleId</th>\n",
              "      <th>pDescId</th>\n",
              "      <th>pUId</th>\n",
              "      <th>pRPosition</th>\n",
              "      <th>pGender</th>\n",
              "      <th>pAge</th>\n",
              "    </tr>\n",
              "  </thead>\n",
              "  <tbody>\n",
              "    <tr>\n",
              "      <th>0</th>\n",
              "      <td>683475</td>\n",
              "      <td>0.0</td>\n",
              "      <td>1.0</td>\n",
              "      <td>15349556856043354112</td>\n",
              "      <td>22098439</td>\n",
              "      <td>36855</td>\n",
              "      <td>3</td>\n",
              "      <td>3</td>\n",
              "      <td>12875</td>\n",
              "      <td>89237</td>\n",
              "      <td>...</td>\n",
              "      <td>0.049664</td>\n",
              "      <td>0.049843</td>\n",
              "      <td>0.049342</td>\n",
              "      <td>0.049461</td>\n",
              "      <td>0.049586</td>\n",
              "      <td>0.049586</td>\n",
              "      <td>0.049278</td>\n",
              "      <td>0.049664</td>\n",
              "      <td>0.049866</td>\n",
              "      <td>0.049710</td>\n",
              "    </tr>\n",
              "    <tr>\n",
              "      <th>1</th>\n",
              "      <td>969618</td>\n",
              "      <td>0.0</td>\n",
              "      <td>1.0</td>\n",
              "      <td>15349556856043354112</td>\n",
              "      <td>22098439</td>\n",
              "      <td>36855</td>\n",
              "      <td>3</td>\n",
              "      <td>2</td>\n",
              "      <td>12875</td>\n",
              "      <td>89237</td>\n",
              "      <td>...</td>\n",
              "      <td>0.049693</td>\n",
              "      <td>0.049843</td>\n",
              "      <td>0.049319</td>\n",
              "      <td>0.049461</td>\n",
              "      <td>0.049586</td>\n",
              "      <td>0.049586</td>\n",
              "      <td>0.049278</td>\n",
              "      <td>0.050043</td>\n",
              "      <td>0.049866</td>\n",
              "      <td>0.049710</td>\n",
              "    </tr>\n",
              "    <tr>\n",
              "      <th>2</th>\n",
              "      <td>683473</td>\n",
              "      <td>0.0</td>\n",
              "      <td>1.0</td>\n",
              "      <td>15349556856043354112</td>\n",
              "      <td>22098439</td>\n",
              "      <td>36855</td>\n",
              "      <td>2</td>\n",
              "      <td>2</td>\n",
              "      <td>52877</td>\n",
              "      <td>89237</td>\n",
              "      <td>...</td>\n",
              "      <td>0.049558</td>\n",
              "      <td>0.049843</td>\n",
              "      <td>0.049319</td>\n",
              "      <td>0.049461</td>\n",
              "      <td>0.049586</td>\n",
              "      <td>0.049586</td>\n",
              "      <td>0.050083</td>\n",
              "      <td>0.049986</td>\n",
              "      <td>0.049426</td>\n",
              "      <td>0.050099</td>\n",
              "    </tr>\n",
              "    <tr>\n",
              "      <th>3</th>\n",
              "      <td>616976</td>\n",
              "      <td>0.0</td>\n",
              "      <td>1.0</td>\n",
              "      <td>15349556856043354112</td>\n",
              "      <td>22098457</td>\n",
              "      <td>36855</td>\n",
              "      <td>2</td>\n",
              "      <td>1</td>\n",
              "      <td>33318</td>\n",
              "      <td>9782</td>\n",
              "      <td>...</td>\n",
              "      <td>0.049693</td>\n",
              "      <td>0.049843</td>\n",
              "      <td>0.049319</td>\n",
              "      <td>0.049461</td>\n",
              "      <td>0.049586</td>\n",
              "      <td>0.049586</td>\n",
              "      <td>0.049342</td>\n",
              "      <td>0.050043</td>\n",
              "      <td>0.049426</td>\n",
              "      <td>0.049710</td>\n",
              "    </tr>\n",
              "    <tr>\n",
              "      <th>4</th>\n",
              "      <td>714143</td>\n",
              "      <td>0.0</td>\n",
              "      <td>1.0</td>\n",
              "      <td>15349556856043354112</td>\n",
              "      <td>22098457</td>\n",
              "      <td>36855</td>\n",
              "      <td>1</td>\n",
              "      <td>1</td>\n",
              "      <td>33318</td>\n",
              "      <td>9782</td>\n",
              "      <td>...</td>\n",
              "      <td>0.049693</td>\n",
              "      <td>0.049843</td>\n",
              "      <td>0.049319</td>\n",
              "      <td>0.049461</td>\n",
              "      <td>0.049586</td>\n",
              "      <td>0.049586</td>\n",
              "      <td>0.049041</td>\n",
              "      <td>0.050043</td>\n",
              "      <td>0.049866</td>\n",
              "      <td>0.049629</td>\n",
              "    </tr>\n",
              "  </tbody>\n",
              "</table>\n",
              "<p>5 rows × 49 columns</p>\n",
              "</div>"
            ],
            "text/plain": [
              "    index  clicks  impressions                 AdURL      AdId  AdvId  Depth  \\\n",
              "0  683475     0.0          1.0  15349556856043354112  22098439  36855      3   \n",
              "1  969618     0.0          1.0  15349556856043354112  22098439  36855      3   \n",
              "2  683473     0.0          1.0  15349556856043354112  22098439  36855      2   \n",
              "3  616976     0.0          1.0  15349556856043354112  22098457  36855      2   \n",
              "4  714143     0.0          1.0  15349556856043354112  22098457  36855      1   \n",
              "\n",
              "   Pos    QId  KeyId    ...       pDepth      pPos      pQId    pKeyId  \\\n",
              "0    3  12875  89237    ...     0.049664  0.049843  0.049342  0.049461   \n",
              "1    2  12875  89237    ...     0.049693  0.049843  0.049319  0.049461   \n",
              "2    2  52877  89237    ...     0.049558  0.049843  0.049319  0.049461   \n",
              "3    1  33318   9782    ...     0.049693  0.049843  0.049319  0.049461   \n",
              "4    1  33318   9782    ...     0.049693  0.049843  0.049319  0.049461   \n",
              "\n",
              "   pTitleId   pDescId      pUId  pRPosition   pGender      pAge  \n",
              "0  0.049586  0.049586  0.049278    0.049664  0.049866  0.049710  \n",
              "1  0.049586  0.049586  0.049278    0.050043  0.049866  0.049710  \n",
              "2  0.049586  0.049586  0.050083    0.049986  0.049426  0.050099  \n",
              "3  0.049586  0.049586  0.049342    0.050043  0.049426  0.049710  \n",
              "4  0.049586  0.049586  0.049041    0.050043  0.049866  0.049629  \n",
              "\n",
              "[5 rows x 49 columns]"
            ]
          },
          "metadata": {
            "tags": []
          },
          "execution_count": 76
        }
      ]
    },
    {
      "cell_type": "code",
      "metadata": {
        "id": "QaMLBlpWsXyP",
        "colab_type": "code",
        "outputId": "24ebf7f9-7892-42c3-8f01-1a0f2cb70498",
        "colab": {}
      },
      "source": [
        "temp_data_1 = x_train.loc[x_train['class_label']==1]\n",
        "\n",
        "print( 'Maximum Length of a Desc: ', temp_data_1['DCount'].max())\n",
        "print( 'Average Length of a Desc: ', temp_data_1['DCount'].mean())\n",
        "print( 'Average Length of a Desc: ', temp_data_1['DCount'].min())"
      ],
      "execution_count": 0,
      "outputs": [
        {
          "output_type": "stream",
          "text": [
            "Maximum Length of a Desc:  36\n",
            "Average Length of a Desc:  22.10348236844996\n",
            "Average Length of a Desc:  3\n"
          ],
          "name": "stdout"
        }
      ]
    },
    {
      "cell_type": "code",
      "metadata": {
        "id": "yhCCFdvbsXyU",
        "colab_type": "code",
        "outputId": "2a17c130-21cf-4a83-8f24-efa62a1810a7",
        "colab": {}
      },
      "source": [
        "sns.kdeplot(temp_data_1['DCount'])"
      ],
      "execution_count": 0,
      "outputs": [
        {
          "output_type": "execute_result",
          "data": {
            "text/plain": [
              "<matplotlib.axes._subplots.AxesSubplot at 0x22049d01f28>"
            ]
          },
          "metadata": {
            "tags": []
          },
          "execution_count": 78
        },
        {
          "output_type": "display_data",
          "data": {
            "image/png": "[encoded data removed]",
            "text/plain": [
              "<Figure size 432x288 with 1 Axes>"
            ]
          },
          "metadata": {
            "tags": []
          }
        }
      ]
    },
    {
      "cell_type": "code",
      "metadata": {
        "id": "a3aHtAHSsXyY",
        "colab_type": "code",
        "outputId": "a21df76e-0ae2-42ab-e87b-269280c3df7d",
        "colab": {}
      },
      "source": [
        "sns.boxplot(x='class_label', y='DCount', data=x_train)\n",
        "plt.show()"
      ],
      "execution_count": 0,
      "outputs": [
        {
          "output_type": "display_data",
          "data": {
            "image/png": "[encoded data removed]",
            "text/plain": [
              "<Figure size 432x288 with 1 Axes>"
            ]
          },
          "metadata": {
            "tags": []
          }
        }
      ]
    },
    {
      "cell_type": "code",
      "metadata": {
        "id": "sG6ayeyDsXyb",
        "colab_type": "code",
        "outputId": "a48201a1-dd47-49a6-9d41-07fbbec3f18b",
        "colab": {}
      },
      "source": [
        "# This is the same plot as above just a little more readable ...\n",
        "\n",
        "plt.figure(figsize=(10,4))\n",
        "\n",
        "plt.subplot(1, 2, 1)\n",
        "plt.hist(temp_data_1['DCount'],\n",
        "         color='green',\n",
        "         bins=65,\n",
        "         normed=False)\n",
        "plt.xlabel('No. of words in a Desc')\n",
        "\n",
        "plt.subplot(1, 2, 2)\n",
        "plt.boxplot(temp_data_1['DCount'],\n",
        "            labels=['No. of words in a Desc'],\n",
        "            )\n",
        "\n",
        "plt.tight_layout()"
      ],
      "execution_count": 0,
      "outputs": [
        {
          "output_type": "display_data",
          "data": {
            "image/png": "[encoded data removed]",
            "text/plain": [
              "<Figure size 720x288 with 2 Axes>"
            ]
          },
          "metadata": {
            "tags": []
          }
        }
      ]
    },
    {
      "cell_type": "code",
      "metadata": {
        "id": "5jEJDdN-sXym",
        "colab_type": "code",
        "outputId": "009f8256-f432-4f04-8cd7-c6aef51dc219",
        "colab": {}
      },
      "source": [
        "print( 'Maximum Length of a Title: ', temp_data_1['TCount'].max())\n",
        "print( 'Average Length of a Title: ', temp_data_1['TCount'].mean())\n",
        "print( 'Average Length of a Title: ', temp_data_1['TCount'].min())\n",
        "\n",
        "sns.kdeplot(temp_data_1['TCount'])"
      ],
      "execution_count": 0,
      "outputs": [
        {
          "output_type": "stream",
          "text": [
            "Maximum Length of a Title:  20\n",
            "Average Length of a Title:  8.765022520048335\n",
            "Average Length of a Title:  1\n"
          ],
          "name": "stdout"
        },
        {
          "output_type": "execute_result",
          "data": {
            "text/plain": [
              "<matplotlib.axes._subplots.AxesSubplot at 0x22046ee82b0>"
            ]
          },
          "metadata": {
            "tags": []
          },
          "execution_count": 82
        },
        {
          "output_type": "display_data",
          "data": {
            "image/png": "[encoded data removed]",
            "text/plain": [
              "<Figure size 432x288 with 1 Axes>"
            ]
          },
          "metadata": {
            "tags": []
          }
        }
      ]
    },
    {
      "cell_type": "code",
      "metadata": {
        "id": "3YdlYaTosXyp",
        "colab_type": "code",
        "outputId": "19825d4d-8035-4546-caa1-495d776b8b65",
        "colab": {}
      },
      "source": [
        "sns.boxplot(x='class_label', y='TCount', data=x_train)\n",
        "plt.show()"
      ],
      "execution_count": 0,
      "outputs": [
        {
          "output_type": "display_data",
          "data": {
            "image/png": "[encoded data removed]",
            "text/plain": [
              "<Figure size 432x288 with 1 Axes>"
            ]
          },
          "metadata": {
            "tags": []
          }
        }
      ]
    },
    {
      "cell_type": "code",
      "metadata": {
        "id": "gFo-plNssXyt",
        "colab_type": "code",
        "outputId": "b7934cc1-91a1-48ef-a5dc-5670aa7c63db",
        "colab": {}
      },
      "source": [
        "# This is the same plot as above just a little more readable ...\n",
        "\n",
        "plt.figure(figsize=(10,4))\n",
        "\n",
        "plt.subplot(1, 2, 1)\n",
        "plt.hist(temp_data_1['TCount'],\n",
        "         color='green',\n",
        "         bins=38,\n",
        "         normed=False)\n",
        "plt.xlabel('No. of words in a Title')\n",
        "\n",
        "plt.subplot(1, 2, 2)\n",
        "plt.boxplot(temp_data_1['TCount'],\n",
        "            labels=['No. of words in a Title'],\n",
        "            )\n",
        "\n",
        "plt.tight_layout()"
      ],
      "execution_count": 0,
      "outputs": [
        {
          "output_type": "display_data",
          "data": {
            "image/png": "[encoded data removed]",
            "text/plain": [
              "<Figure size 720x288 with 2 Axes>"
            ]
          },
          "metadata": {
            "tags": []
          }
        }
      ]
    },
    {
      "cell_type": "code",
      "metadata": {
        "id": "szeTAEN1sXyy",
        "colab_type": "code",
        "outputId": "a2f80d04-eb3b-4ca8-d8fe-1abf78b0e0dc",
        "colab": {}
      },
      "source": [
        "print( 'Maximum Length of a Keyword: ', temp_data_1['KCount'].max())\n",
        "print( 'Average Length of a Keyword: ', temp_data_1['KCount'].mean())\n",
        "print( 'Average Length of a Keyword: ', temp_data_1['KCount'].min())\n",
        "\n",
        "sns.kdeplot(temp_data_1['KCount'])"
      ],
      "execution_count": 0,
      "outputs": [
        {
          "output_type": "stream",
          "text": [
            "Maximum Length of a Keyword:  8\n",
            "Average Length of a Keyword:  2.263649346369329\n",
            "Average Length of a Keyword:  1\n"
          ],
          "name": "stdout"
        },
        {
          "output_type": "execute_result",
          "data": {
            "text/plain": [
              "<matplotlib.axes._subplots.AxesSubplot at 0x22043749d68>"
            ]
          },
          "metadata": {
            "tags": []
          },
          "execution_count": 86
        },
        {
          "output_type": "display_data",
          "data": {
            "image/png": "[encoded data removed]",
            "text/plain": [
              "<Figure size 432x288 with 1 Axes>"
            ]
          },
          "metadata": {
            "tags": []
          }
        }
      ]
    },
    {
      "cell_type": "code",
      "metadata": {
        "id": "2Ldxh7nZsXy2",
        "colab_type": "code",
        "outputId": "cebc7b65-8a26-4048-d1b1-918389cde589",
        "colab": {}
      },
      "source": [
        "sns.boxplot(x='class_label', y='KCount', data=x_train)\n",
        "plt.show()"
      ],
      "execution_count": 0,
      "outputs": [
        {
          "output_type": "display_data",
          "data": {
            "image/png": "[encoded data removed]",
            "text/plain": [
              "<Figure size 432x288 with 1 Axes>"
            ]
          },
          "metadata": {
            "tags": []
          }
        }
      ]
    },
    {
      "cell_type": "code",
      "metadata": {
        "id": "eJeHvPxEsXy5",
        "colab_type": "code",
        "outputId": "a09bcda7-9f39-423e-efdc-b76fde36394b",
        "colab": {}
      },
      "source": [
        "# This is the same plot as above just a little more readable ...\n",
        "\n",
        "plt.figure(figsize=(10,4))\n",
        "\n",
        "plt.subplot(1, 2, 1)\n",
        "plt.hist(temp_data_1['KCount'],\n",
        "         color='green',\n",
        "         bins=20,\n",
        "         normed=False)\n",
        "plt.xlabel('No. of words in a Keyword')\n",
        "\n",
        "plt.subplot(1, 2, 2)\n",
        "plt.boxplot(temp_data_1['KCount'],\n",
        "            labels=['No. of words in a Keyword'],\n",
        "            )\n",
        "\n",
        "plt.tight_layout()"
      ],
      "execution_count": 0,
      "outputs": [
        {
          "output_type": "display_data",
          "data": {
            "image/png": "[encoded data removed]",
            "text/plain": [
              "<Figure size 720x288 with 2 Axes>"
            ]
          },
          "metadata": {
            "tags": []
          }
        }
      ]
    },
    {
      "cell_type": "code",
      "metadata": {
        "id": "D1BypwI9sXy9",
        "colab_type": "code",
        "outputId": "3613224e-3050-4748-cb1f-0ccb28fe82c6",
        "colab": {}
      },
      "source": [
        "print( 'Maximum Length of a Query: ', temp_data_1['QCount'].max())\n",
        "print( 'Average Length of a Query: ', temp_data_1['QCount'].mean())\n",
        "print( 'Minimum Length of a Query: ', temp_data_1['QCount'].min())\n",
        "\n",
        "sns.kdeplot(temp_data_1['QCount'])"
      ],
      "execution_count": 0,
      "outputs": [
        {
          "output_type": "stream",
          "text": [
            "Maximum Length of a Query:  13\n",
            "Average Length of a Query:  2.7037240470174666\n",
            "Minimum Length of a Query:  1\n"
          ],
          "name": "stdout"
        },
        {
          "output_type": "execute_result",
          "data": {
            "text/plain": [
              "<matplotlib.axes._subplots.AxesSubplot at 0x21fd030a6d8>"
            ]
          },
          "metadata": {
            "tags": []
          },
          "execution_count": 89
        },
        {
          "output_type": "display_data",
          "data": {
            "image/png": "[encoded data removed]",
            "text/plain": [
              "<Figure size 432x288 with 1 Axes>"
            ]
          },
          "metadata": {
            "tags": []
          }
        }
      ]
    },
    {
      "cell_type": "code",
      "metadata": {
        "id": "wrmtx55BsXzC",
        "colab_type": "code",
        "outputId": "a4e4dcec-2ed4-405a-c0f1-ebbe944100c3",
        "colab": {}
      },
      "source": [
        "sns.boxplot(x='class_label', y='QCount', data=x_train)\n",
        "plt.show()"
      ],
      "execution_count": 0,
      "outputs": [
        {
          "output_type": "display_data",
          "data": {
            "image/png": "[encoded data removed]",
            "text/plain": [
              "<Figure size 432x288 with 1 Axes>"
            ]
          },
          "metadata": {
            "tags": []
          }
        }
      ]
    },
    {
      "cell_type": "code",
      "metadata": {
        "id": "DRoEcVQXsXzG",
        "colab_type": "code",
        "outputId": "a06930b5-cc4c-4585-9427-8c4b48b5e696",
        "colab": {}
      },
      "source": [
        "# This is the same plot as above just a little more readable ...\n",
        "\n",
        "plt.figure(figsize=(10,4))\n",
        "\n",
        "plt.subplot(1, 2, 1)\n",
        "plt.hist(temp_data_1['QCount'],\n",
        "         color='green',\n",
        "         bins=35,\n",
        "         normed=False)\n",
        "plt.xlabel('No. of words in a Query')\n",
        "\n",
        "plt.subplot(1, 2, 2)\n",
        "plt.boxplot(temp_data_1['QCount'],\n",
        "            labels=['No. of words in a Query'],\n",
        "            )\n",
        "\n",
        "plt.tight_layout()"
      ],
      "execution_count": 0,
      "outputs": [
        {
          "output_type": "display_data",
          "data": {
            "image/png": "[encoded data removed]",
            "text/plain": [
              "<Figure size 720x288 with 2 Axes>"
            ]
          },
          "metadata": {
            "tags": []
          }
        }
      ]
    },
    {
      "cell_type": "code",
      "metadata": {
        "id": "gVLFNCtisXzK",
        "colab_type": "code",
        "outputId": "9000ee90-db21-43f5-8294-28fabcc899ca",
        "colab": {}
      },
      "source": [
        "print( 'Maximum Depth: ', temp_data_1['Depth'].max())\n",
        "print( 'Minimum Depth: ', temp_data_1['Depth'].min())\n",
        "\n",
        "sns.kdeplot(temp_data_1['Depth'])"
      ],
      "execution_count": 0,
      "outputs": [
        {
          "output_type": "stream",
          "text": [
            "Maximum Depth:  3\n",
            "Minimum Depth:  1\n"
          ],
          "name": "stdout"
        },
        {
          "output_type": "execute_result",
          "data": {
            "text/plain": [
              "<matplotlib.axes._subplots.AxesSubplot at 0x2200c56ac88>"
            ]
          },
          "metadata": {
            "tags": []
          },
          "execution_count": 93
        },
        {
          "output_type": "display_data",
          "data": {
            "image/png": "[encoded data removed]",
            "text/plain": [
              "<Figure size 432x288 with 1 Axes>"
            ]
          },
          "metadata": {
            "tags": []
          }
        }
      ]
    },
    {
      "cell_type": "code",
      "metadata": {
        "id": "--Pi3jWqsXzO",
        "colab_type": "code",
        "outputId": "f83f57af-1d11-41de-938c-66a9e51970c8",
        "colab": {}
      },
      "source": [
        "print( 'Maximum impressions: ', temp_data_1['impressions'].max())\n",
        "print( 'Average impressions: ', temp_data_1['impressions'].mean())\n",
        "print( 'Median impressions: ', temp_data_1['impressions'].median())\n",
        "print( 'Minimum impressions: ', temp_data_1['impressions'].min())\n",
        "\n",
        "sns.kdeplot(temp_data_1['impressions'])"
      ],
      "execution_count": 0,
      "outputs": [
        {
          "output_type": "stream",
          "text": [
            "Maximum impressions:  211.0\n",
            "Average impressions:  5.307810611886191\n",
            "Median impressions:  2.0\n",
            "Minimum impressions:  2.0\n"
          ],
          "name": "stdout"
        },
        {
          "output_type": "execute_result",
          "data": {
            "text/plain": [
              "<matplotlib.axes._subplots.AxesSubplot at 0x220950715f8>"
            ]
          },
          "metadata": {
            "tags": []
          },
          "execution_count": 94
        },
        {
          "output_type": "display_data",
          "data": {
            "image/png": "[encoded data removed]",
            "text/plain": [
              "<Figure size 432x288 with 1 Axes>"
            ]
          },
          "metadata": {
            "tags": []
          }
        }
      ]
    },
    {
      "cell_type": "code",
      "metadata": {
        "id": "RJMtSxTSsXzS",
        "colab_type": "code",
        "outputId": "8015c629-64ca-4058-8cc7-6f451e23bddf",
        "colab": {}
      },
      "source": [
        "sns.boxplot(x='class_label', y='impressions', data=x_train)\n",
        "plt.show()"
      ],
      "execution_count": 0,
      "outputs": [
        {
          "output_type": "display_data",
          "data": {
            "image/png": "[encoded data removed]",
            "text/plain": [
              "<Figure size 432x288 with 1 Axes>"
            ]
          },
          "metadata": {
            "tags": []
          }
        }
      ]
    },
    {
      "cell_type": "markdown",
      "metadata": {
        "id": "064xViVmsXzW",
        "colab_type": "text"
      },
      "source": [
        "### Tried some more feature engineering"
      ]
    },
    {
      "cell_type": "code",
      "metadata": {
        "id": "jJRBEWavsXzX",
        "colab_type": "code",
        "outputId": "9df819cc-12c2-4629-e1bf-eb40007313b0",
        "colab": {}
      },
      "source": [
        "# Here we compute total #impressions for each AdId, AdvId, Depth, Pos, Rposition\n",
        "\n",
        "start = datetime.now()\n",
        "\n",
        "x_train['num_Imp_Ad']         = features(x_train,x_train[['AdId', 'impressions']],'AdId','sum')\n",
        "x_train['num_Imp_Advertiser'] = features(x_train,x_train[['AdvId', 'impressions']],'AdvId','sum')\n",
        "x_train['num_Imp_Depth']      = features(x_train,x_train[['Depth', 'impressions']],'Depth','sum')\n",
        "x_train['num_Imp_Position']   = features(x_train,x_train[['Pos', 'impressions']],'Pos','sum')\n",
        "x_train['num_Imp_Rposition '] = features(x_train,x_train[['RPosition', 'impressions']],'RPosition','sum')\n",
        "x_train['num_Imp_UId']      = features(x_train,x_train[['UId', 'impressions']],'UId','sum')\n",
        "\n",
        "x_test['num_Imp_Ad']         = features(x_test,x_train[['AdId', 'impressions']],'AdId','sum')\n",
        "x_test['num_Imp_Advertiser'] = features(x_test,x_train[['AdvId', 'impressions']],'AdvId','sum')\n",
        "x_test['num_Imp_Depth']      = features(x_test,x_train[['Depth', 'impressions']],'Depth','sum')\n",
        "x_test['num_Imp_Position']   = features(x_test,x_train[['Pos', 'impressions']],'Pos','sum')\n",
        "x_test['num_Imp_Rposition '] = features(x_test,x_train[['RPosition', 'impressions']],'RPosition','sum')\n",
        "x_test['num_Imp_UId']      = features(x_test,x_train[['UId', 'impressions']],'UId','sum')\n",
        "\n",
        "end = datetime.now()\n",
        "print(\"Time taken to run this cell: \",end-start)"
      ],
      "execution_count": 0,
      "outputs": [
        {
          "output_type": "stream",
          "text": [
            "Time taken to run this cell:  0:00:05.622804\n"
          ],
          "name": "stdout"
        }
      ]
    },
    {
      "cell_type": "code",
      "metadata": {
        "id": "A_7qGji1sXzd",
        "colab_type": "code",
        "outputId": "ceb69586-24cc-412c-b7b0-7847b2dfde9f",
        "colab": {}
      },
      "source": [
        "# Here we compute total #impressions for each AdId, AdvId, Depth, Pos, Rposition\n",
        "\n",
        "start = datetime.now()\n",
        "\n",
        "x_train['num_Imp_count_Ad']         = features(x_train,x_train[['AdId', 'impressions']],'AdId','count')\n",
        "x_train['num_Imp_count_Advertiser'] = features(x_train,x_train[['AdvId', 'impressions']],'AdvId','count')\n",
        "#x_train['num_Imp_count_Depth']      = features(x_train,x_train[['Depth', 'impressions']],'Depth','count')\n",
        "#x_train['num_Imp_count_Position']   = features(x_train,x_train[['Pos', 'impressions']],'Pos','count')\n",
        "#x_train['num_Imp_count_Rposition '] = features(x_train,x_train[['RPosition', 'impressions']],'RPosition','count')\n",
        "x_train['num_Imp_count_QId']        = features(x_train,x_train[['QId', 'impressions']],'QId','count')\n",
        "x_train['num_Imp_count_KeyId']      = features(x_train,x_train[['KeyId', 'impressions']],'KeyId','count')\n",
        "x_train['num_Imp_count_TitleId ']   = features(x_train,x_train[['TitleId', 'impressions']],'TitleId','count')\n",
        "x_train['num_Imp_count_DescId']     = features(x_train,x_train[['DescId', 'impressions']],'DescId','count')\n",
        "x_train['num_Imp_count_UId']        = features(x_train,x_train[['UId', 'impressions']],'UId','count')\n",
        "\n",
        "\n",
        "x_test['num_Imp_count_Ad']         = features(x_test,x_train[['AdId', 'impressions']],'AdId','count')\n",
        "x_test['num_Imp_count_Advertiser'] = features(x_test,x_train[['AdvId', 'impressions']],'AdvId','count')\n",
        "#x_test['num_Imp_count_Depth']      = features(x_test,x_train[['Depth', 'impressions']],'Depth','count')\n",
        "#x_test['num_Imp_count_Position']   = features(x_test,x_train[['Pos', 'impressions']],'Pos','count')\n",
        "#x_test['num_Imp_count_Rposition '] = features(x_test,x_train[['RPosition', 'impressions']],'RPosition','count')\n",
        "x_test['num_Imp_count_QId']        = features(x_test,x_train[['QId', 'impressions']],'QId','count')\n",
        "x_test['num_Imp_count_KeyId']      = features(x_test,x_train[['KeyId', 'impressions']],'KeyId','count')\n",
        "x_test['num_Imp_count_TitleId ']   = features(x_test,x_train[['TitleId', 'impressions']],'TitleId','count')\n",
        "x_test['num_Imp_count_DescId']     = features(x_test,x_train[['DescId', 'impressions']],'DescId','count')\n",
        "x_test['num_Imp_count_UId']        = features(x_test,x_train[['UId', 'impressions']],'UId','count')\n",
        "\n",
        "end = datetime.now()\n",
        "print(\"Time taken to run this cell: \",end-start)"
      ],
      "execution_count": 0,
      "outputs": [
        {
          "output_type": "stream",
          "text": [
            "Time taken to run this cell:  0:00:10.010451\n"
          ],
          "name": "stdout"
        }
      ]
    },
    {
      "cell_type": "code",
      "metadata": {
        "id": "JhFnLBQJsXzh",
        "colab_type": "code",
        "outputId": "4df4b254-8995-4b78-bba3-c72a9755f9b6",
        "colab": {}
      },
      "source": [
        "# Here we compute total #clicks for each AdId, AdvId, QId, KeyId, TitleId, DescId, UId, Gender\n",
        "\n",
        "start = datetime.now()\n",
        "\n",
        "x_train['num_click_Ad']         = features(x_train,x_train[['AdId', 'clicks']],'AdId','sum')\n",
        "x_train['num_click_Advertiser'] = features(x_train,x_train[['AdvId', 'clicks']],'AdvId','sum')\n",
        "x_train['num_click_QId']        = features(x_train,x_train[['QId', 'clicks']],'QId','sum')\n",
        "x_train['num_click_KeyId']      = features(x_train,x_train[['KeyId', 'clicks']],'KeyId','sum')\n",
        "x_train['num_click_TitleId ']   = features(x_train,x_train[['TitleId', 'clicks']],'TitleId','sum')\n",
        "x_train['num_click_DescId']     = features(x_train,x_train[['DescId', 'clicks']],'DescId','sum')\n",
        "x_train['num_click_UId']        = features(x_train,x_train[['UId', 'clicks']],'UId','sum')\n",
        "x_train['num_click_Gender ']    = features(x_train,x_train[['Gender', 'clicks']],'Gender','sum')\n",
        "\n",
        "x_test['num_click_Ad']          = features(x_test,x_train[['AdId', 'clicks']],'AdId','sum')\n",
        "x_test['num_click_Advertiser']  = features(x_test,x_train[['AdvId', 'clicks']],'AdvId','sum')\n",
        "x_test['num_click_QId']         = features(x_test,x_train[['QId', 'clicks']],'QId','sum')\n",
        "x_test['num_click_KeyId']       = features(x_test,x_train[['KeyId', 'clicks']],'KeyId','sum')\n",
        "x_test['num_click_TitleId ']    = features(x_test,x_train[['TitleId', 'clicks']],'TitleId','sum')\n",
        "x_test['num_click_DescId']      = features(x_test,x_train[['DescId', 'clicks']],'DescId','sum')\n",
        "x_test['num_click_UId']         = features(x_test,x_train[['UId', 'clicks']],'UId','sum')\n",
        "x_test['num_click_Gender ']     = features(x_test,x_train[['Gender', 'clicks']],'Gender','sum')\n",
        "\n",
        "end = datetime.now()\n",
        "print(\"Time taken to run this cell: \",end-start)"
      ],
      "execution_count": 0,
      "outputs": [
        {
          "output_type": "stream",
          "text": [
            "Time taken to run this cell:  0:00:36.345268\n"
          ],
          "name": "stdout"
        }
      ]
    },
    {
      "cell_type": "code",
      "metadata": {
        "id": "E6rineLhsXzl",
        "colab_type": "code",
        "outputId": "f466fe79-8826-41f9-e98d-3bb6ae5aaf6e",
        "colab": {}
      },
      "source": [
        "start = datetime.now()\n",
        "\n",
        "x_train['num_count_Ad']         = features(x_train,x_train[['AdId', 'clicks']],'AdId','count')\n",
        "x_train['num_count_Advertiser'] = features(x_train,x_train[['AdvId', 'clicks']],'AdvId','count')\n",
        "x_train['num_count_QId']        = features(x_train,x_train[['QId', 'clicks']],'QId','count')\n",
        "x_train['num_count_KeyId']      = features(x_train,x_train[['KeyId', 'clicks']],'KeyId','count')\n",
        "x_train['num_count_TitleId ']   = features(x_train,x_train[['TitleId', 'clicks']],'TitleId','count')\n",
        "x_train['num_count_DescId']     = features(x_train,x_train[['DescId', 'clicks']],'DescId','count')\n",
        "x_train['num_count_UId']        = features(x_train,x_train[['UId', 'clicks']],'UId','count')\n",
        "\n",
        "x_test['num_count_Ad']         = features(x_test,x_train[['AdId', 'clicks']],'AdId','count')\n",
        "x_test['num_count_Advertiser'] = features(x_test,x_train[['AdvId', 'clicks']],'AdvId','count')\n",
        "x_test['num_count_QId']        = features(x_test,x_train[['QId', 'clicks']],'QId','count')\n",
        "x_test['num_count_KeyId']      = features(x_test,x_train[['KeyId', 'clicks']],'KeyId','count')\n",
        "x_test['num_count_TitleId ']   = features(x_test,x_train[['TitleId', 'clicks']],'TitleId','count')\n",
        "x_test['num_count_DescId']     = features(x_test,x_train[['DescId', 'clicks']],'DescId','count')\n",
        "x_test['num_count_UId']        = features(x_test,x_train[['UId', 'clicks']],'UId','count')\n",
        "\n",
        "\n",
        "end = datetime.now()\n",
        "print(\"Time taken to run this cell: \",end-start)"
      ],
      "execution_count": 0,
      "outputs": [
        {
          "output_type": "stream",
          "text": [
            "Time taken to run this cell:  0:00:28.156833\n"
          ],
          "name": "stdout"
        }
      ]
    },
    {
      "cell_type": "code",
      "metadata": {
        "id": "y70GgxcbsXzo",
        "colab_type": "code",
        "outputId": "02c2b50c-be77-43d5-ce3d-ceb0ead22df6",
        "colab": {}
      },
      "source": [
        "x_train.head()"
      ],
      "execution_count": 0,
      "outputs": [
        {
          "output_type": "execute_result",
          "data": {
            "text/html": [
              "<div>\n",
              "<style scoped>\n",
              "    .dataframe tbody tr th:only-of-type {\n",
              "        vertical-align: middle;\n",
              "    }\n",
              "\n",
              "    .dataframe tbody tr th {\n",
              "        vertical-align: top;\n",
              "    }\n",
              "\n",
              "    .dataframe thead th {\n",
              "        text-align: right;\n",
              "    }\n",
              "</style>\n",
              "<table border=\"1\" class=\"dataframe\">\n",
              "  <thead>\n",
              "    <tr style=\"text-align: right;\">\n",
              "      <th></th>\n",
              "      <th>index</th>\n",
              "      <th>clicks</th>\n",
              "      <th>impressions</th>\n",
              "      <th>AdURL</th>\n",
              "      <th>AdId</th>\n",
              "      <th>AdvId</th>\n",
              "      <th>Depth</th>\n",
              "      <th>Pos</th>\n",
              "      <th>QId</th>\n",
              "      <th>KeyId</th>\n",
              "      <th>...</th>\n",
              "      <th>num_idf_desc</th>\n",
              "      <th>num_idf_Keyword</th>\n",
              "      <th>num_Imp_count_Ad</th>\n",
              "      <th>num_Imp_count_Advertiser</th>\n",
              "      <th>num_Imp_count_QId</th>\n",
              "      <th>num_Imp_count_KeyId</th>\n",
              "      <th>num_Imp_count_TitleId</th>\n",
              "      <th>num_Imp_count_DescId</th>\n",
              "      <th>num_Imp_count_UId</th>\n",
              "      <th>num_Imp_UId</th>\n",
              "    </tr>\n",
              "  </thead>\n",
              "  <tbody>\n",
              "    <tr>\n",
              "      <th>0</th>\n",
              "      <td>756057</td>\n",
              "      <td>0.0</td>\n",
              "      <td>1.0</td>\n",
              "      <td>7797031665819164672</td>\n",
              "      <td>20563185</td>\n",
              "      <td>5476</td>\n",
              "      <td>2</td>\n",
              "      <td>1</td>\n",
              "      <td>221384</td>\n",
              "      <td>14472</td>\n",
              "      <td>...</td>\n",
              "      <td>218.651030</td>\n",
              "      <td>28.285206</td>\n",
              "      <td>43</td>\n",
              "      <td>80</td>\n",
              "      <td>2</td>\n",
              "      <td>7</td>\n",
              "      <td>4</td>\n",
              "      <td>4</td>\n",
              "      <td>13</td>\n",
              "      <td>19.0</td>\n",
              "    </tr>\n",
              "    <tr>\n",
              "      <th>1</th>\n",
              "      <td>208918</td>\n",
              "      <td>0.0</td>\n",
              "      <td>1.0</td>\n",
              "      <td>7797031665819164672</td>\n",
              "      <td>20563185</td>\n",
              "      <td>5476</td>\n",
              "      <td>2</td>\n",
              "      <td>1</td>\n",
              "      <td>22412</td>\n",
              "      <td>14472</td>\n",
              "      <td>...</td>\n",
              "      <td>218.651030</td>\n",
              "      <td>28.285206</td>\n",
              "      <td>43</td>\n",
              "      <td>80</td>\n",
              "      <td>4</td>\n",
              "      <td>7</td>\n",
              "      <td>4</td>\n",
              "      <td>4</td>\n",
              "      <td>3</td>\n",
              "      <td>3.0</td>\n",
              "    </tr>\n",
              "    <tr>\n",
              "      <th>2</th>\n",
              "      <td>981049</td>\n",
              "      <td>0.0</td>\n",
              "      <td>1.0</td>\n",
              "      <td>7797031665819164672</td>\n",
              "      <td>20563185</td>\n",
              "      <td>5476</td>\n",
              "      <td>2</td>\n",
              "      <td>1</td>\n",
              "      <td>738</td>\n",
              "      <td>14472</td>\n",
              "      <td>...</td>\n",
              "      <td>218.651030</td>\n",
              "      <td>28.285206</td>\n",
              "      <td>43</td>\n",
              "      <td>80</td>\n",
              "      <td>55</td>\n",
              "      <td>7</td>\n",
              "      <td>4</td>\n",
              "      <td>4</td>\n",
              "      <td>22</td>\n",
              "      <td>93.0</td>\n",
              "    </tr>\n",
              "    <tr>\n",
              "      <th>3</th>\n",
              "      <td>890103</td>\n",
              "      <td>0.0</td>\n",
              "      <td>1.0</td>\n",
              "      <td>7797031665819164672</td>\n",
              "      <td>20563185</td>\n",
              "      <td>5476</td>\n",
              "      <td>2</td>\n",
              "      <td>1</td>\n",
              "      <td>738</td>\n",
              "      <td>14472</td>\n",
              "      <td>...</td>\n",
              "      <td>218.651030</td>\n",
              "      <td>28.285206</td>\n",
              "      <td>43</td>\n",
              "      <td>80</td>\n",
              "      <td>55</td>\n",
              "      <td>7</td>\n",
              "      <td>4</td>\n",
              "      <td>4</td>\n",
              "      <td>39</td>\n",
              "      <td>57.0</td>\n",
              "    </tr>\n",
              "    <tr>\n",
              "      <th>4</th>\n",
              "      <td>208919</td>\n",
              "      <td>0.0</td>\n",
              "      <td>1.0</td>\n",
              "      <td>6311739615958990848</td>\n",
              "      <td>21926844</td>\n",
              "      <td>38029</td>\n",
              "      <td>2</td>\n",
              "      <td>2</td>\n",
              "      <td>22412</td>\n",
              "      <td>14472</td>\n",
              "      <td>...</td>\n",
              "      <td>199.854254</td>\n",
              "      <td>28.285206</td>\n",
              "      <td>31</td>\n",
              "      <td>125</td>\n",
              "      <td>4</td>\n",
              "      <td>7</td>\n",
              "      <td>1</td>\n",
              "      <td>1</td>\n",
              "      <td>3</td>\n",
              "      <td>3.0</td>\n",
              "    </tr>\n",
              "  </tbody>\n",
              "</table>\n",
              "<p>5 rows × 81 columns</p>\n",
              "</div>"
            ],
            "text/plain": [
              "    index  clicks  impressions                AdURL      AdId  AdvId  Depth  \\\n",
              "0  756057     0.0          1.0  7797031665819164672  20563185   5476      2   \n",
              "1  208918     0.0          1.0  7797031665819164672  20563185   5476      2   \n",
              "2  981049     0.0          1.0  7797031665819164672  20563185   5476      2   \n",
              "3  890103     0.0          1.0  7797031665819164672  20563185   5476      2   \n",
              "4  208919     0.0          1.0  6311739615958990848  21926844  38029      2   \n",
              "\n",
              "   Pos     QId  KeyId     ...       num_idf_desc  num_idf_Keyword  \\\n",
              "0    1  221384  14472     ...         218.651030        28.285206   \n",
              "1    1   22412  14472     ...         218.651030        28.285206   \n",
              "2    1     738  14472     ...         218.651030        28.285206   \n",
              "3    1     738  14472     ...         218.651030        28.285206   \n",
              "4    2   22412  14472     ...         199.854254        28.285206   \n",
              "\n",
              "   num_Imp_count_Ad  num_Imp_count_Advertiser  num_Imp_count_QId  \\\n",
              "0                43                        80                  2   \n",
              "1                43                        80                  4   \n",
              "2                43                        80                 55   \n",
              "3                43                        80                 55   \n",
              "4                31                       125                  4   \n",
              "\n",
              "   num_Imp_count_KeyId  num_Imp_count_TitleId   num_Imp_count_DescId  \\\n",
              "0                    7                       4                     4   \n",
              "1                    7                       4                     4   \n",
              "2                    7                       4                     4   \n",
              "3                    7                       4                     4   \n",
              "4                    7                       1                     1   \n",
              "\n",
              "   num_Imp_count_UId  num_Imp_UId  \n",
              "0                 13         19.0  \n",
              "1                  3          3.0  \n",
              "2                 22         93.0  \n",
              "3                 39         57.0  \n",
              "4                  3          3.0  \n",
              "\n",
              "[5 rows x 81 columns]"
            ]
          },
          "metadata": {
            "tags": []
          },
          "execution_count": 32
        }
      ]
    },
    {
      "cell_type": "code",
      "metadata": {
        "id": "b8aDCvIMsXzt",
        "colab_type": "code",
        "outputId": "dfe1967b-9f8c-4d08-d38d-5529d6b42f67",
        "colab": {}
      },
      "source": [
        "x_test.head()"
      ],
      "execution_count": 0,
      "outputs": [
        {
          "output_type": "execute_result",
          "data": {
            "text/html": [
              "<div>\n",
              "<style scoped>\n",
              "    .dataframe tbody tr th:only-of-type {\n",
              "        vertical-align: middle;\n",
              "    }\n",
              "\n",
              "    .dataframe tbody tr th {\n",
              "        vertical-align: top;\n",
              "    }\n",
              "\n",
              "    .dataframe thead th {\n",
              "        text-align: right;\n",
              "    }\n",
              "</style>\n",
              "<table border=\"1\" class=\"dataframe\">\n",
              "  <thead>\n",
              "    <tr style=\"text-align: right;\">\n",
              "      <th></th>\n",
              "      <th>index</th>\n",
              "      <th>clicks</th>\n",
              "      <th>impressions</th>\n",
              "      <th>AdURL</th>\n",
              "      <th>AdId</th>\n",
              "      <th>AdvId</th>\n",
              "      <th>Depth</th>\n",
              "      <th>Pos</th>\n",
              "      <th>QId</th>\n",
              "      <th>KeyId</th>\n",
              "      <th>...</th>\n",
              "      <th>num_idf_desc</th>\n",
              "      <th>num_idf_Keyword</th>\n",
              "      <th>num_Imp_count_Ad</th>\n",
              "      <th>num_Imp_count_Advertiser</th>\n",
              "      <th>num_Imp_count_QId</th>\n",
              "      <th>num_Imp_count_KeyId</th>\n",
              "      <th>num_Imp_count_TitleId</th>\n",
              "      <th>num_Imp_count_DescId</th>\n",
              "      <th>num_Imp_count_UId</th>\n",
              "      <th>num_Imp_UId</th>\n",
              "    </tr>\n",
              "  </thead>\n",
              "  <tbody>\n",
              "    <tr>\n",
              "      <th>0</th>\n",
              "      <td>933760</td>\n",
              "      <td>0.0</td>\n",
              "      <td>1.0</td>\n",
              "      <td>4151297533975027200</td>\n",
              "      <td>21437320</td>\n",
              "      <td>36604</td>\n",
              "      <td>2</td>\n",
              "      <td>2</td>\n",
              "      <td>211</td>\n",
              "      <td>497</td>\n",
              "      <td>...</td>\n",
              "      <td>276.012808</td>\n",
              "      <td>13.429045</td>\n",
              "      <td>43</td>\n",
              "      <td>80</td>\n",
              "      <td>2</td>\n",
              "      <td>7</td>\n",
              "      <td>4</td>\n",
              "      <td>4</td>\n",
              "      <td>13</td>\n",
              "      <td>19.0</td>\n",
              "    </tr>\n",
              "    <tr>\n",
              "      <th>1</th>\n",
              "      <td>607979</td>\n",
              "      <td>0.0</td>\n",
              "      <td>210.0</td>\n",
              "      <td>4151297533975027200</td>\n",
              "      <td>21437320</td>\n",
              "      <td>36604</td>\n",
              "      <td>2</td>\n",
              "      <td>2</td>\n",
              "      <td>211</td>\n",
              "      <td>497</td>\n",
              "      <td>...</td>\n",
              "      <td>276.012808</td>\n",
              "      <td>13.429045</td>\n",
              "      <td>43</td>\n",
              "      <td>80</td>\n",
              "      <td>4</td>\n",
              "      <td>7</td>\n",
              "      <td>4</td>\n",
              "      <td>4</td>\n",
              "      <td>3</td>\n",
              "      <td>3.0</td>\n",
              "    </tr>\n",
              "    <tr>\n",
              "      <th>2</th>\n",
              "      <td>607979</td>\n",
              "      <td>0.0</td>\n",
              "      <td>210.0</td>\n",
              "      <td>4151297533975027200</td>\n",
              "      <td>21437320</td>\n",
              "      <td>36604</td>\n",
              "      <td>2</td>\n",
              "      <td>2</td>\n",
              "      <td>211</td>\n",
              "      <td>497</td>\n",
              "      <td>...</td>\n",
              "      <td>276.012808</td>\n",
              "      <td>13.429045</td>\n",
              "      <td>43</td>\n",
              "      <td>80</td>\n",
              "      <td>55</td>\n",
              "      <td>7</td>\n",
              "      <td>4</td>\n",
              "      <td>4</td>\n",
              "      <td>22</td>\n",
              "      <td>93.0</td>\n",
              "    </tr>\n",
              "    <tr>\n",
              "      <th>3</th>\n",
              "      <td>607979</td>\n",
              "      <td>0.0</td>\n",
              "      <td>210.0</td>\n",
              "      <td>4151297533975027200</td>\n",
              "      <td>21437320</td>\n",
              "      <td>36604</td>\n",
              "      <td>2</td>\n",
              "      <td>2</td>\n",
              "      <td>211</td>\n",
              "      <td>497</td>\n",
              "      <td>...</td>\n",
              "      <td>276.012808</td>\n",
              "      <td>13.429045</td>\n",
              "      <td>43</td>\n",
              "      <td>80</td>\n",
              "      <td>55</td>\n",
              "      <td>7</td>\n",
              "      <td>4</td>\n",
              "      <td>4</td>\n",
              "      <td>39</td>\n",
              "      <td>57.0</td>\n",
              "    </tr>\n",
              "    <tr>\n",
              "      <th>4</th>\n",
              "      <td>607979</td>\n",
              "      <td>0.0</td>\n",
              "      <td>210.0</td>\n",
              "      <td>4151297533975027200</td>\n",
              "      <td>21437320</td>\n",
              "      <td>36604</td>\n",
              "      <td>2</td>\n",
              "      <td>2</td>\n",
              "      <td>211</td>\n",
              "      <td>497</td>\n",
              "      <td>...</td>\n",
              "      <td>276.012808</td>\n",
              "      <td>13.429045</td>\n",
              "      <td>31</td>\n",
              "      <td>125</td>\n",
              "      <td>4</td>\n",
              "      <td>7</td>\n",
              "      <td>1</td>\n",
              "      <td>1</td>\n",
              "      <td>3</td>\n",
              "      <td>3.0</td>\n",
              "    </tr>\n",
              "  </tbody>\n",
              "</table>\n",
              "<p>5 rows × 81 columns</p>\n",
              "</div>"
            ],
            "text/plain": [
              "    index  clicks  impressions                AdURL      AdId  AdvId  Depth  \\\n",
              "0  933760     0.0          1.0  4151297533975027200  21437320  36604      2   \n",
              "1  607979     0.0        210.0  4151297533975027200  21437320  36604      2   \n",
              "2  607979     0.0        210.0  4151297533975027200  21437320  36604      2   \n",
              "3  607979     0.0        210.0  4151297533975027200  21437320  36604      2   \n",
              "4  607979     0.0        210.0  4151297533975027200  21437320  36604      2   \n",
              "\n",
              "   Pos  QId  KeyId     ...       num_idf_desc  num_idf_Keyword  \\\n",
              "0    2  211    497     ...         276.012808        13.429045   \n",
              "1    2  211    497     ...         276.012808        13.429045   \n",
              "2    2  211    497     ...         276.012808        13.429045   \n",
              "3    2  211    497     ...         276.012808        13.429045   \n",
              "4    2  211    497     ...         276.012808        13.429045   \n",
              "\n",
              "   num_Imp_count_Ad  num_Imp_count_Advertiser  num_Imp_count_QId  \\\n",
              "0                43                        80                  2   \n",
              "1                43                        80                  4   \n",
              "2                43                        80                 55   \n",
              "3                43                        80                 55   \n",
              "4                31                       125                  4   \n",
              "\n",
              "   num_Imp_count_KeyId  num_Imp_count_TitleId   num_Imp_count_DescId  \\\n",
              "0                    7                       4                     4   \n",
              "1                    7                       4                     4   \n",
              "2                    7                       4                     4   \n",
              "3                    7                       4                     4   \n",
              "4                    7                       1                     1   \n",
              "\n",
              "   num_Imp_count_UId  num_Imp_UId  \n",
              "0                 13         19.0  \n",
              "1                  3          3.0  \n",
              "2                 22         93.0  \n",
              "3                 39         57.0  \n",
              "4                  3          3.0  \n",
              "\n",
              "[5 rows x 81 columns]"
            ]
          },
          "metadata": {
            "tags": []
          },
          "execution_count": 33
        }
      ]
    },
    {
      "cell_type": "markdown",
      "metadata": {
        "id": "kfwMbMjEsXzw",
        "colab_type": "text"
      },
      "source": [
        "### Weighted Features -> where each token is weighted by their idf value"
      ]
    },
    {
      "cell_type": "code",
      "metadata": {
        "id": "4ufFMh-VsXzx",
        "colab_type": "code",
        "outputId": "cae58d8a-626c-4d98-bff6-8d792245d5e3",
        "colab": {}
      },
      "source": [
        "# https://stackoverflow.com/questions/209840/convert-two-lists-into-a-dictionary-in-python\n",
        "\n",
        "start = datetime.now()\n",
        "\n",
        "# Load Keyword Data.\n",
        "\n",
        "key_col  = ['KeyId', 'Keyword']\n",
        "keyword  = pd.read_csv('C:/Users/Administrator/Documents/Datasets/KDD_Cup_2012_Track 2/purchasedkeywordid_tokensid.txt', sep='\\t', header=None, names=key_col)\n",
        "\n",
        "# one-hot encoding of Keyword feature.\n",
        "key_tfidf_vectorizer = TfidfVectorizer(use_idf=True)\n",
        "tfidf_keyword = key_tfidf_vectorizer.fit_transform(keyword['Keyword'])\n",
        "\n",
        "a = list(key_tfidf_vectorizer.vocabulary_.keys())\n",
        "b = list(key_tfidf_vectorizer.idf_)\n",
        "#print(len(a)) -> 91482\n",
        "#print(len(b)) -> 91482\n",
        "dict_keyword = dict(zip(a[::], b[::]))\n",
        "\n",
        "\n",
        "# Load Query Data..\n",
        "\n",
        "query_col = ['QId', 'Query']\n",
        "query     = pd.read_csv('C:/Users/Administrator/Documents/Datasets/KDD_Cup_2012_Track 2/queryid_tokensid.txt', sep='\\t', header=None, names=query_col)\n",
        "\n",
        "query_tfidf_vectorizer = TfidfVectorizer(use_idf=True)\n",
        "tfidf_query = query_tfidf_vectorizer.fit_transform(query['Query'])\n",
        "\n",
        "a = list(query_tfidf_vectorizer.vocabulary_.keys())\n",
        "b = list(query_tfidf_vectorizer.idf_)\n",
        "dict_query = dict(zip(a[::], b[::]))\n",
        "\n",
        "# Load Ad Description Data..\n",
        "\n",
        "desc_col  = ['DescId', 'Description']\n",
        "desc      = pd.read_csv('C:/Users/Administrator/Documents/Datasets/KDD_Cup_2012_Track 2/descriptionid_tokensid.txt', sep='\\t', header=None, names=desc_col)\n",
        "\n",
        "desc_tfidf_vectorizer = TfidfVectorizer(use_idf=True)\n",
        "tfidf_desc = desc_tfidf_vectorizer.fit_transform(desc['Description'])\n",
        "\n",
        "a = list(desc_tfidf_vectorizer.vocabulary_.keys())\n",
        "b = list(desc_tfidf_vectorizer.idf_)\n",
        "dict_desc = dict(zip(a[::], b[::]))\n",
        "\n",
        "# Load Ad Title Data..\n",
        "\n",
        "title_col = ['TitleId', 'Title']\n",
        "title     = pd.read_csv('C:/Users/Administrator/Documents/Datasets/KDD_Cup_2012_Track 2/titleid_tokensid.txt', sep='\\t', header=None, names=title_col)\n",
        "\n",
        "title_tfidf_vectorizer = TfidfVectorizer(use_idf=True)\n",
        "tfidf_title = title_tfidf_vectorizer.fit_transform(title['Title'])\n",
        "\n",
        "a = list(title_tfidf_vectorizer.vocabulary_.keys())\n",
        "b = list(title_tfidf_vectorizer.idf_)\n",
        "dict_title = dict(zip(a[::], b[::]))\n",
        "\n",
        "end = datetime.now()\n",
        "print(\"Time taken to run this cell: \",end-start)"
      ],
      "execution_count": 0,
      "outputs": [
        {
          "output_type": "stream",
          "text": [
            "Time taken to run this cell:  0:27:43.512583\n"
          ],
          "name": "stdout"
        }
      ]
    },
    {
      "cell_type": "code",
      "metadata": {
        "id": "xZjmKDx2sXz1",
        "colab_type": "code",
        "outputId": "44f73ee4-781c-4fb8-e15f-25ae6ed95099",
        "colab": {}
      },
      "source": [
        "# https://stackoverflow.com/questions/34279378/python-pandas-apply-function-with-two-arguments-to-columns/34279543\n",
        "\n",
        "start = datetime.now()\n",
        "\n",
        "def idf_sum(sentence,res):\n",
        "    sum = 0.0\n",
        "    store = str(sentence).split('|')\n",
        "    for i in range(len(store)):\n",
        "        val = res.get(store[i])\n",
        "        if val is None:\n",
        "            val = 0.0\n",
        "        else:\n",
        "            sum = sum+val\n",
        "    return sum\n",
        "\n",
        "keyword['num_idf_Keyword'] = keyword['Keyword'].apply((lambda x: idf_sum(x,dict_keyword)))\n",
        "#del keyword['Keyword']\n",
        "\n",
        "query['num_idf_query'] = query['Query'].apply((lambda x: idf_sum(x,dict_query)))\n",
        "#del query['Query']\n",
        "\n",
        "desc['num_idf_desc'] = desc['Description'].apply((lambda x: idf_sum(x,dict_desc)))\n",
        "#del desc['Description']\n",
        "\n",
        "title['num_idf_title'] = title['Title'].apply((lambda x: idf_sum(x,dict_title)))\n",
        "#del title['Title']\n",
        "\n",
        "end = datetime.now()\n",
        "print(\"Time taken to run this cell: \",end-start)"
      ],
      "execution_count": 0,
      "outputs": [
        {
          "output_type": "stream",
          "text": [
            "Time taken to run this cell:  0:14:43.339205\n"
          ],
          "name": "stdout"
        }
      ]
    },
    {
      "cell_type": "code",
      "metadata": {
        "id": "rSve7MD6sXz5",
        "colab_type": "code",
        "colab": {}
      },
      "source": [
        "del keyword['Keyword']\n",
        "del query['Query']\n",
        "del desc['Description']\n",
        "del title['Title']"
      ],
      "execution_count": 0,
      "outputs": []
    },
    {
      "cell_type": "code",
      "metadata": {
        "id": "bHg7NN1qsXz9",
        "colab_type": "code",
        "outputId": "47c65b46-16a9-4133-df20-18c58984cabc",
        "colab": {}
      },
      "source": [
        "# Merging data with user, query, title, keyword & desc on appropriate keys to get data..\n",
        "\n",
        "x_train  = pd.merge(x_train, query, on='QId')\n",
        "x_train  = pd.merge(x_train, title, on='TitleId')\n",
        "x_train  = pd.merge(x_train, desc,  on='DescId')\n",
        "x_train  = pd.merge(x_train, keyword, on='KeyId')\n",
        "\n",
        "x_train.head()"
      ],
      "execution_count": 0,
      "outputs": [
        {
          "output_type": "execute_result",
          "data": {
            "text/html": [
              "<div>\n",
              "<style scoped>\n",
              "    .dataframe tbody tr th:only-of-type {\n",
              "        vertical-align: middle;\n",
              "    }\n",
              "\n",
              "    .dataframe tbody tr th {\n",
              "        vertical-align: top;\n",
              "    }\n",
              "\n",
              "    .dataframe thead th {\n",
              "        text-align: right;\n",
              "    }\n",
              "</style>\n",
              "<table border=\"1\" class=\"dataframe\">\n",
              "  <thead>\n",
              "    <tr style=\"text-align: right;\">\n",
              "      <th></th>\n",
              "      <th>index</th>\n",
              "      <th>clicks</th>\n",
              "      <th>impressions</th>\n",
              "      <th>AdURL</th>\n",
              "      <th>AdId</th>\n",
              "      <th>AdvId</th>\n",
              "      <th>Depth</th>\n",
              "      <th>Pos</th>\n",
              "      <th>QId</th>\n",
              "      <th>KeyId</th>\n",
              "      <th>...</th>\n",
              "      <th>num_count_Advertiser</th>\n",
              "      <th>num_count_QId</th>\n",
              "      <th>num_count_KeyId</th>\n",
              "      <th>num_count_TitleId</th>\n",
              "      <th>num_count_DescId</th>\n",
              "      <th>num_count_UId</th>\n",
              "      <th>num_idf_query</th>\n",
              "      <th>num_idf_title</th>\n",
              "      <th>num_idf_desc</th>\n",
              "      <th>num_idf_Keyword</th>\n",
              "    </tr>\n",
              "  </thead>\n",
              "  <tbody>\n",
              "    <tr>\n",
              "      <th>0</th>\n",
              "      <td>756057</td>\n",
              "      <td>0.0</td>\n",
              "      <td>1.0</td>\n",
              "      <td>7797031665819164672</td>\n",
              "      <td>20563185</td>\n",
              "      <td>5476</td>\n",
              "      <td>2</td>\n",
              "      <td>1</td>\n",
              "      <td>221384</td>\n",
              "      <td>14472</td>\n",
              "      <td>...</td>\n",
              "      <td>80</td>\n",
              "      <td>2</td>\n",
              "      <td>7</td>\n",
              "      <td>4</td>\n",
              "      <td>4</td>\n",
              "      <td>13</td>\n",
              "      <td>49.918066</td>\n",
              "      <td>112.823587</td>\n",
              "      <td>218.651030</td>\n",
              "      <td>28.285206</td>\n",
              "    </tr>\n",
              "    <tr>\n",
              "      <th>1</th>\n",
              "      <td>208918</td>\n",
              "      <td>0.0</td>\n",
              "      <td>1.0</td>\n",
              "      <td>7797031665819164672</td>\n",
              "      <td>20563185</td>\n",
              "      <td>5476</td>\n",
              "      <td>2</td>\n",
              "      <td>1</td>\n",
              "      <td>22412</td>\n",
              "      <td>14472</td>\n",
              "      <td>...</td>\n",
              "      <td>80</td>\n",
              "      <td>4</td>\n",
              "      <td>7</td>\n",
              "      <td>4</td>\n",
              "      <td>4</td>\n",
              "      <td>3</td>\n",
              "      <td>52.169357</td>\n",
              "      <td>112.823587</td>\n",
              "      <td>218.651030</td>\n",
              "      <td>28.285206</td>\n",
              "    </tr>\n",
              "    <tr>\n",
              "      <th>2</th>\n",
              "      <td>981049</td>\n",
              "      <td>0.0</td>\n",
              "      <td>1.0</td>\n",
              "      <td>7797031665819164672</td>\n",
              "      <td>20563185</td>\n",
              "      <td>5476</td>\n",
              "      <td>2</td>\n",
              "      <td>1</td>\n",
              "      <td>738</td>\n",
              "      <td>14472</td>\n",
              "      <td>...</td>\n",
              "      <td>80</td>\n",
              "      <td>55</td>\n",
              "      <td>7</td>\n",
              "      <td>4</td>\n",
              "      <td>4</td>\n",
              "      <td>22</td>\n",
              "      <td>34.779572</td>\n",
              "      <td>112.823587</td>\n",
              "      <td>218.651030</td>\n",
              "      <td>28.285206</td>\n",
              "    </tr>\n",
              "    <tr>\n",
              "      <th>3</th>\n",
              "      <td>890103</td>\n",
              "      <td>0.0</td>\n",
              "      <td>1.0</td>\n",
              "      <td>7797031665819164672</td>\n",
              "      <td>20563185</td>\n",
              "      <td>5476</td>\n",
              "      <td>2</td>\n",
              "      <td>1</td>\n",
              "      <td>738</td>\n",
              "      <td>14472</td>\n",
              "      <td>...</td>\n",
              "      <td>80</td>\n",
              "      <td>55</td>\n",
              "      <td>7</td>\n",
              "      <td>4</td>\n",
              "      <td>4</td>\n",
              "      <td>39</td>\n",
              "      <td>34.779572</td>\n",
              "      <td>112.823587</td>\n",
              "      <td>218.651030</td>\n",
              "      <td>28.285206</td>\n",
              "    </tr>\n",
              "    <tr>\n",
              "      <th>4</th>\n",
              "      <td>208919</td>\n",
              "      <td>0.0</td>\n",
              "      <td>1.0</td>\n",
              "      <td>6311739615958990848</td>\n",
              "      <td>21926844</td>\n",
              "      <td>38029</td>\n",
              "      <td>2</td>\n",
              "      <td>2</td>\n",
              "      <td>22412</td>\n",
              "      <td>14472</td>\n",
              "      <td>...</td>\n",
              "      <td>125</td>\n",
              "      <td>4</td>\n",
              "      <td>7</td>\n",
              "      <td>1</td>\n",
              "      <td>1</td>\n",
              "      <td>3</td>\n",
              "      <td>52.169357</td>\n",
              "      <td>144.574668</td>\n",
              "      <td>199.854254</td>\n",
              "      <td>28.285206</td>\n",
              "    </tr>\n",
              "  </tbody>\n",
              "</table>\n",
              "<p>5 rows × 73 columns</p>\n",
              "</div>"
            ],
            "text/plain": [
              "    index  clicks  impressions                AdURL      AdId  AdvId  Depth  \\\n",
              "0  756057     0.0          1.0  7797031665819164672  20563185   5476      2   \n",
              "1  208918     0.0          1.0  7797031665819164672  20563185   5476      2   \n",
              "2  981049     0.0          1.0  7797031665819164672  20563185   5476      2   \n",
              "3  890103     0.0          1.0  7797031665819164672  20563185   5476      2   \n",
              "4  208919     0.0          1.0  6311739615958990848  21926844  38029      2   \n",
              "\n",
              "   Pos     QId  KeyId       ...         num_count_Advertiser  num_count_QId  \\\n",
              "0    1  221384  14472       ...                           80              2   \n",
              "1    1   22412  14472       ...                           80              4   \n",
              "2    1     738  14472       ...                           80             55   \n",
              "3    1     738  14472       ...                           80             55   \n",
              "4    2   22412  14472       ...                          125              4   \n",
              "\n",
              "   num_count_KeyId  num_count_TitleId   num_count_DescId  num_count_UId  \\\n",
              "0                7                   4                 4             13   \n",
              "1                7                   4                 4              3   \n",
              "2                7                   4                 4             22   \n",
              "3                7                   4                 4             39   \n",
              "4                7                   1                 1              3   \n",
              "\n",
              "   num_idf_query  num_idf_title  num_idf_desc  num_idf_Keyword  \n",
              "0      49.918066     112.823587    218.651030        28.285206  \n",
              "1      52.169357     112.823587    218.651030        28.285206  \n",
              "2      34.779572     112.823587    218.651030        28.285206  \n",
              "3      34.779572     112.823587    218.651030        28.285206  \n",
              "4      52.169357     144.574668    199.854254        28.285206  \n",
              "\n",
              "[5 rows x 73 columns]"
            ]
          },
          "metadata": {
            "tags": []
          },
          "execution_count": 24
        }
      ]
    },
    {
      "cell_type": "code",
      "metadata": {
        "id": "PBGCQZg6sX0B",
        "colab_type": "code",
        "outputId": "c8bf1145-61a4-4f58-e730-d49272d8bd77",
        "colab": {}
      },
      "source": [
        "# Merging data with user, query, title, keyword & desc on appropriate keys to get data..\n",
        "\n",
        "x_test  = pd.merge(x_test, query, on='QId')\n",
        "x_test  = pd.merge(x_test, title, on='TitleId')\n",
        "x_test  = pd.merge(x_test, desc,  on='DescId')\n",
        "x_test  = pd.merge(x_test, keyword, on='KeyId')\n",
        "\n",
        "x_test.head()"
      ],
      "execution_count": 0,
      "outputs": [
        {
          "output_type": "execute_result",
          "data": {
            "text/html": [
              "<div>\n",
              "<style scoped>\n",
              "    .dataframe tbody tr th:only-of-type {\n",
              "        vertical-align: middle;\n",
              "    }\n",
              "\n",
              "    .dataframe tbody tr th {\n",
              "        vertical-align: top;\n",
              "    }\n",
              "\n",
              "    .dataframe thead th {\n",
              "        text-align: right;\n",
              "    }\n",
              "</style>\n",
              "<table border=\"1\" class=\"dataframe\">\n",
              "  <thead>\n",
              "    <tr style=\"text-align: right;\">\n",
              "      <th></th>\n",
              "      <th>index</th>\n",
              "      <th>clicks</th>\n",
              "      <th>impressions</th>\n",
              "      <th>AdURL</th>\n",
              "      <th>AdId</th>\n",
              "      <th>AdvId</th>\n",
              "      <th>Depth</th>\n",
              "      <th>Pos</th>\n",
              "      <th>QId</th>\n",
              "      <th>KeyId</th>\n",
              "      <th>...</th>\n",
              "      <th>num_count_Advertiser</th>\n",
              "      <th>num_count_QId</th>\n",
              "      <th>num_count_KeyId</th>\n",
              "      <th>num_count_TitleId</th>\n",
              "      <th>num_count_DescId</th>\n",
              "      <th>num_count_UId</th>\n",
              "      <th>num_idf_query</th>\n",
              "      <th>num_idf_title</th>\n",
              "      <th>num_idf_desc</th>\n",
              "      <th>num_idf_Keyword</th>\n",
              "    </tr>\n",
              "  </thead>\n",
              "  <tbody>\n",
              "    <tr>\n",
              "      <th>0</th>\n",
              "      <td>933760</td>\n",
              "      <td>0.0</td>\n",
              "      <td>1.0</td>\n",
              "      <td>4151297533975027200</td>\n",
              "      <td>21437320</td>\n",
              "      <td>36604</td>\n",
              "      <td>2</td>\n",
              "      <td>2</td>\n",
              "      <td>211</td>\n",
              "      <td>497</td>\n",
              "      <td>...</td>\n",
              "      <td>80</td>\n",
              "      <td>2</td>\n",
              "      <td>7</td>\n",
              "      <td>4</td>\n",
              "      <td>4</td>\n",
              "      <td>13</td>\n",
              "      <td>17.389786</td>\n",
              "      <td>173.706252</td>\n",
              "      <td>276.012808</td>\n",
              "      <td>13.429045</td>\n",
              "    </tr>\n",
              "    <tr>\n",
              "      <th>1</th>\n",
              "      <td>607979</td>\n",
              "      <td>0.0</td>\n",
              "      <td>210.0</td>\n",
              "      <td>4151297533975027200</td>\n",
              "      <td>21437320</td>\n",
              "      <td>36604</td>\n",
              "      <td>2</td>\n",
              "      <td>2</td>\n",
              "      <td>211</td>\n",
              "      <td>497</td>\n",
              "      <td>...</td>\n",
              "      <td>80</td>\n",
              "      <td>4</td>\n",
              "      <td>7</td>\n",
              "      <td>4</td>\n",
              "      <td>4</td>\n",
              "      <td>3</td>\n",
              "      <td>17.389786</td>\n",
              "      <td>173.706252</td>\n",
              "      <td>276.012808</td>\n",
              "      <td>13.429045</td>\n",
              "    </tr>\n",
              "    <tr>\n",
              "      <th>2</th>\n",
              "      <td>607979</td>\n",
              "      <td>0.0</td>\n",
              "      <td>210.0</td>\n",
              "      <td>4151297533975027200</td>\n",
              "      <td>21437320</td>\n",
              "      <td>36604</td>\n",
              "      <td>2</td>\n",
              "      <td>2</td>\n",
              "      <td>211</td>\n",
              "      <td>497</td>\n",
              "      <td>...</td>\n",
              "      <td>80</td>\n",
              "      <td>55</td>\n",
              "      <td>7</td>\n",
              "      <td>4</td>\n",
              "      <td>4</td>\n",
              "      <td>22</td>\n",
              "      <td>17.389786</td>\n",
              "      <td>173.706252</td>\n",
              "      <td>276.012808</td>\n",
              "      <td>13.429045</td>\n",
              "    </tr>\n",
              "    <tr>\n",
              "      <th>3</th>\n",
              "      <td>607979</td>\n",
              "      <td>0.0</td>\n",
              "      <td>210.0</td>\n",
              "      <td>4151297533975027200</td>\n",
              "      <td>21437320</td>\n",
              "      <td>36604</td>\n",
              "      <td>2</td>\n",
              "      <td>2</td>\n",
              "      <td>211</td>\n",
              "      <td>497</td>\n",
              "      <td>...</td>\n",
              "      <td>80</td>\n",
              "      <td>55</td>\n",
              "      <td>7</td>\n",
              "      <td>4</td>\n",
              "      <td>4</td>\n",
              "      <td>39</td>\n",
              "      <td>17.389786</td>\n",
              "      <td>173.706252</td>\n",
              "      <td>276.012808</td>\n",
              "      <td>13.429045</td>\n",
              "    </tr>\n",
              "    <tr>\n",
              "      <th>4</th>\n",
              "      <td>607979</td>\n",
              "      <td>0.0</td>\n",
              "      <td>210.0</td>\n",
              "      <td>4151297533975027200</td>\n",
              "      <td>21437320</td>\n",
              "      <td>36604</td>\n",
              "      <td>2</td>\n",
              "      <td>2</td>\n",
              "      <td>211</td>\n",
              "      <td>497</td>\n",
              "      <td>...</td>\n",
              "      <td>158</td>\n",
              "      <td>33</td>\n",
              "      <td>7</td>\n",
              "      <td>4</td>\n",
              "      <td>30</td>\n",
              "      <td>7</td>\n",
              "      <td>17.389786</td>\n",
              "      <td>173.706252</td>\n",
              "      <td>276.012808</td>\n",
              "      <td>13.429045</td>\n",
              "    </tr>\n",
              "  </tbody>\n",
              "</table>\n",
              "<p>5 rows × 73 columns</p>\n",
              "</div>"
            ],
            "text/plain": [
              "    index  clicks  impressions                AdURL      AdId  AdvId  Depth  \\\n",
              "0  933760     0.0          1.0  4151297533975027200  21437320  36604      2   \n",
              "1  607979     0.0        210.0  4151297533975027200  21437320  36604      2   \n",
              "2  607979     0.0        210.0  4151297533975027200  21437320  36604      2   \n",
              "3  607979     0.0        210.0  4151297533975027200  21437320  36604      2   \n",
              "4  607979     0.0        210.0  4151297533975027200  21437320  36604      2   \n",
              "\n",
              "   Pos  QId  KeyId       ...         num_count_Advertiser  num_count_QId  \\\n",
              "0    2  211    497       ...                           80              2   \n",
              "1    2  211    497       ...                           80              4   \n",
              "2    2  211    497       ...                           80             55   \n",
              "3    2  211    497       ...                           80             55   \n",
              "4    2  211    497       ...                          158             33   \n",
              "\n",
              "   num_count_KeyId  num_count_TitleId   num_count_DescId  num_count_UId  \\\n",
              "0                7                   4                 4             13   \n",
              "1                7                   4                 4              3   \n",
              "2                7                   4                 4             22   \n",
              "3                7                   4                 4             39   \n",
              "4                7                   4                30              7   \n",
              "\n",
              "   num_idf_query  num_idf_title  num_idf_desc  num_idf_Keyword  \n",
              "0      17.389786     173.706252    276.012808        13.429045  \n",
              "1      17.389786     173.706252    276.012808        13.429045  \n",
              "2      17.389786     173.706252    276.012808        13.429045  \n",
              "3      17.389786     173.706252    276.012808        13.429045  \n",
              "4      17.389786     173.706252    276.012808        13.429045  \n",
              "\n",
              "[5 rows x 73 columns]"
            ]
          },
          "metadata": {
            "tags": []
          },
          "execution_count": 25
        }
      ]
    },
    {
      "cell_type": "code",
      "metadata": {
        "id": "9n480hz9sX0F",
        "colab_type": "code",
        "colab": {}
      },
      "source": [
        "# Saving to CSV file\n",
        "\n",
        "x_train.to_csv('C:/Users/Administrator/Documents/Datasets/KDD_Cup_2012_Track 2/train_10L_num_feats_mod.csv',index=False)\n",
        "x_test.to_csv('C:/Users/Administrator/Documents/Datasets/KDD_Cup_2012_Track 2/test_10L_num_feats_mod.csv',index=False)"
      ],
      "execution_count": 0,
      "outputs": []
    },
    {
      "cell_type": "code",
      "metadata": {
        "id": "sw8Kt5H-sX0I",
        "colab_type": "code",
        "colab": {}
      },
      "source": [
        "x_train.to_csv('C:/Users/Administrator/Documents/Datasets/KDD_Cup_2012_Track 2/train_10L_num_feats_mod_1.csv',index=False)\n",
        "x_test.to_csv('C:/Users/Administrator/Documents/Datasets/KDD_Cup_2012_Track 2/test_10L_num_feats_mod_1.csv',index=False)"
      ],
      "execution_count": 0,
      "outputs": []
    },
    {
      "cell_type": "code",
      "metadata": {
        "id": "23HDVHBcsX0N",
        "colab_type": "code",
        "colab": {}
      },
      "source": [
        "# Reading from CSV file\n",
        "\n",
        "x_train = pd.read_csv(\"C:/Users/Administrator/Documents/Datasets/KDD_Cup_2012_Track 2/train_10L_num_feats_mod_1.csv\")\n",
        "x_test = pd.read_csv(\"C:/Users/Administrator/Documents/Datasets/KDD_Cup_2012_Track 2/test_10L_num_feats_mod_1.csv\")\n",
        "\n",
        "#x_train.head() -> total 81 features."
      ],
      "execution_count": 0,
      "outputs": []
    },
    {
      "cell_type": "code",
      "metadata": {
        "id": "wiO2qEtRsX0Q",
        "colab_type": "code",
        "colab": {}
      },
      "source": [
        "# Reading from CSV file\n",
        "\n",
        "x_train = pd.read_csv(\"/content/drive/My Drive/COLAB FILES/train_10L_basic_feat.csv\")\n",
        "x_test = pd.read_csv(\"/content/drive/My Drive/COLAB FILES/test_10L_basic_feat.csv\")\n",
        "\n",
        "#total 49 features"
      ],
      "execution_count": 0,
      "outputs": []
    },
    {
      "cell_type": "code",
      "metadata": {
        "id": "f28DIgNOsX0U",
        "colab_type": "code",
        "outputId": "b23592b7-3d8d-4c70-c7d7-41b558747a17",
        "colab": {
          "base_uri": "https://localhost:8080/",
          "height": 224
        }
      },
      "source": [
        "x_train.head()"
      ],
      "execution_count": 0,
      "outputs": [
        {
          "output_type": "execute_result",
          "data": {
            "text/html": [
              "<div>\n",
              "<style scoped>\n",
              "    .dataframe tbody tr th:only-of-type {\n",
              "        vertical-align: middle;\n",
              "    }\n",
              "\n",
              "    .dataframe tbody tr th {\n",
              "        vertical-align: top;\n",
              "    }\n",
              "\n",
              "    .dataframe thead th {\n",
              "        text-align: right;\n",
              "    }\n",
              "</style>\n",
              "<table border=\"1\" class=\"dataframe\">\n",
              "  <thead>\n",
              "    <tr style=\"text-align: right;\">\n",
              "      <th></th>\n",
              "      <th>index</th>\n",
              "      <th>clicks</th>\n",
              "      <th>impressions</th>\n",
              "      <th>AdURL</th>\n",
              "      <th>AdId</th>\n",
              "      <th>AdvId</th>\n",
              "      <th>Depth</th>\n",
              "      <th>Pos</th>\n",
              "      <th>QId</th>\n",
              "      <th>KeyId</th>\n",
              "      <th>TitleId</th>\n",
              "      <th>DescId</th>\n",
              "      <th>UId</th>\n",
              "      <th>class_label</th>\n",
              "      <th>CTR</th>\n",
              "      <th>RPosition</th>\n",
              "      <th>pCTR</th>\n",
              "      <th>Gender</th>\n",
              "      <th>Age</th>\n",
              "      <th>QCount</th>\n",
              "      <th>TCount</th>\n",
              "      <th>DCount</th>\n",
              "      <th>KCount</th>\n",
              "      <th>mAdURL</th>\n",
              "      <th>mAdId</th>\n",
              "      <th>mAdvId</th>\n",
              "      <th>mDepth</th>\n",
              "      <th>mPos</th>\n",
              "      <th>mQId</th>\n",
              "      <th>mKeyId</th>\n",
              "      <th>mTitleId</th>\n",
              "      <th>mDescId</th>\n",
              "      <th>mUId</th>\n",
              "      <th>mRPosition</th>\n",
              "      <th>mGender</th>\n",
              "      <th>mAge</th>\n",
              "      <th>pAdURL</th>\n",
              "      <th>pAdId</th>\n",
              "      <th>pAdvId</th>\n",
              "      <th>pDepth</th>\n",
              "      <th>pPos</th>\n",
              "      <th>pQId</th>\n",
              "      <th>pKeyId</th>\n",
              "      <th>pTitleId</th>\n",
              "      <th>pDescId</th>\n",
              "      <th>pUId</th>\n",
              "      <th>pRPosition</th>\n",
              "      <th>pGender</th>\n",
              "      <th>pAge</th>\n",
              "    </tr>\n",
              "  </thead>\n",
              "  <tbody>\n",
              "    <tr>\n",
              "      <th>0</th>\n",
              "      <td>35803</td>\n",
              "      <td>0.0</td>\n",
              "      <td>1.0</td>\n",
              "      <td>14340390157469405184</td>\n",
              "      <td>4803006</td>\n",
              "      <td>23777</td>\n",
              "      <td>1</td>\n",
              "      <td>1</td>\n",
              "      <td>22997071</td>\n",
              "      <td>1929</td>\n",
              "      <td>2153</td>\n",
              "      <td>2403</td>\n",
              "      <td>2333164</td>\n",
              "      <td>0</td>\n",
              "      <td>0.0</td>\n",
              "      <td>0.000000</td>\n",
              "      <td>0.049342</td>\n",
              "      <td>2</td>\n",
              "      <td>1</td>\n",
              "      <td>5</td>\n",
              "      <td>4</td>\n",
              "      <td>24</td>\n",
              "      <td>1</td>\n",
              "      <td>0.042371</td>\n",
              "      <td>0.030303</td>\n",
              "      <td>0.033539</td>\n",
              "      <td>0.045720</td>\n",
              "      <td>0.054264</td>\n",
              "      <td>0.0</td>\n",
              "      <td>0.017544</td>\n",
              "      <td>0.030303</td>\n",
              "      <td>0.030303</td>\n",
              "      <td>0.000000</td>\n",
              "      <td>0.045720</td>\n",
              "      <td>0.045511</td>\n",
              "      <td>0.040841</td>\n",
              "      <td>0.04936</td>\n",
              "      <td>0.049586</td>\n",
              "      <td>0.049128</td>\n",
              "      <td>0.049664</td>\n",
              "      <td>0.049843</td>\n",
              "      <td>0.049342</td>\n",
              "      <td>0.049461</td>\n",
              "      <td>0.049586</td>\n",
              "      <td>0.049586</td>\n",
              "      <td>0.049278</td>\n",
              "      <td>0.049664</td>\n",
              "      <td>0.049866</td>\n",
              "      <td>0.049710</td>\n",
              "    </tr>\n",
              "    <tr>\n",
              "      <th>1</th>\n",
              "      <td>35805</td>\n",
              "      <td>0.0</td>\n",
              "      <td>2.0</td>\n",
              "      <td>14340390157469405184</td>\n",
              "      <td>4803006</td>\n",
              "      <td>23777</td>\n",
              "      <td>2</td>\n",
              "      <td>1</td>\n",
              "      <td>2293</td>\n",
              "      <td>1929</td>\n",
              "      <td>2153</td>\n",
              "      <td>2403</td>\n",
              "      <td>2333164</td>\n",
              "      <td>0</td>\n",
              "      <td>0.0</td>\n",
              "      <td>1.500000</td>\n",
              "      <td>0.048701</td>\n",
              "      <td>2</td>\n",
              "      <td>1</td>\n",
              "      <td>1</td>\n",
              "      <td>4</td>\n",
              "      <td>24</td>\n",
              "      <td>1</td>\n",
              "      <td>0.042371</td>\n",
              "      <td>0.030303</td>\n",
              "      <td>0.033539</td>\n",
              "      <td>0.046958</td>\n",
              "      <td>0.054264</td>\n",
              "      <td>0.0</td>\n",
              "      <td>0.017544</td>\n",
              "      <td>0.030303</td>\n",
              "      <td>0.030303</td>\n",
              "      <td>0.000000</td>\n",
              "      <td>0.063468</td>\n",
              "      <td>0.045511</td>\n",
              "      <td>0.040841</td>\n",
              "      <td>0.04936</td>\n",
              "      <td>0.049586</td>\n",
              "      <td>0.049128</td>\n",
              "      <td>0.049693</td>\n",
              "      <td>0.049843</td>\n",
              "      <td>0.049319</td>\n",
              "      <td>0.049461</td>\n",
              "      <td>0.049586</td>\n",
              "      <td>0.049586</td>\n",
              "      <td>0.049278</td>\n",
              "      <td>0.050043</td>\n",
              "      <td>0.049866</td>\n",
              "      <td>0.049710</td>\n",
              "    </tr>\n",
              "    <tr>\n",
              "      <th>2</th>\n",
              "      <td>920342</td>\n",
              "      <td>0.0</td>\n",
              "      <td>1.0</td>\n",
              "      <td>14340390157469405184</td>\n",
              "      <td>4803006</td>\n",
              "      <td>23777</td>\n",
              "      <td>3</td>\n",
              "      <td>1</td>\n",
              "      <td>2293</td>\n",
              "      <td>1929</td>\n",
              "      <td>2153</td>\n",
              "      <td>2403</td>\n",
              "      <td>126331</td>\n",
              "      <td>0</td>\n",
              "      <td>0.0</td>\n",
              "      <td>2.666667</td>\n",
              "      <td>0.049342</td>\n",
              "      <td>1</td>\n",
              "      <td>3</td>\n",
              "      <td>1</td>\n",
              "      <td>4</td>\n",
              "      <td>24</td>\n",
              "      <td>1</td>\n",
              "      <td>0.042371</td>\n",
              "      <td>0.030303</td>\n",
              "      <td>0.033539</td>\n",
              "      <td>0.036741</td>\n",
              "      <td>0.054264</td>\n",
              "      <td>0.0</td>\n",
              "      <td>0.017544</td>\n",
              "      <td>0.030303</td>\n",
              "      <td>0.030303</td>\n",
              "      <td>0.050725</td>\n",
              "      <td>0.062472</td>\n",
              "      <td>0.043860</td>\n",
              "      <td>0.046169</td>\n",
              "      <td>0.04936</td>\n",
              "      <td>0.049586</td>\n",
              "      <td>0.049128</td>\n",
              "      <td>0.049558</td>\n",
              "      <td>0.049843</td>\n",
              "      <td>0.049319</td>\n",
              "      <td>0.049461</td>\n",
              "      <td>0.049586</td>\n",
              "      <td>0.049586</td>\n",
              "      <td>0.050083</td>\n",
              "      <td>0.049986</td>\n",
              "      <td>0.049426</td>\n",
              "      <td>0.050099</td>\n",
              "    </tr>\n",
              "    <tr>\n",
              "      <th>3</th>\n",
              "      <td>78016</td>\n",
              "      <td>0.0</td>\n",
              "      <td>1.0</td>\n",
              "      <td>14340390157469405184</td>\n",
              "      <td>4803006</td>\n",
              "      <td>23777</td>\n",
              "      <td>2</td>\n",
              "      <td>1</td>\n",
              "      <td>2293</td>\n",
              "      <td>1929</td>\n",
              "      <td>2153</td>\n",
              "      <td>2403</td>\n",
              "      <td>678638</td>\n",
              "      <td>0</td>\n",
              "      <td>0.0</td>\n",
              "      <td>1.500000</td>\n",
              "      <td>0.049342</td>\n",
              "      <td>1</td>\n",
              "      <td>1</td>\n",
              "      <td>1</td>\n",
              "      <td>4</td>\n",
              "      <td>24</td>\n",
              "      <td>1</td>\n",
              "      <td>0.042371</td>\n",
              "      <td>0.030303</td>\n",
              "      <td>0.033539</td>\n",
              "      <td>0.046958</td>\n",
              "      <td>0.054264</td>\n",
              "      <td>0.0</td>\n",
              "      <td>0.017544</td>\n",
              "      <td>0.030303</td>\n",
              "      <td>0.030303</td>\n",
              "      <td>0.000000</td>\n",
              "      <td>0.063468</td>\n",
              "      <td>0.043860</td>\n",
              "      <td>0.040841</td>\n",
              "      <td>0.04936</td>\n",
              "      <td>0.049586</td>\n",
              "      <td>0.049128</td>\n",
              "      <td>0.049693</td>\n",
              "      <td>0.049843</td>\n",
              "      <td>0.049319</td>\n",
              "      <td>0.049461</td>\n",
              "      <td>0.049586</td>\n",
              "      <td>0.049586</td>\n",
              "      <td>0.049342</td>\n",
              "      <td>0.050043</td>\n",
              "      <td>0.049426</td>\n",
              "      <td>0.049710</td>\n",
              "    </tr>\n",
              "    <tr>\n",
              "      <th>4</th>\n",
              "      <td>831444</td>\n",
              "      <td>0.0</td>\n",
              "      <td>1.0</td>\n",
              "      <td>14340390157469405184</td>\n",
              "      <td>4803006</td>\n",
              "      <td>23777</td>\n",
              "      <td>2</td>\n",
              "      <td>1</td>\n",
              "      <td>2293</td>\n",
              "      <td>1929</td>\n",
              "      <td>2153</td>\n",
              "      <td>2403</td>\n",
              "      <td>2886</td>\n",
              "      <td>0</td>\n",
              "      <td>0.0</td>\n",
              "      <td>1.500000</td>\n",
              "      <td>0.049342</td>\n",
              "      <td>2</td>\n",
              "      <td>4</td>\n",
              "      <td>1</td>\n",
              "      <td>4</td>\n",
              "      <td>24</td>\n",
              "      <td>1</td>\n",
              "      <td>0.042371</td>\n",
              "      <td>0.030303</td>\n",
              "      <td>0.033539</td>\n",
              "      <td>0.046958</td>\n",
              "      <td>0.054264</td>\n",
              "      <td>0.0</td>\n",
              "      <td>0.017544</td>\n",
              "      <td>0.030303</td>\n",
              "      <td>0.030303</td>\n",
              "      <td>0.000000</td>\n",
              "      <td>0.063468</td>\n",
              "      <td>0.045511</td>\n",
              "      <td>0.042910</td>\n",
              "      <td>0.04936</td>\n",
              "      <td>0.049586</td>\n",
              "      <td>0.049128</td>\n",
              "      <td>0.049693</td>\n",
              "      <td>0.049843</td>\n",
              "      <td>0.049319</td>\n",
              "      <td>0.049461</td>\n",
              "      <td>0.049586</td>\n",
              "      <td>0.049586</td>\n",
              "      <td>0.049041</td>\n",
              "      <td>0.050043</td>\n",
              "      <td>0.049866</td>\n",
              "      <td>0.049629</td>\n",
              "    </tr>\n",
              "  </tbody>\n",
              "</table>\n",
              "</div>"
            ],
            "text/plain": [
              "    index  clicks  impressions  ...  pRPosition   pGender      pAge\n",
              "0   35803     0.0          1.0  ...    0.049664  0.049866  0.049710\n",
              "1   35805     0.0          2.0  ...    0.050043  0.049866  0.049710\n",
              "2  920342     0.0          1.0  ...    0.049986  0.049426  0.050099\n",
              "3   78016     0.0          1.0  ...    0.050043  0.049426  0.049710\n",
              "4  831444     0.0          1.0  ...    0.050043  0.049866  0.049629\n",
              "\n",
              "[5 rows x 49 columns]"
            ]
          },
          "metadata": {
            "tags": []
          },
          "execution_count": 4
        }
      ]
    },
    {
      "cell_type": "code",
      "metadata": {
        "id": "Ocu-IcG7sX0X",
        "colab_type": "code",
        "colab": {}
      },
      "source": [
        "y_train = x_train['class_label'].values\n",
        "y_test = x_test['class_label'].values"
      ],
      "execution_count": 0,
      "outputs": []
    },
    {
      "cell_type": "markdown",
      "metadata": {
        "id": "EcQgiBeVsX0b",
        "colab_type": "text"
      },
      "source": [
        "### CORRELATION CHECK"
      ]
    },
    {
      "cell_type": "code",
      "metadata": {
        "id": "RpD36m8_sX0d",
        "colab_type": "code",
        "outputId": "941a9558-ce00-494f-db30-f2699b1c8f05",
        "colab": {}
      },
      "source": [
        "# Heatmap of correlation plot\n",
        "plt.figure(figsize=(9,7))\n",
        "sns.heatmap(x_train.corr(), cmap='RdYlGn')\n",
        "plt.show()"
      ],
      "execution_count": 0,
      "outputs": [
        {
          "output_type": "display_data",
          "data": {
            "image/png": "[encoded data removed]",
            "text/plain": [
              "<Figure size 648x504 with 2 Axes>"
            ]
          },
          "metadata": {
            "tags": []
          }
        }
      ]
    },
    {
      "cell_type": "code",
      "metadata": {
        "id": "OXn89M8-sX0h",
        "colab_type": "code",
        "outputId": "b6e54e32-d3ea-44c7-fd49-b9dbff54c30a",
        "colab": {
          "base_uri": "https://localhost:8080/",
          "height": 51
        }
      },
      "source": [
        "# Dropping off the class labels and index columns\n",
        "\n",
        "x_train = x_train.drop('class_label', axis=1)\n",
        "x_train = x_train.drop('index', axis=1)\n",
        "\n",
        "x_test = x_test.drop('class_label', axis=1)\n",
        "x_test = x_test.drop('index', axis=1)\n",
        "\n",
        "print(x_train.shape)\n",
        "print(x_test.shape)"
      ],
      "execution_count": 0,
      "outputs": [
        {
          "output_type": "stream",
          "text": [
            "(981617, 47)\n",
            "(245352, 47)\n"
          ],
          "name": "stdout"
        }
      ]
    },
    {
      "cell_type": "markdown",
      "metadata": {
        "id": "2xpBYTCYsX0l",
        "colab_type": "text"
      },
      "source": [
        "### Binary Sparse features"
      ]
    },
    {
      "cell_type": "code",
      "metadata": {
        "id": "BXsYodocsX0m",
        "colab_type": "code",
        "outputId": "9f667680-4ab0-45f6-dbb5-a2fa847f65ad",
        "colab": {}
      },
      "source": [
        "# We also expand query’s tokens, title’s tokens, description’s tokens and keyword’s tokens into binary features.\n",
        "# That is, if a token occurs in title, query, description or keyword, the corresponding value in the feature vector will be\n",
        "# 1, or 0 otherwise\n",
        "\n",
        "start = datetime.now()\n",
        "\n",
        "\n",
        "# one-hot encoding of Keyword feature.\n",
        "train = [str (item) for item in x_train['KeyId']]\n",
        "test = [str (item) for item in x_test['KeyId']]\n",
        "keyword_vectorizer = CountVectorizer(binary=True)\n",
        "bow_train_keyword = keyword_vectorizer.fit_transform(train)\n",
        "bow_test_keyword = keyword_vectorizer.transform(test)\n",
        "\n",
        "#train = [str (item) for item in x_train['Gender']]\n",
        "#test = [str (item) for item in x_test['Gender']]\n",
        "#user_gender_vectorizer = CountVectorizer(binary=True)\n",
        "#bow_train_gender = user_gender_vectorizer.fit_transform(train)\n",
        "#bow_test_gender = user_gender_vectorizer.transform(test)\n",
        "\n",
        "#train = [str (item) for item in x_train['Age']]\n",
        "#test = [str (item) for item in x_test['Age']]\n",
        "#user_age_vectorizer = CountVectorizer(binary=True)\n",
        "#bow_train_age = user_age_vectorizer.fit_transform(train)\n",
        "#bow_test_age = user_age_vectorizer.transform(test)\n",
        "\n",
        "train = [str (item) for item in x_train['QId']]\n",
        "test = [str (item) for item in x_test['QId']]\n",
        "query_vectorizer = CountVectorizer(binary=True)\n",
        "bow_train_query = query_vectorizer.fit_transform(train)\n",
        "bow_test_query = query_vectorizer.transform(test)\n",
        "\n",
        "train = [str (item) for item in x_train['DescId']]\n",
        "test = [str (item) for item in x_test['DescId']]\n",
        "desc_vectorizer = CountVectorizer(binary=True)\n",
        "bow_train_desc = desc_vectorizer.fit_transform(train)\n",
        "bow_test_desc = desc_vectorizer.transform(test)\n",
        "\n",
        "train = [str (item) for item in x_train['TitleId']]\n",
        "test = [str (item) for item in x_test['TitleId']]\n",
        "title_vectorizer = CountVectorizer(binary=True)\n",
        "bow_train_title = title_vectorizer.fit_transform(train)\n",
        "bow_test_title = title_vectorizer.transform(test)\n",
        "\n",
        "train = [str (item) for item in x_train['AdId']]\n",
        "test = [str (item) for item in x_test['AdId']]\n",
        "add_vectorizer = CountVectorizer(binary=True)\n",
        "bow_train_add = add_vectorizer.fit_transform(train)\n",
        "bow_test_add = add_vectorizer.transform(test)\n",
        "\n",
        "train = [str (item) for item in x_train['AdvId']]\n",
        "test = [str (item) for item in x_test['AdvId']]\n",
        "adv_vectorizer = CountVectorizer(binary=True)\n",
        "bow_train_adv = adv_vectorizer.fit_transform(train)\n",
        "bow_test_adv = adv_vectorizer.transform(test)\n",
        "\n",
        "train = [str (item) for item in x_train['AdURL']]\n",
        "test = [str (item) for item in x_test['AdURL']]\n",
        "adurl_vectorizer = CountVectorizer(binary=True)\n",
        "bow_train_adurl = adurl_vectorizer.fit_transform(train)\n",
        "bow_test_adurl = adurl_vectorizer.transform(test)\n",
        "\n",
        "end = datetime.now()\n",
        "print(\"Time taken to run this cell: \",end-start)"
      ],
      "execution_count": 0,
      "outputs": [
        {
          "output_type": "stream",
          "text": [
            "Time taken to run this cell:  0:02:22.711414\n"
          ],
          "name": "stdout"
        }
      ]
    },
    {
      "cell_type": "code",
      "metadata": {
        "id": "nHAFCpZKsX0r",
        "colab_type": "code",
        "colab": {}
      },
      "source": [
        "x_train_sparse = csr_matrix(x_train.values)\n",
        "train_data = hstack((x_train_sparse,bow_train_keyword,bow_train_query,bow_train_desc,bow_train_title,bow_train_add,bow_train_adv,bow_train_adurl))\n",
        "\n",
        "x_test_sparse = csr_matrix(x_test.values)\n",
        "test_data = hstack((x_test_sparse,bow_test_keyword,bow_test_query,bow_test_desc,bow_test_title,bow_test_add,bow_test_adv,bow_test_adurl))"
      ],
      "execution_count": 0,
      "outputs": []
    },
    {
      "cell_type": "code",
      "metadata": {
        "id": "Sma8_EOBsX0w",
        "colab_type": "code",
        "outputId": "4eac16eb-1771-49d6-933d-748cbb7782be",
        "colab": {}
      },
      "source": [
        "test_data"
      ],
      "execution_count": 0,
      "outputs": [
        {
          "output_type": "execute_result",
          "data": {
            "text/plain": [
              "<368123x768756 sparse matrix of type '<class 'numpy.float64'>'\n",
              "\twith 26215324 stored elements in COOrdinate format>"
            ]
          },
          "metadata": {
            "tags": []
          },
          "execution_count": 31
        }
      ]
    },
    {
      "cell_type": "code",
      "metadata": {
        "id": "1hKrkFpLsX00",
        "colab_type": "code",
        "colab": {}
      },
      "source": [
        "train_normalized = normalize(train_data, axis=1)\n",
        "test_normalized = normalize(test_data , axis=1)"
      ],
      "execution_count": 0,
      "outputs": []
    },
    {
      "cell_type": "code",
      "metadata": {
        "id": "2FiXsixZsX04",
        "colab_type": "code",
        "colab": {}
      },
      "source": [
        "# To plot confusion matrix.\n",
        "def plot_confusion_matrix(y_test, pred):\n",
        "    C = confusion_matrix(y_test, pred)\n",
        "    \n",
        "    labels = [1,2]\n",
        "    print(\"-\"*20, \"Confusion matrix\", \"-\"*20)\n",
        "    plt.figure(figsize=(10,4))\n",
        "    sns.heatmap(C, annot=True, cmap=\"YlGnBu\", fmt=\".3f\", xticklabels=labels, yticklabels=labels)\n",
        "    plt.xlabel('Predicted Class')\n",
        "    plt.ylabel('Original Class')\n",
        "    plt.show()"
      ],
      "execution_count": 0,
      "outputs": []
    },
    {
      "cell_type": "markdown",
      "metadata": {
        "id": "tM3l7itssX08",
        "colab_type": "text"
      },
      "source": [
        "### LOGISTIC REGRESSION MODEL"
      ]
    },
    {
      "cell_type": "code",
      "metadata": {
        "id": "7vVPfD3KsX09",
        "colab_type": "code",
        "colab": {}
      },
      "source": [
        "# To print scores\n",
        "def print_metrics_measure(pred,y_test):\n",
        "    \n",
        "     # Plotting Confusion_Matrix\n",
        "    plot_confusion_matrix(y_test, pred)\n",
        "    \n",
        "    #Score\n",
        "    score = metrics.roc_auc_score(y_test, pred)*100\n",
        "    print('\\nThe score of the LR [Test data] : ',(score))\n",
        "    \n",
        "    print(\"----\"*20)"
      ],
      "execution_count": 0,
      "outputs": []
    },
    {
      "cell_type": "code",
      "metadata": {
        "id": "ws2jh8cSsX1A",
        "colab_type": "code",
        "colab": {}
      },
      "source": [
        "def gridsearch(train_std_data,test_std_data,y_1,y_test):\n",
        "    \n",
        "    start = datetime.now()\n",
        "    cv_scores = []\n",
        "    tuned_parameters = [{'C': [0.001,0.01,0.1,1,10,100,1000], \"penalty\":[\"l1\",\"l2\"]}]\n",
        "    k = StratifiedKFold(n_splits=3)\n",
        "    grid_lr = GridSearchCV(LogisticRegression(), tuned_parameters, scoring = 'roc_auc', cv=k)\n",
        "    grid_lr.fit(train_std_data,y_1)\n",
        "    print(\"Best Estimator: \")\n",
        "    model = grid_lr.best_estimator_\n",
        "    print(model)\n",
        "    print(\"******\"*20)\n",
        "    \n",
        "    C = [0.001,0.01,0.1,1,10,100,1000]\n",
        "    \n",
        "    if grid_lr.best_params_['penalty'] == 'l1':\n",
        "        cv_scores = (grid_lr.cv_results_['mean_train_score'][::2])\n",
        "    else:\n",
        "        cv_scores = (grid_lr.cv_results_['mean_train_score'][1::2])\n",
        "\n",
        "    plt.plot(C, cv_scores)\n",
        "    \n",
        "    for xy in zip(C, np.round(cv_scores,3)):\n",
        "        plt.annotate('(%s, %s)' % xy, xy=xy, textcoords='data')\n",
        "    \n",
        "    plt.xlabel('Hyperparameters')\n",
        "    plt.ylabel('cv_scores')\n",
        "    plt.title(\"CV_SCORES of Trian\")\n",
        "    plt.grid()\n",
        "    plt.show()\n",
        "    \n",
        "    #print(\"Best Hyperparameter is: \",grid_lr.best_params_['C'])\n",
        "    \n",
        "    \n",
        "    if grid_lr.best_params_['penalty'] == 'l1':\n",
        "        cv_scores = (grid_lr.cv_results_['mean_test_score'][::2])\n",
        "    else:\n",
        "        cv_scores = (grid_lr.cv_results_['mean_test_score'][1::2])\n",
        "\n",
        "    plt.plot(C, cv_scores)\n",
        "    \n",
        "    for xy in zip(C, np.round(cv_scores,3)):\n",
        "        plt.annotate('(%s, %s)' % xy, xy=xy, textcoords='data')\n",
        "        \n",
        "    plt.xlabel('Hyperparameters')\n",
        "    plt.ylabel('cv_scores')\n",
        "    plt.title(\"CV_SCORES of Test\")\n",
        "    plt.grid()\n",
        "    plt.show()\n",
        "    \n",
        "    #print(\"Best Hyperparameter is: \",grid_lr.best_params_['C'])\n",
        "    \n",
        "    print(\"******\"*20)\n",
        "    \n",
        "    pred = grid_lr.predict(test_std_data)\n",
        "    \n",
        "    print_metrics_measure(pred,y_test)\n",
        "    \n",
        "    end = datetime.now()\n",
        "    print(\"Time taken to run this cell: \",end-start)\n",
        "    return model"
      ],
      "execution_count": 0,
      "outputs": []
    },
    {
      "cell_type": "code",
      "metadata": {
        "id": "cJpnIuZysX1E",
        "colab_type": "code",
        "outputId": "01abc3b2-214b-4aae-875b-2cb3b1e39855",
        "colab": {}
      },
      "source": [
        "lr_grid_bow = gridsearch(train_normalized,test_normalized,y_train,y_test)"
      ],
      "execution_count": 0,
      "outputs": [
        {
          "output_type": "stream",
          "text": [
            "Best Estimator: \n",
            "LogisticRegression(C=100, class_weight=None, dual=False, fit_intercept=True,\n",
            "          intercept_scaling=1, max_iter=100, multi_class='warn',\n",
            "          n_jobs=None, penalty='l2', random_state=None, solver='warn',\n",
            "          tol=0.0001, verbose=0, warm_start=False)\n",
            "************************************************************************************************************************\n"
          ],
          "name": "stdout"
        },
        {
          "output_type": "display_data",
          "data": {
            "image/png": "[encoded data removed]",
            "text/plain": [
              "<Figure size 432x288 with 1 Axes>"
            ]
          },
          "metadata": {
            "tags": []
          }
        },
        {
          "output_type": "display_data",
          "data": {
            "image/png": "[encoded data removed]",
            "text/plain": [
              "<Figure size 432x288 with 1 Axes>"
            ]
          },
          "metadata": {
            "tags": []
          }
        },
        {
          "output_type": "stream",
          "text": [
            "************************************************************************************************************************\n",
            "-------------------- Confusion matrix --------------------\n"
          ],
          "name": "stdout"
        },
        {
          "output_type": "display_data",
          "data": {
            "image/png": "[encoded data removed]",
            "text/plain": [
              "<Figure size 720x288 with 2 Axes>"
            ]
          },
          "metadata": {
            "tags": []
          }
        },
        {
          "output_type": "stream",
          "text": [
            "\n",
            "The score of the LR [Test data] :  50.0\n",
            "--------------------------------------------------------------------------------\n",
            "Time taken to run this cell:  0:18:00.569395\n"
          ],
          "name": "stdout"
        }
      ]
    },
    {
      "cell_type": "markdown",
      "metadata": {
        "id": "A9zuBGyVsX1H",
        "colab_type": "text"
      },
      "source": [
        "### Observations:"
      ]
    },
    {
      "cell_type": "markdown",
      "metadata": {
        "id": "CwMcRLIcsX1J",
        "colab_type": "text"
      },
      "source": [
        "1. We used grid search inorder to tune the hyperparameters(C, penalty).\n",
        "\n",
        "\n",
        "2. The scorimg metric we used here is auc which is equivalent to the probability that a random pair of a positive sample (clicked ad)\n",
        "   and a negative one (unclicked ad) is ranked correctly.\n",
        "   \n",
        "    \n",
        "3. We tried to plot the train and test cv scores inorder to understand which value of C is good.\n",
        "\n",
        "\n",
        "4. With better hyperparameter tuning, the Logistic Regression model scored 50%. From the confusion matrix we can understand that\n",
        "   for any query point it is trying to output class 0 (if imbalanced). If we tries to balance the dataset using class_weight=balanced, it is trying to output class 1"
      ]
    },
    {
      "cell_type": "markdown",
      "metadata": {
        "id": "_4X5K6BNsX1K",
        "colab_type": "text"
      },
      "source": [
        "##### The easiest way to successfully generalize a model is by using more data. \n",
        "\n",
        "##### The problem is that out-of-the-box classifiers like logistic regression or random forest tend to generalize by discarding the rare class"
      ]
    },
    {
      "cell_type": "markdown",
      "metadata": {
        "id": "TnjOByV8sX1L",
        "colab_type": "text"
      },
      "source": [
        "### SVM"
      ]
    },
    {
      "cell_type": "code",
      "metadata": {
        "id": "HrWLucczsX1M",
        "colab_type": "code",
        "colab": {}
      },
      "source": [
        "# To print scores\n",
        "def print_metrics_measure(y_train,y_test,pred_train,pred_test):\n",
        "    \n",
        "     # Plotting Confusion_Matrix\n",
        "    plot_confusion_matrix(y_test, pred_test)\n",
        "    \n",
        "    #Roc_Auc\n",
        "    auc_train = metrics.roc_auc_score(y_train, pred_train)*100\n",
        "    auc_test = metrics.roc_auc_score(y_test, pred_test)*100\n",
        "    print('\\nTrain auc_score : ',(auc_train))\n",
        "    print('\\nTest auc_score : ',(auc_test))\n"
      ],
      "execution_count": 0,
      "outputs": []
    },
    {
      "cell_type": "code",
      "metadata": {
        "id": "C2azPDb5BmUL",
        "colab_type": "code",
        "colab": {}
      },
      "source": [
        "train_normalized = normalize(x_train, axis=1)\n",
        "test_normalized = normalize(x_test , axis=1)"
      ],
      "execution_count": 0,
      "outputs": []
    },
    {
      "cell_type": "code",
      "metadata": {
        "id": "yEqAB3scsX1Q",
        "colab_type": "code",
        "outputId": "e77d9451-3f3f-4c78-f28f-c96f029fa47d",
        "colab": {
          "base_uri": "https://localhost:8080/",
          "height": 470
        }
      },
      "source": [
        "tuned_parameters = {'C': [0.1], 'gamma': [0.1]}\n",
        "#k = StratifiedKFold(n_splits=5)\n",
        "random_lr = RandomizedSearchCV(SVC(kernel='rbf'), tuned_parameters, scoring = 'roc_auc', cv=2)\n",
        "random_lr.fit(train_normalized,y_train)\n",
        "print(\"Best Estimator: \")\n",
        "model = random_lr.best_estimator_\n",
        "print(model)\n",
        "print(\"******\"*20)\n",
        "pred_train = random_lr.predict(train_normalized)\n",
        "pred_test = random_lr.predict(test_normalized)\n",
        "\n",
        "print_metrics_measure(y_train,y_test,pred_train,pred_test)\n"
      ],
      "execution_count": 0,
      "outputs": [
        {
          "output_type": "stream",
          "text": [
            "Best Estimator: \n",
            "SVC(C=0.1, cache_size=200, class_weight=None, coef0=0.0,\n",
            "    decision_function_shape='ovr', degree=3, gamma=0.1, kernel='rbf',\n",
            "    max_iter=-1, probability=False, random_state=None, shrinking=True,\n",
            "    tol=0.001, verbose=False)\n",
            "************************************************************************************************************************\n",
            "-------------------- Confusion matrix --------------------\n"
          ],
          "name": "stdout"
        },
        {
          "output_type": "display_data",
          "data": {
            "image/png": "[encoded data removed]",
            "text/plain": [
              "<Figure size 720x288 with 2 Axes>"
            ]
          },
          "metadata": {
            "tags": []
          }
        },
        {
          "output_type": "stream",
          "text": [
            "\n",
            "Train auc_score :  50.0\n",
            "\n",
            "Test auc_score :  50.0\n"
          ],
          "name": "stdout"
        }
      ]
    },
    {
      "cell_type": "code",
      "metadata": {
        "id": "X7Fo0Jr0QpoW",
        "colab_type": "code",
        "outputId": "151e4c53-990e-4cd6-b11e-ebf6a837f171",
        "colab": {
          "base_uri": "https://localhost:8080/",
          "height": 470
        }
      },
      "source": [
        "tuned_parameters = {'C': [0.001,0.1,1], 'gamma': [0.001,0.1,1]}\n",
        "#k = StratifiedKFold(n_splits=5)\n",
        "random_lr = RandomizedSearchCV(SVC(kernel='rbf'), tuned_parameters, scoring = 'roc_auc', cv=2)\n",
        "random_lr.fit(train_normalized,y_train)\n",
        "print(\"Best Estimator: \")\n",
        "model = random_lr.best_estimator_\n",
        "print(model)\n",
        "print(\"******\"*20)\n",
        "pred_train = random_lr.predict(train_normalized)\n",
        "pred_test = random_lr.predict(test_normalized)\n",
        "\n",
        "print_metrics_measure(y_train,y_test,pred_train,pred_test)\n"
      ],
      "execution_count": 0,
      "outputs": [
        {
          "output_type": "stream",
          "text": [
            "Best Estimator: \n",
            "SVC(C=0.1, cache_size=200, class_weight=None, coef0=0.0,\n",
            "    decision_function_shape='ovr', degree=3, gamma=1, kernel='rbf', max_iter=-1,\n",
            "    probability=False, random_state=None, shrinking=True, tol=0.001,\n",
            "    verbose=False)\n",
            "************************************************************************************************************************\n",
            "-------------------- Confusion matrix --------------------\n"
          ],
          "name": "stdout"
        },
        {
          "output_type": "display_data",
          "data": {
            "image/png": "[encoded data removed]",
            "text/plain": [
              "<Figure size 720x288 with 2 Axes>"
            ]
          },
          "metadata": {
            "tags": []
          }
        },
        {
          "output_type": "stream",
          "text": [
            "\n",
            "Train auc_score :  50.0\n",
            "\n",
            "Test auc_score :  50.0\n"
          ],
          "name": "stdout"
        }
      ]
    },
    {
      "cell_type": "code",
      "metadata": {
        "id": "M05_GwGTUDIe",
        "colab_type": "code",
        "outputId": "4660d6b2-f903-410d-9c70-b79f5ffe681a",
        "colab": {
          "base_uri": "https://localhost:8080/",
          "height": 471
        }
      },
      "source": [
        "from sklearn.svm import LinearSVC\n",
        "tuned_parameters = {'C': [0.001,0.1,1,10,100]}\n",
        "#k = StratifiedKFold(n_splits=5)\n",
        "random_lr = RandomizedSearchCV(LinearSVC(), tuned_parameters, scoring = 'roc_auc', cv=2)\n",
        "random_lr.fit(train_normalized,y_train)\n",
        "print(\"Best Estimator: \")\n",
        "model = random_lr.best_estimator_\n",
        "print(model)\n",
        "print(\"******\"*20)\n",
        "pred_train = random_lr.predict(train_normalized)\n",
        "pred_test = random_lr.predict(test_normalized)\n",
        "\n",
        "print_metrics_measure(y_train,y_test,pred_train,pred_test)\n"
      ],
      "execution_count": 0,
      "outputs": [
        {
          "output_type": "stream",
          "text": [
            "Best Estimator: \n",
            "LinearSVC(C=0.001, class_weight=None, dual=True, fit_intercept=True,\n",
            "          intercept_scaling=1, loss='squared_hinge', max_iter=1000,\n",
            "          multi_class='ovr', penalty='l2', random_state=None, tol=0.0001,\n",
            "          verbose=0)\n",
            "************************************************************************************************************************\n",
            "-------------------- Confusion matrix --------------------\n"
          ],
          "name": "stdout"
        },
        {
          "output_type": "display_data",
          "data": {
            "image/png": "[encoded data removed]",
            "text/plain": [
              "<Figure size 720x288 with 2 Axes>"
            ]
          },
          "metadata": {
            "tags": []
          }
        },
        {
          "output_type": "stream",
          "text": [
            "\n",
            "Train auc_score :  50.0\n",
            "\n",
            "Test auc_score :  50.0\n"
          ],
          "name": "stdout"
        }
      ]
    },
    {
      "cell_type": "code",
      "metadata": {
        "id": "YMvOUrG9sX1V",
        "colab_type": "code",
        "colab": {}
      },
      "source": [
        ""
      ],
      "execution_count": 0,
      "outputs": []
    },
    {
      "cell_type": "markdown",
      "metadata": {
        "id": "NBd7hPNAAH-P",
        "colab_type": "text"
      },
      "source": [
        "#Decision Tree"
      ]
    },
    {
      "cell_type": "code",
      "metadata": {
        "id": "3JSXc6qWsX1Y",
        "colab_type": "code",
        "outputId": "f69ffc8e-e9b2-41cc-bf33-05bbd6c947a0",
        "colab": {
          "base_uri": "https://localhost:8080/",
          "height": 504
        }
      },
      "source": [
        "cv_scores = []\n",
        "tuned_parameters = {'max_depth': [25,40,75,100]}\n",
        "#k = StratifiedKFold(n_splits=5)\n",
        "random_dt = RandomizedSearchCV(DecisionTreeClassifier(), tuned_parameters, scoring = 'roc_auc', cv=2)\n",
        "random_dt.fit(x_train,y_train)\n",
        "print(\"Best Estimator: \")\n",
        "model_dt = random_dt.best_estimator_\n",
        "print(model_dt)\n",
        "print(\"******\"*20)\n",
        "pred_train = random_dt.predict(x_train)\n",
        "pred_test = random_dt.predict(x_test)\n",
        "\n",
        "print_metrics_measure(y_train,y_test,pred_train,pred_test)"
      ],
      "execution_count": 0,
      "outputs": [
        {
          "output_type": "stream",
          "text": [
            "Best Estimator: \n",
            "DecisionTreeClassifier(class_weight=None, criterion='gini', max_depth=25,\n",
            "                       max_features=None, max_leaf_nodes=None,\n",
            "                       min_impurity_decrease=0.0, min_impurity_split=None,\n",
            "                       min_samples_leaf=1, min_samples_split=2,\n",
            "                       min_weight_fraction_leaf=0.0, presort=False,\n",
            "                       random_state=None, splitter='best')\n",
            "************************************************************************************************************************\n",
            "-------------------- Confusion matrix --------------------\n"
          ],
          "name": "stdout"
        },
        {
          "output_type": "display_data",
          "data": {
            "image/png": "[encoded data removed]",
            "text/plain": [
              "<Figure size 720x288 with 2 Axes>"
            ]
          },
          "metadata": {
            "tags": []
          }
        },
        {
          "output_type": "stream",
          "text": [
            "\n",
            "Train auc_score :  76.46013681946638\n",
            "\n",
            "Test auc_score :  70.75612225933591\n"
          ],
          "name": "stdout"
        }
      ]
    },
    {
      "cell_type": "markdown",
      "metadata": {
        "id": "h4yvLktF8Fib",
        "colab_type": "text"
      },
      "source": [
        "#RandomForest"
      ]
    },
    {
      "cell_type": "code",
      "metadata": {
        "id": "HHai-wtmsX1e",
        "colab_type": "code",
        "outputId": "4dded680-b668-462f-f5e0-12a4f4cc423b",
        "colab": {
          "base_uri": "https://localhost:8080/",
          "height": 521
        }
      },
      "source": [
        "cv_scores = []\n",
        "tuned_parameters = {'n_estimators': [100,200,400,500], 'max_depth': [25,35,50,80]}\n",
        "#k = StratifiedKFold(n_splits=5)\n",
        "random_lr = RandomizedSearchCV(RandomForestClassifier(), tuned_parameters, scoring = 'roc_auc', cv=2)\n",
        "random_lr.fit(x_train,y_train)\n",
        "print(\"Best Estimator: \")\n",
        "model_rdlr = random_lr.best_estimator_\n",
        "print(model_rdlr)\n",
        "print(\"******\"*20)\n",
        "pred_train = random_lr.predict(x_train)\n",
        "pred_test = random_lr.predict(x_test)\n",
        "\n",
        "print_metrics_measure(y_train,y_test,pred_train,pred_test)"
      ],
      "execution_count": 0,
      "outputs": [
        {
          "output_type": "stream",
          "text": [
            "Best Estimator: \n",
            "RandomForestClassifier(bootstrap=True, class_weight=None, criterion='gini',\n",
            "                       max_depth=35, max_features='auto', max_leaf_nodes=None,\n",
            "                       min_impurity_decrease=0.0, min_impurity_split=None,\n",
            "                       min_samples_leaf=1, min_samples_split=2,\n",
            "                       min_weight_fraction_leaf=0.0, n_estimators=200,\n",
            "                       n_jobs=None, oob_score=False, random_state=None,\n",
            "                       verbose=0, warm_start=False)\n",
            "************************************************************************************************************************\n",
            "-------------------- Confusion matrix --------------------\n"
          ],
          "name": "stdout"
        },
        {
          "output_type": "display_data",
          "data": {
            "image/png": "[encoded data removed]",
            "text/plain": [
              "<Figure size 720x288 with 2 Axes>"
            ]
          },
          "metadata": {
            "tags": []
          }
        },
        {
          "output_type": "stream",
          "text": [
            "\n",
            "Train auc_score :  78.54172238885232\n",
            "\n",
            "Test auc_score :  71.22752020850304\n"
          ],
          "name": "stdout"
        }
      ]
    },
    {
      "cell_type": "markdown",
      "metadata": {
        "id": "G8TTMNigsX2M",
        "colab_type": "text"
      },
      "source": [
        "### XGBOOST MODEL"
      ]
    },
    {
      "cell_type": "markdown",
      "metadata": {
        "id": "XOTuUNsWsX2M",
        "colab_type": "text"
      },
      "source": [
        "#### To model, I used only average (click-through rate and pseudo click-through rate) features (47 features). Only using these features gave me better results(74% test auc) than using all the features we engineered above(67% Test auc - tried in different notebook). \n"
      ]
    },
    {
      "cell_type": "code",
      "metadata": {
        "id": "u_B-hdL8sX2N",
        "colab_type": "code",
        "outputId": "6e3f3f54-c7bb-4901-8cd2-27856a7f27a3",
        "colab": {}
      },
      "source": [
        "x_train.columns"
      ],
      "execution_count": 0,
      "outputs": [
        {
          "output_type": "execute_result",
          "data": {
            "text/plain": [
              "Index(['clicks', 'impressions', 'AdURL', 'AdId', 'AdvId', 'Depth', 'Pos',\n",
              "       'QId', 'KeyId', 'TitleId', 'DescId', 'UId', 'CTR', 'RPosition', 'pCTR',\n",
              "       'Gender', 'Age', 'QCount', 'TCount', 'DCount', 'KCount', 'mAdURL',\n",
              "       'mAdId', 'mAdvId', 'mDepth', 'mPos', 'mQId', 'mKeyId', 'mTitleId',\n",
              "       'mDescId', 'mUId', 'mRPosition', 'mGender', 'mAge', 'pAdURL', 'pAdId',\n",
              "       'pAdvId', 'pDepth', 'pPos', 'pQId', 'pKeyId', 'pTitleId', 'pDescId',\n",
              "       'pUId', 'pRPosition', 'pGender', 'pAge'],\n",
              "      dtype='object')"
            ]
          },
          "metadata": {
            "tags": []
          },
          "execution_count": 71
        }
      ]
    },
    {
      "cell_type": "code",
      "metadata": {
        "id": "Ez6EXPHysX2T",
        "colab_type": "code",
        "outputId": "372137f0-3995-4504-fe60-8d99fb009304",
        "colab": {}
      },
      "source": [
        "x_train.head()"
      ],
      "execution_count": 0,
      "outputs": [
        {
          "output_type": "execute_result",
          "data": {
            "text/html": [
              "<div>\n",
              "<style scoped>\n",
              "    .dataframe tbody tr th:only-of-type {\n",
              "        vertical-align: middle;\n",
              "    }\n",
              "\n",
              "    .dataframe tbody tr th {\n",
              "        vertical-align: top;\n",
              "    }\n",
              "\n",
              "    .dataframe thead th {\n",
              "        text-align: right;\n",
              "    }\n",
              "</style>\n",
              "<table border=\"1\" class=\"dataframe\">\n",
              "  <thead>\n",
              "    <tr style=\"text-align: right;\">\n",
              "      <th></th>\n",
              "      <th>clicks</th>\n",
              "      <th>impressions</th>\n",
              "      <th>AdURL</th>\n",
              "      <th>AdId</th>\n",
              "      <th>AdvId</th>\n",
              "      <th>Depth</th>\n",
              "      <th>Pos</th>\n",
              "      <th>QId</th>\n",
              "      <th>KeyId</th>\n",
              "      <th>TitleId</th>\n",
              "      <th>...</th>\n",
              "      <th>pDepth</th>\n",
              "      <th>pPos</th>\n",
              "      <th>pQId</th>\n",
              "      <th>pKeyId</th>\n",
              "      <th>pTitleId</th>\n",
              "      <th>pDescId</th>\n",
              "      <th>pUId</th>\n",
              "      <th>pRPosition</th>\n",
              "      <th>pGender</th>\n",
              "      <th>pAge</th>\n",
              "    </tr>\n",
              "  </thead>\n",
              "  <tbody>\n",
              "    <tr>\n",
              "      <th>0</th>\n",
              "      <td>0.0</td>\n",
              "      <td>1.0</td>\n",
              "      <td>14340390157469405184</td>\n",
              "      <td>4803006</td>\n",
              "      <td>23777</td>\n",
              "      <td>1</td>\n",
              "      <td>1</td>\n",
              "      <td>22997071</td>\n",
              "      <td>1929</td>\n",
              "      <td>2153</td>\n",
              "      <td>...</td>\n",
              "      <td>0.049664</td>\n",
              "      <td>0.049843</td>\n",
              "      <td>0.049342</td>\n",
              "      <td>0.049461</td>\n",
              "      <td>0.049586</td>\n",
              "      <td>0.049586</td>\n",
              "      <td>0.049278</td>\n",
              "      <td>0.049664</td>\n",
              "      <td>0.049866</td>\n",
              "      <td>0.049710</td>\n",
              "    </tr>\n",
              "    <tr>\n",
              "      <th>1</th>\n",
              "      <td>0.0</td>\n",
              "      <td>2.0</td>\n",
              "      <td>14340390157469405184</td>\n",
              "      <td>4803006</td>\n",
              "      <td>23777</td>\n",
              "      <td>2</td>\n",
              "      <td>1</td>\n",
              "      <td>2293</td>\n",
              "      <td>1929</td>\n",
              "      <td>2153</td>\n",
              "      <td>...</td>\n",
              "      <td>0.049693</td>\n",
              "      <td>0.049843</td>\n",
              "      <td>0.049319</td>\n",
              "      <td>0.049461</td>\n",
              "      <td>0.049586</td>\n",
              "      <td>0.049586</td>\n",
              "      <td>0.049278</td>\n",
              "      <td>0.050043</td>\n",
              "      <td>0.049866</td>\n",
              "      <td>0.049710</td>\n",
              "    </tr>\n",
              "    <tr>\n",
              "      <th>2</th>\n",
              "      <td>0.0</td>\n",
              "      <td>1.0</td>\n",
              "      <td>14340390157469405184</td>\n",
              "      <td>4803006</td>\n",
              "      <td>23777</td>\n",
              "      <td>3</td>\n",
              "      <td>1</td>\n",
              "      <td>2293</td>\n",
              "      <td>1929</td>\n",
              "      <td>2153</td>\n",
              "      <td>...</td>\n",
              "      <td>0.049558</td>\n",
              "      <td>0.049843</td>\n",
              "      <td>0.049319</td>\n",
              "      <td>0.049461</td>\n",
              "      <td>0.049586</td>\n",
              "      <td>0.049586</td>\n",
              "      <td>0.050083</td>\n",
              "      <td>0.049986</td>\n",
              "      <td>0.049426</td>\n",
              "      <td>0.050099</td>\n",
              "    </tr>\n",
              "    <tr>\n",
              "      <th>3</th>\n",
              "      <td>0.0</td>\n",
              "      <td>1.0</td>\n",
              "      <td>14340390157469405184</td>\n",
              "      <td>4803006</td>\n",
              "      <td>23777</td>\n",
              "      <td>2</td>\n",
              "      <td>1</td>\n",
              "      <td>2293</td>\n",
              "      <td>1929</td>\n",
              "      <td>2153</td>\n",
              "      <td>...</td>\n",
              "      <td>0.049693</td>\n",
              "      <td>0.049843</td>\n",
              "      <td>0.049319</td>\n",
              "      <td>0.049461</td>\n",
              "      <td>0.049586</td>\n",
              "      <td>0.049586</td>\n",
              "      <td>0.049342</td>\n",
              "      <td>0.050043</td>\n",
              "      <td>0.049426</td>\n",
              "      <td>0.049710</td>\n",
              "    </tr>\n",
              "    <tr>\n",
              "      <th>4</th>\n",
              "      <td>0.0</td>\n",
              "      <td>1.0</td>\n",
              "      <td>14340390157469405184</td>\n",
              "      <td>4803006</td>\n",
              "      <td>23777</td>\n",
              "      <td>2</td>\n",
              "      <td>1</td>\n",
              "      <td>2293</td>\n",
              "      <td>1929</td>\n",
              "      <td>2153</td>\n",
              "      <td>...</td>\n",
              "      <td>0.049693</td>\n",
              "      <td>0.049843</td>\n",
              "      <td>0.049319</td>\n",
              "      <td>0.049461</td>\n",
              "      <td>0.049586</td>\n",
              "      <td>0.049586</td>\n",
              "      <td>0.049041</td>\n",
              "      <td>0.050043</td>\n",
              "      <td>0.049866</td>\n",
              "      <td>0.049629</td>\n",
              "    </tr>\n",
              "  </tbody>\n",
              "</table>\n",
              "<p>5 rows × 47 columns</p>\n",
              "</div>"
            ],
            "text/plain": [
              "   clicks  impressions                 AdURL     AdId  AdvId  Depth  Pos  \\\n",
              "0     0.0          1.0  14340390157469405184  4803006  23777      1    1   \n",
              "1     0.0          2.0  14340390157469405184  4803006  23777      2    1   \n",
              "2     0.0          1.0  14340390157469405184  4803006  23777      3    1   \n",
              "3     0.0          1.0  14340390157469405184  4803006  23777      2    1   \n",
              "4     0.0          1.0  14340390157469405184  4803006  23777      2    1   \n",
              "\n",
              "        QId  KeyId  TitleId    ...       pDepth      pPos      pQId    pKeyId  \\\n",
              "0  22997071   1929     2153    ...     0.049664  0.049843  0.049342  0.049461   \n",
              "1      2293   1929     2153    ...     0.049693  0.049843  0.049319  0.049461   \n",
              "2      2293   1929     2153    ...     0.049558  0.049843  0.049319  0.049461   \n",
              "3      2293   1929     2153    ...     0.049693  0.049843  0.049319  0.049461   \n",
              "4      2293   1929     2153    ...     0.049693  0.049843  0.049319  0.049461   \n",
              "\n",
              "   pTitleId   pDescId      pUId  pRPosition   pGender      pAge  \n",
              "0  0.049586  0.049586  0.049278    0.049664  0.049866  0.049710  \n",
              "1  0.049586  0.049586  0.049278    0.050043  0.049866  0.049710  \n",
              "2  0.049586  0.049586  0.050083    0.049986  0.049426  0.050099  \n",
              "3  0.049586  0.049586  0.049342    0.050043  0.049426  0.049710  \n",
              "4  0.049586  0.049586  0.049041    0.050043  0.049866  0.049629  \n",
              "\n",
              "[5 rows x 47 columns]"
            ]
          },
          "metadata": {
            "tags": []
          },
          "execution_count": 69
        }
      ]
    },
    {
      "cell_type": "code",
      "metadata": {
        "id": "aWxodS9zsX2X",
        "colab_type": "code",
        "outputId": "8c0f3265-c2ae-44ab-db34-71ae4ee35ef7",
        "colab": {}
      },
      "source": [
        "x_test.head()"
      ],
      "execution_count": 0,
      "outputs": [
        {
          "output_type": "execute_result",
          "data": {
            "text/html": [
              "<div>\n",
              "<style scoped>\n",
              "    .dataframe tbody tr th:only-of-type {\n",
              "        vertical-align: middle;\n",
              "    }\n",
              "\n",
              "    .dataframe tbody tr th {\n",
              "        vertical-align: top;\n",
              "    }\n",
              "\n",
              "    .dataframe thead th {\n",
              "        text-align: right;\n",
              "    }\n",
              "</style>\n",
              "<table border=\"1\" class=\"dataframe\">\n",
              "  <thead>\n",
              "    <tr style=\"text-align: right;\">\n",
              "      <th></th>\n",
              "      <th>clicks</th>\n",
              "      <th>impressions</th>\n",
              "      <th>AdURL</th>\n",
              "      <th>AdId</th>\n",
              "      <th>AdvId</th>\n",
              "      <th>Depth</th>\n",
              "      <th>Pos</th>\n",
              "      <th>QId</th>\n",
              "      <th>KeyId</th>\n",
              "      <th>TitleId</th>\n",
              "      <th>...</th>\n",
              "      <th>pDepth</th>\n",
              "      <th>pPos</th>\n",
              "      <th>pQId</th>\n",
              "      <th>pKeyId</th>\n",
              "      <th>pTitleId</th>\n",
              "      <th>pDescId</th>\n",
              "      <th>pUId</th>\n",
              "      <th>pRPosition</th>\n",
              "      <th>pGender</th>\n",
              "      <th>pAge</th>\n",
              "    </tr>\n",
              "  </thead>\n",
              "  <tbody>\n",
              "    <tr>\n",
              "      <th>0</th>\n",
              "      <td>0.0</td>\n",
              "      <td>1.0</td>\n",
              "      <td>15349556856043354112</td>\n",
              "      <td>22098439</td>\n",
              "      <td>36855</td>\n",
              "      <td>3</td>\n",
              "      <td>3</td>\n",
              "      <td>12875</td>\n",
              "      <td>89237</td>\n",
              "      <td>190</td>\n",
              "      <td>...</td>\n",
              "      <td>0.049664</td>\n",
              "      <td>0.049843</td>\n",
              "      <td>0.049342</td>\n",
              "      <td>0.049461</td>\n",
              "      <td>0.049586</td>\n",
              "      <td>0.049586</td>\n",
              "      <td>0.049278</td>\n",
              "      <td>0.049664</td>\n",
              "      <td>0.049866</td>\n",
              "      <td>0.049710</td>\n",
              "    </tr>\n",
              "    <tr>\n",
              "      <th>1</th>\n",
              "      <td>0.0</td>\n",
              "      <td>1.0</td>\n",
              "      <td>15349556856043354112</td>\n",
              "      <td>22098439</td>\n",
              "      <td>36855</td>\n",
              "      <td>3</td>\n",
              "      <td>2</td>\n",
              "      <td>12875</td>\n",
              "      <td>89237</td>\n",
              "      <td>190</td>\n",
              "      <td>...</td>\n",
              "      <td>0.049693</td>\n",
              "      <td>0.049843</td>\n",
              "      <td>0.049319</td>\n",
              "      <td>0.049461</td>\n",
              "      <td>0.049586</td>\n",
              "      <td>0.049586</td>\n",
              "      <td>0.049278</td>\n",
              "      <td>0.050043</td>\n",
              "      <td>0.049866</td>\n",
              "      <td>0.049710</td>\n",
              "    </tr>\n",
              "    <tr>\n",
              "      <th>2</th>\n",
              "      <td>0.0</td>\n",
              "      <td>1.0</td>\n",
              "      <td>15349556856043354112</td>\n",
              "      <td>22098439</td>\n",
              "      <td>36855</td>\n",
              "      <td>2</td>\n",
              "      <td>2</td>\n",
              "      <td>52877</td>\n",
              "      <td>89237</td>\n",
              "      <td>190</td>\n",
              "      <td>...</td>\n",
              "      <td>0.049558</td>\n",
              "      <td>0.049843</td>\n",
              "      <td>0.049319</td>\n",
              "      <td>0.049461</td>\n",
              "      <td>0.049586</td>\n",
              "      <td>0.049586</td>\n",
              "      <td>0.050083</td>\n",
              "      <td>0.049986</td>\n",
              "      <td>0.049426</td>\n",
              "      <td>0.050099</td>\n",
              "    </tr>\n",
              "    <tr>\n",
              "      <th>3</th>\n",
              "      <td>0.0</td>\n",
              "      <td>1.0</td>\n",
              "      <td>15349556856043354112</td>\n",
              "      <td>22098457</td>\n",
              "      <td>36855</td>\n",
              "      <td>2</td>\n",
              "      <td>1</td>\n",
              "      <td>33318</td>\n",
              "      <td>9782</td>\n",
              "      <td>190</td>\n",
              "      <td>...</td>\n",
              "      <td>0.049693</td>\n",
              "      <td>0.049843</td>\n",
              "      <td>0.049319</td>\n",
              "      <td>0.049461</td>\n",
              "      <td>0.049586</td>\n",
              "      <td>0.049586</td>\n",
              "      <td>0.049342</td>\n",
              "      <td>0.050043</td>\n",
              "      <td>0.049426</td>\n",
              "      <td>0.049710</td>\n",
              "    </tr>\n",
              "    <tr>\n",
              "      <th>4</th>\n",
              "      <td>0.0</td>\n",
              "      <td>1.0</td>\n",
              "      <td>15349556856043354112</td>\n",
              "      <td>22098457</td>\n",
              "      <td>36855</td>\n",
              "      <td>1</td>\n",
              "      <td>1</td>\n",
              "      <td>33318</td>\n",
              "      <td>9782</td>\n",
              "      <td>190</td>\n",
              "      <td>...</td>\n",
              "      <td>0.049693</td>\n",
              "      <td>0.049843</td>\n",
              "      <td>0.049319</td>\n",
              "      <td>0.049461</td>\n",
              "      <td>0.049586</td>\n",
              "      <td>0.049586</td>\n",
              "      <td>0.049041</td>\n",
              "      <td>0.050043</td>\n",
              "      <td>0.049866</td>\n",
              "      <td>0.049629</td>\n",
              "    </tr>\n",
              "  </tbody>\n",
              "</table>\n",
              "<p>5 rows × 47 columns</p>\n",
              "</div>"
            ],
            "text/plain": [
              "   clicks  impressions                 AdURL      AdId  AdvId  Depth  Pos  \\\n",
              "0     0.0          1.0  15349556856043354112  22098439  36855      3    3   \n",
              "1     0.0          1.0  15349556856043354112  22098439  36855      3    2   \n",
              "2     0.0          1.0  15349556856043354112  22098439  36855      2    2   \n",
              "3     0.0          1.0  15349556856043354112  22098457  36855      2    1   \n",
              "4     0.0          1.0  15349556856043354112  22098457  36855      1    1   \n",
              "\n",
              "     QId  KeyId  TitleId    ...       pDepth      pPos      pQId    pKeyId  \\\n",
              "0  12875  89237      190    ...     0.049664  0.049843  0.049342  0.049461   \n",
              "1  12875  89237      190    ...     0.049693  0.049843  0.049319  0.049461   \n",
              "2  52877  89237      190    ...     0.049558  0.049843  0.049319  0.049461   \n",
              "3  33318   9782      190    ...     0.049693  0.049843  0.049319  0.049461   \n",
              "4  33318   9782      190    ...     0.049693  0.049843  0.049319  0.049461   \n",
              "\n",
              "   pTitleId   pDescId      pUId  pRPosition   pGender      pAge  \n",
              "0  0.049586  0.049586  0.049278    0.049664  0.049866  0.049710  \n",
              "1  0.049586  0.049586  0.049278    0.050043  0.049866  0.049710  \n",
              "2  0.049586  0.049586  0.050083    0.049986  0.049426  0.050099  \n",
              "3  0.049586  0.049586  0.049342    0.050043  0.049426  0.049710  \n",
              "4  0.049586  0.049586  0.049041    0.050043  0.049866  0.049629  \n",
              "\n",
              "[5 rows x 47 columns]"
            ]
          },
          "metadata": {
            "tags": []
          },
          "execution_count": 70
        }
      ]
    },
    {
      "cell_type": "code",
      "metadata": {
        "id": "wEp1o88-sX2b",
        "colab_type": "code",
        "outputId": "49012521-90b6-4169-ece6-a791a1120529",
        "colab": {}
      },
      "source": [
        "start = datetime.now()\n",
        "\n",
        "x_cfl=XGBClassifier(n_estimators=455,max_depth=3,learning_rate=0.1373,colsample_bytree=0.65,subsample=1)\n",
        "x_cfl.fit(x_train,y_train,verbose=True)\n",
        "\n",
        "predict_y = x_cfl.predict(x_train)\n",
        "fpr, tpr, thresholds = metrics.roc_curve(y_train, predict_y, pos_label=1)\n",
        "print (\"The train score is:\",metrics.auc(fpr, tpr))\n",
        "\n",
        "predict_y = x_cfl.predict(x_test)\n",
        "fpr, tpr, thresholds = metrics.roc_curve(y_test, predict_y, pos_label=1)\n",
        "print(\"The test score is:\",metrics.auc(fpr, tpr))\n",
        "\n",
        "plot_confusion_matrix(y_test, predict_y)\n",
        "\n",
        "print(\"-\"*20, \"Feature Importance\", \"-\"*20)\n",
        "\n",
        "features = x_train.columns\n",
        "importances = x_cfl.feature_importances_\n",
        "indices = (np.argsort(importances))[-10:]\n",
        "plt.figure(figsize=(8,8))\n",
        "plt.title('Feature Importances')\n",
        "plt.barh(range(len(indices)), importances[indices], color='b', align='center')\n",
        "plt.yticks(range(len(indices)), [features[i] for i in indices])\n",
        "plt.xlabel('Relative Importance')\n",
        "plt.show()\n",
        "\n",
        "print(\"Time taken to run this cell :\", datetime.now() - start)"
      ],
      "execution_count": 0,
      "outputs": [
        {
          "output_type": "stream",
          "text": [
            "The train score is: 0.7567446759931792\n",
            "The test score is: 0.747859382264068\n",
            "-------------------- Confusion matrix --------------------\n"
          ],
          "name": "stdout"
        },
        {
          "output_type": "display_data",
          "data": {
            "image/png": "[encoded data removed]",
            "text/plain": [
              "<Figure size 720x288 with 2 Axes>"
            ]
          },
          "metadata": {
            "tags": []
          }
        },
        {
          "output_type": "stream",
          "text": [
            "-------------------- Feature Importance --------------------\n"
          ],
          "name": "stdout"
        },
        {
          "output_type": "display_data",
          "data": {
            "image/png": "[encoded data removed]",
            "text/plain": [
              "<Figure size 576x576 with 1 Axes>"
            ]
          },
          "metadata": {
            "tags": []
          }
        },
        {
          "output_type": "stream",
          "text": [
            "Time taken to run this cell : 0:12:10.394359\n"
          ],
          "name": "stdout"
        }
      ]
    },
    {
      "cell_type": "markdown",
      "metadata": {
        "id": "4H0Igp8wsX2i",
        "colab_type": "text"
      },
      "source": [
        "### Observations:"
      ]
    },
    {
      "cell_type": "markdown",
      "metadata": {
        "id": "WJ17_LknsX2j",
        "colab_type": "text"
      },
      "source": [
        "1. XGBoost is already a good starting point if the classes are not skewed too much, because it internally takes care that the bags it trains on are not imbalanced. But then again, the data is resampled, it is just happening secretly.\n",
        "\n",
        "\n",
        "2. We tried the hyperparameter tuning(n_estimators,max_depth,learning_rate,colsample_bytree,subsample) in differant notebook, used the values here, tried to tweak them and could see better results than Logistic regression.\n",
        "\n",
        "\n",
        "3. The scorimg metric we used here is auc which is equivalent to the probability that a random pair of a positive sample (clicked ad) and a negative one (unclicked ad) is ranked correctly.\n",
        "\n",
        "\n",
        "4. We tried to plot the confusion matrix inorder to better understand the results.\n",
        "\n",
        "\n",
        "5.  We tried to get feature importance to understand which features are important. Here we printed top 10 important features. We could see from the above feature importance plot that even raw ID features are very important.\n",
        "\n",
        "6. We tried using all the features engineered above, but using averageor mean CTR features only gave us better results.\n",
        "\n",
        "\n",
        "6. Here we got the result train score = 0.75 and test score  = 0.74 (improved just by tweaking the parameters)"
      ]
    },
    {
      "cell_type": "markdown",
      "metadata": {
        "id": "TpqhCsD1sX2k",
        "colab_type": "text"
      },
      "source": [
        "### Conclusion:"
      ]
    },
    {
      "cell_type": "code",
      "metadata": {
        "id": "D0XEa6klsX2l",
        "colab_type": "code",
        "outputId": "c619cd98-b6c3-495d-8e50-321316f1d115",
        "colab": {
          "base_uri": "https://localhost:8080/",
          "height": 187
        }
      },
      "source": [
        "x = PrettyTable()\n",
        "\n",
        "x.field_names = [\"Model\",\"Train Score %\",\"Test Score %\"]\n",
        "x.add_row([ \"Logistic Regression\",50,50])\n",
        "x.add_row([ \"SVM(RBF_kernel)\",50,50])\n",
        "x.add_row([ \"SVM(Linear)\",50,50])\n",
        "x.add_row([ \"Decision Tree\",76.46,70.75])\n",
        "x.add_row([ \"Random Forest\",78.54,71.22])\n",
        "x.add_row([ \"XGBOOST\",75.67,74.78])\n",
        "\n",
        "print(x)"
      ],
      "execution_count": 0,
      "outputs": [
        {
          "output_type": "stream",
          "text": [
            "+---------------------+---------------+--------------+\n",
            "|        Model        | Train Score % | Test Score % |\n",
            "+---------------------+---------------+--------------+\n",
            "| Logistic Regression |       50      |      50      |\n",
            "|   SVM(RBF_kernel)   |       50      |      50      |\n",
            "|     SVM(Linear)     |       50      |      50      |\n",
            "|    Decision Tree    |     76.46     |    70.75     |\n",
            "|    Random Forest    |     78.54     |    71.22     |\n",
            "|       XGBOOST       |     75.67     |    74.78     |\n",
            "+---------------------+---------------+--------------+\n"
          ],
          "name": "stdout"
        }
      ]
    },
    {
      "cell_type": "markdown",
      "metadata": {
        "id": "D6cBdjffsX2q",
        "colab_type": "text"
      },
      "source": [
        "From the above table we could observe that XGBOOST model beats Logistic Regression model as out of the box classifiers like Logistic Regression discards the rare classes."
      ]
    },
    {
      "cell_type": "markdown",
      "metadata": {
        "id": "IKX6xBthsX2r",
        "colab_type": "text"
      },
      "source": [
        "### Links:"
      ]
    },
    {
      "cell_type": "markdown",
      "metadata": {
        "id": "N4a-7R80sX2r",
        "colab_type": "text"
      },
      "source": [
        "How to use multiple parameters in apply function?\n",
        "\n",
        "https://stackoverflow.com/questions/34279378/python-pandas-apply-function-with-two-arguments-to-columns/34279543\n",
        "\n",
        "How to combine two lists as key and value pairs\n",
        "\n",
        "https://stackoverflow.com/questions/209840/convert-two-lists-into-a-dictionary-in-python\n",
        "\n",
        "how to deal with highly imbalanced data?\n",
        "\n",
        "https://www.kdnuggets.com/2017/06/7-techniques-handle-imbalanced-data.html\n",
        "https://towardsdatascience.com/methods-for-dealing-with-imbalanced-data-5b761be45a18\n",
        "\n",
        "Documentation:\n",
        "Metrics:\n",
        "\n",
        "https://scikit-learn.org/stable/modules/classes.html\n",
        "\n",
        "https://scikit-learn.org/stable/modules/generated/sklearn.feature_extraction.text.TfidfVectorizer.html\n",
        "https://scikit-learn.org/stable/modules/generated/sklearn.metrics.roc_curve.html\n",
        "https://scikit-learn.org/stable/modules/generated/sklearn.metrics.auc.html\n",
        "https://www.dataschool.io/roc-curves-and-auc-explained/\n",
        "\n",
        "\n",
        "Referred:\n",
        "\n",
        "https://jyunyu.csie.org/docs/pubs/kddcup2012paper.pdf \n",
        "\n"
      ]
    },
    {
      "cell_type": "code",
      "metadata": {
        "id": "jtOcgehIsX2s",
        "colab_type": "code",
        "outputId": "ffd2e4bb-cc4f-48f6-f3b8-e897781a17df",
        "colab": {
          "base_uri": "https://localhost:8080/",
          "height": 54
        }
      },
      "source": [
        "'''<!--Table-->\n",
        "<table id=\"tablePreview\" class=\"table table-hover table-striped\">\n",
        "<!--Table head-->\n",
        "  <thead>\n",
        "    <tr>\n",
        "      <th></th>\n",
        "      <th><b>Model</b></th>\n",
        "      <th><b>Train Score %</b></th>\n",
        "      <th><b>Test Score %</b></th>\n",
        "      \n",
        "    </tr>\n",
        "  </thead>\n",
        "  <!--Table head-->\n",
        "  <!--Table body-->\n",
        "  <tbody>\n",
        "    <tr>\n",
        "      <th scope=\"row\">1</th>\n",
        "      <td>Logistic Regression</td>\n",
        "      <td>50</td>\n",
        "      <td>50</td>\n",
        "    </tr>\n",
        "    <tr>\n",
        "      <th scope=\"row\">2</th>\n",
        "      <td>SVM(RBF_kernel)</td>\n",
        "      <td>50</td>\n",
        "      <td>50</td>\n",
        "    </tr>\n",
        "    <tr>\n",
        "      <th scope=\"row\">3</th>\n",
        "      <td>SVM(Linear) </td>\n",
        "      <td>50</td>\n",
        "      <td>50</td>\n",
        "    </tr>\n",
        "       <tr>\n",
        "      <th scope=\"row\">4</th>\n",
        "      <td>Decision Tree</td>\n",
        "      <td>76.46</td>\n",
        "      <td>70.75</td>\n",
        "    </tr>\n",
        "        <tr>\n",
        "      <th scope=\"row\">5</th>\n",
        "      <td>Random Forest</td>\n",
        "      <td>78.54</td>\n",
        "      <td>71.22</td>\n",
        "    </tr>\n",
        "        <tr>\n",
        "      <th scope=\"row\">6</th>\n",
        "      <td>XGBoost</td>\n",
        "      <td>75.67</td>\n",
        "      <td>74.78</td>\n",
        "    </tr>\n",
        "    \n",
        "  </tbody>\n",
        "  <!--Table body-->\n",
        "</table>\n",
        "<!--Table-->'''"
      ],
      "execution_count": 0,
      "outputs": [
        {
          "output_type": "execute_result",
          "data": {
            "text/plain": [
              "'<!--Table-->\\n<table id=\"tablePreview\" class=\"table table-hover table-striped\">\\n<!--Table head-->\\n  <thead>\\n    <tr>\\n      <th></th>\\n      <th><b>Model</b></th>\\n      <th><b>Train Score %</b></th>\\n      <th><b>Test Score %</b></th>\\n      \\n    </tr>\\n  </thead>\\n  <!--Table head-->\\n  <!--Table body-->\\n  <tbody>\\n    <tr>\\n      <th scope=\"row\">1</th>\\n      <td>Logistic Regression</td>\\n      <td>50</td>\\n      <td>50</td>\\n    </tr>\\n    <tr>\\n      <th scope=\"row\">2</th>\\n      <td>SVM(RBF_kernel)</td>\\n      <td>50</td>\\n      <td>50</td>\\n    </tr>\\n    <tr>\\n      <th scope=\"row\">3</th>\\n      <td>SVM(Linear) </td>\\n      <td>50</td>\\n      <td>50</td>\\n    </tr>\\n       <tr>\\n      <th scope=\"row\">4</th>\\n      <td>Decision Tree</td>\\n      <td>76.46</td>\\n      <td>70.75</td>\\n    </tr>\\n        <tr>\\n      <th scope=\"row\">5</th>\\n      <td>Random Forest</td>\\n      <td>78.54</td>\\n      <td>71.22</td>\\n    </tr>\\n        <tr>\\n      <th scope=\"row\">6</th>\\n      <td>XGBoost</td>\\n      <td>75.67</td>\\n      <td>74.78</td>\\n    </tr>\\n    \\n  </tbody>\\n  <!--Table body-->\\n</table>\\n<!--Table-->'"
            ]
          },
          "metadata": {
            "tags": []
          },
          "execution_count": 6
        }
      ]
    }
  ]
}